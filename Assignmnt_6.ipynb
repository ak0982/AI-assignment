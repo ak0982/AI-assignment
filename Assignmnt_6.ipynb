{
  "nbformat": 4,
  "nbformat_minor": 0,
  "metadata": {
    "colab": {
      "name": "Assignmnt-6",
      "provenance": [],
      "collapsed_sections": [
        "zeZ0_IItdRI7",
        "CymAl37fGZ1g"
      ],
      "include_colab_link": true
    },
    "kernelspec": {
      "display_name": "Python 3",
      "name": "python3"
    }
  },
  "cells": [
    {
      "cell_type": "markdown",
      "metadata": {
        "id": "view-in-github",
        "colab_type": "text"
      },
      "source": [
        "<a href=\"https://colab.research.google.com/github/ak0982/AI-assignment/blob/master/Assignmnt_6.ipynb\" target=\"_parent\"><img src=\"https://colab.research.google.com/assets/colab-badge.svg\" alt=\"Open In Colab\"/></a>"
      ]
    },
    {
      "cell_type": "markdown",
      "metadata": {
        "id": "3jxMEQ-OH304"
      },
      "source": [
        "**ASSIGNMEMNT 6              \n",
        "NAME-->AMAR KUMAR            \n",
        "ROLL NO--> 1801016**"
      ]
    },
    {
      "cell_type": "code",
      "metadata": {
        "id": "wbkqgqsLF8y2"
      },
      "source": [
        "import pandas as pd\n",
        "import numpy as np\n",
        "import matplotlib.pyplot as plt\n",
        "import csv\n",
        "import math\n",
        "from sklearn.model_selection import train_test_split as tts\n",
        "from math import sqrt\n",
        "import warnings\n",
        "from sklearn.preprocessing import LabelEncoder\n",
        "from sklearn import datasets\n",
        "import random\n",
        "from sklearn.datasets import load_iris\n",
        "\n"
      ],
      "execution_count": 109,
      "outputs": []
    },
    {
      "cell_type": "markdown",
      "metadata": {
        "id": "zeZ0_IItdRI7"
      },
      "source": [
        "# Q1.Single layer perceptron for Iris Dataset"
      ]
    },
    {
      "cell_type": "code",
      "metadata": {
        "id": "IludJL8_GO-G",
        "outputId": "36e39346-d30f-43dc-d93e-5007519ac0c3",
        "colab": {
          "base_uri": "https://localhost:8080/",
          "height": 288
        }
      },
      "source": [
        "dataset = pd.read_csv('https://archive.ics.uci.edu/ml/machine-learning-databases/iris/iris.data',  names = ['sepal_length', 'sepal_width', 'petal_length', 'petal_width', 'class'])\n",
        "dataset.describe()"
      ],
      "execution_count": 28,
      "outputs": [
        {
          "output_type": "execute_result",
          "data": {
            "text/html": [
              "<div>\n",
              "<style scoped>\n",
              "    .dataframe tbody tr th:only-of-type {\n",
              "        vertical-align: middle;\n",
              "    }\n",
              "\n",
              "    .dataframe tbody tr th {\n",
              "        vertical-align: top;\n",
              "    }\n",
              "\n",
              "    .dataframe thead th {\n",
              "        text-align: right;\n",
              "    }\n",
              "</style>\n",
              "<table border=\"1\" class=\"dataframe\">\n",
              "  <thead>\n",
              "    <tr style=\"text-align: right;\">\n",
              "      <th></th>\n",
              "      <th>sepal_length</th>\n",
              "      <th>sepal_width</th>\n",
              "      <th>petal_length</th>\n",
              "      <th>petal_width</th>\n",
              "    </tr>\n",
              "  </thead>\n",
              "  <tbody>\n",
              "    <tr>\n",
              "      <th>count</th>\n",
              "      <td>150.000000</td>\n",
              "      <td>150.000000</td>\n",
              "      <td>150.000000</td>\n",
              "      <td>150.000000</td>\n",
              "    </tr>\n",
              "    <tr>\n",
              "      <th>mean</th>\n",
              "      <td>5.843333</td>\n",
              "      <td>3.054000</td>\n",
              "      <td>3.758667</td>\n",
              "      <td>1.198667</td>\n",
              "    </tr>\n",
              "    <tr>\n",
              "      <th>std</th>\n",
              "      <td>0.828066</td>\n",
              "      <td>0.433594</td>\n",
              "      <td>1.764420</td>\n",
              "      <td>0.763161</td>\n",
              "    </tr>\n",
              "    <tr>\n",
              "      <th>min</th>\n",
              "      <td>4.300000</td>\n",
              "      <td>2.000000</td>\n",
              "      <td>1.000000</td>\n",
              "      <td>0.100000</td>\n",
              "    </tr>\n",
              "    <tr>\n",
              "      <th>25%</th>\n",
              "      <td>5.100000</td>\n",
              "      <td>2.800000</td>\n",
              "      <td>1.600000</td>\n",
              "      <td>0.300000</td>\n",
              "    </tr>\n",
              "    <tr>\n",
              "      <th>50%</th>\n",
              "      <td>5.800000</td>\n",
              "      <td>3.000000</td>\n",
              "      <td>4.350000</td>\n",
              "      <td>1.300000</td>\n",
              "    </tr>\n",
              "    <tr>\n",
              "      <th>75%</th>\n",
              "      <td>6.400000</td>\n",
              "      <td>3.300000</td>\n",
              "      <td>5.100000</td>\n",
              "      <td>1.800000</td>\n",
              "    </tr>\n",
              "    <tr>\n",
              "      <th>max</th>\n",
              "      <td>7.900000</td>\n",
              "      <td>4.400000</td>\n",
              "      <td>6.900000</td>\n",
              "      <td>2.500000</td>\n",
              "    </tr>\n",
              "  </tbody>\n",
              "</table>\n",
              "</div>"
            ],
            "text/plain": [
              "       sepal_length  sepal_width  petal_length  petal_width\n",
              "count    150.000000   150.000000    150.000000   150.000000\n",
              "mean       5.843333     3.054000      3.758667     1.198667\n",
              "std        0.828066     0.433594      1.764420     0.763161\n",
              "min        4.300000     2.000000      1.000000     0.100000\n",
              "25%        5.100000     2.800000      1.600000     0.300000\n",
              "50%        5.800000     3.000000      4.350000     1.300000\n",
              "75%        6.400000     3.300000      5.100000     1.800000\n",
              "max        7.900000     4.400000      6.900000     2.500000"
            ]
          },
          "metadata": {
            "tags": []
          },
          "execution_count": 28
        }
      ]
    },
    {
      "cell_type": "code",
      "metadata": {
        "id": "IYmhqtwPrBm8"
      },
      "source": [
        "X = dataset.iloc[:,0:4]\n",
        "Y = pd.DataFrame(dataset.iloc[:,-1])"
      ],
      "execution_count": 29,
      "outputs": []
    },
    {
      "cell_type": "code",
      "metadata": {
        "id": "w6pGP7CXM2Zd",
        "outputId": "44f2eeac-cac4-4384-a10b-6ab08d24ecf9",
        "colab": {
          "base_uri": "https://localhost:8080/",
          "height": 198
        }
      },
      "source": [
        "X.head()"
      ],
      "execution_count": 30,
      "outputs": [
        {
          "output_type": "execute_result",
          "data": {
            "text/html": [
              "<div>\n",
              "<style scoped>\n",
              "    .dataframe tbody tr th:only-of-type {\n",
              "        vertical-align: middle;\n",
              "    }\n",
              "\n",
              "    .dataframe tbody tr th {\n",
              "        vertical-align: top;\n",
              "    }\n",
              "\n",
              "    .dataframe thead th {\n",
              "        text-align: right;\n",
              "    }\n",
              "</style>\n",
              "<table border=\"1\" class=\"dataframe\">\n",
              "  <thead>\n",
              "    <tr style=\"text-align: right;\">\n",
              "      <th></th>\n",
              "      <th>sepal_length</th>\n",
              "      <th>sepal_width</th>\n",
              "      <th>petal_length</th>\n",
              "      <th>petal_width</th>\n",
              "    </tr>\n",
              "  </thead>\n",
              "  <tbody>\n",
              "    <tr>\n",
              "      <th>0</th>\n",
              "      <td>5.1</td>\n",
              "      <td>3.5</td>\n",
              "      <td>1.4</td>\n",
              "      <td>0.2</td>\n",
              "    </tr>\n",
              "    <tr>\n",
              "      <th>1</th>\n",
              "      <td>4.9</td>\n",
              "      <td>3.0</td>\n",
              "      <td>1.4</td>\n",
              "      <td>0.2</td>\n",
              "    </tr>\n",
              "    <tr>\n",
              "      <th>2</th>\n",
              "      <td>4.7</td>\n",
              "      <td>3.2</td>\n",
              "      <td>1.3</td>\n",
              "      <td>0.2</td>\n",
              "    </tr>\n",
              "    <tr>\n",
              "      <th>3</th>\n",
              "      <td>4.6</td>\n",
              "      <td>3.1</td>\n",
              "      <td>1.5</td>\n",
              "      <td>0.2</td>\n",
              "    </tr>\n",
              "    <tr>\n",
              "      <th>4</th>\n",
              "      <td>5.0</td>\n",
              "      <td>3.6</td>\n",
              "      <td>1.4</td>\n",
              "      <td>0.2</td>\n",
              "    </tr>\n",
              "  </tbody>\n",
              "</table>\n",
              "</div>"
            ],
            "text/plain": [
              "   sepal_length  sepal_width  petal_length  petal_width\n",
              "0           5.1          3.5           1.4          0.2\n",
              "1           4.9          3.0           1.4          0.2\n",
              "2           4.7          3.2           1.3          0.2\n",
              "3           4.6          3.1           1.5          0.2\n",
              "4           5.0          3.6           1.4          0.2"
            ]
          },
          "metadata": {
            "tags": []
          },
          "execution_count": 30
        }
      ]
    },
    {
      "cell_type": "code",
      "metadata": {
        "id": "lWcLDsvqSwC-",
        "outputId": "5357ba4e-6a8c-4779-fc05-24cbe234673c",
        "colab": {
          "base_uri": "https://localhost:8080/",
          "height": 198
        }
      },
      "source": [
        "labels = {0:\"Iris-setosa\",1:\"Iris-versicolor\",2:\"Iris-virginica\"}\n",
        "lb = LabelEncoder()\n",
        "Y['class'] = lb.fit_transform(Y)\n",
        "Y.head()"
      ],
      "execution_count": 31,
      "outputs": [
        {
          "output_type": "execute_result",
          "data": {
            "text/html": [
              "<div>\n",
              "<style scoped>\n",
              "    .dataframe tbody tr th:only-of-type {\n",
              "        vertical-align: middle;\n",
              "    }\n",
              "\n",
              "    .dataframe tbody tr th {\n",
              "        vertical-align: top;\n",
              "    }\n",
              "\n",
              "    .dataframe thead th {\n",
              "        text-align: right;\n",
              "    }\n",
              "</style>\n",
              "<table border=\"1\" class=\"dataframe\">\n",
              "  <thead>\n",
              "    <tr style=\"text-align: right;\">\n",
              "      <th></th>\n",
              "      <th>class</th>\n",
              "    </tr>\n",
              "  </thead>\n",
              "  <tbody>\n",
              "    <tr>\n",
              "      <th>0</th>\n",
              "      <td>0</td>\n",
              "    </tr>\n",
              "    <tr>\n",
              "      <th>1</th>\n",
              "      <td>0</td>\n",
              "    </tr>\n",
              "    <tr>\n",
              "      <th>2</th>\n",
              "      <td>0</td>\n",
              "    </tr>\n",
              "    <tr>\n",
              "      <th>3</th>\n",
              "      <td>0</td>\n",
              "    </tr>\n",
              "    <tr>\n",
              "      <th>4</th>\n",
              "      <td>0</td>\n",
              "    </tr>\n",
              "  </tbody>\n",
              "</table>\n",
              "</div>"
            ],
            "text/plain": [
              "   class\n",
              "0      0\n",
              "1      0\n",
              "2      0\n",
              "3      0\n",
              "4      0"
            ]
          },
          "metadata": {
            "tags": []
          },
          "execution_count": 31
        }
      ]
    },
    {
      "cell_type": "code",
      "metadata": {
        "id": "TU7cJEH0p5zj"
      },
      "source": [
        "#threshold Activation Function\n",
        "\n",
        "def Activation(input,weight):\n",
        "  total_sum=np.dot(input,weight[1:])+weight[0]\n",
        "  if total_sum>0:\n",
        "    activation=1\n",
        "  else :\n",
        "    activation=0\n",
        "  return activation"
      ],
      "execution_count": 32,
      "outputs": []
    },
    {
      "cell_type": "code",
      "metadata": {
        "id": "XZdOc_2Qp-IC"
      },
      "source": [
        "#Train model\n",
        "\n",
        "\n",
        "def Train_model(input,output,epoch,learning_rate):\n",
        "  weight = []\n",
        "  for i in range(input.shape[1]+1):\n",
        "    weight.append(round(random.uniform(-0.3,0.3),2))\n",
        "\n",
        "  for _ in range(epoch):\n",
        "    for inputs,outputs in zip(input,output):\n",
        "      activation=Activation(inputs,weight)\n",
        "      sum = learning_rate * (outputs-activation)\n",
        "      weight[1:]+=sum * inputs \n",
        "      weight[0]+=sum\n",
        "\n",
        "  return weight"
      ],
      "execution_count": 33,
      "outputs": []
    },
    {
      "cell_type": "code",
      "metadata": {
        "id": "U7Cd9IrCvcr-"
      },
      "source": [
        "#prediction \n",
        "\n",
        "\n",
        "def predict(X,w):\n",
        "    Y_pred = np.empty((X.shape[0], 0))\n",
        "    for i in range(len(w)):\n",
        "        Y_pred = np.append(Y_pred, (np.dot(X, w[i])), axis=1)\n",
        "    \n",
        "    return np.argmax(Y_pred, axis=1).reshape(X.shape[0], 1)"
      ],
      "execution_count": 34,
      "outputs": []
    },
    {
      "cell_type": "code",
      "metadata": {
        "id": "h-9laK6dFcVo"
      },
      "source": [
        "#Finding Accuracy\n",
        "\n",
        "def Accuracy(Y_pred,y):\n",
        "    difference = Y_pred - np.array(y)\n",
        "    num_correct = 0\n",
        "    for elem in range(difference.shape[0]):\n",
        "        if difference[elem]==0:\n",
        "            num_correct += 1\n",
        "\n",
        "    score = num_correct * 100 / difference.size\n",
        "    return score"
      ],
      "execution_count": 35,
      "outputs": []
    },
    {
      "cell_type": "code",
      "metadata": {
        "id": "nquQd6gskb-K"
      },
      "source": [
        "\n",
        "\n",
        "def find_score(x_train,y_train,class_values,x_test,y_test):\n",
        "\n",
        "  #training the model for all the classes\n",
        "  w_class1 = np.asarray(Train_model(x_train.to_numpy(),class_values[0],100,0.1))\n",
        "  w_class2 = np.asarray(Train_model(x_train.to_numpy(),class_values[1],100,0.1))\n",
        "  w_class3 = np.asarray(Train_model(x_train.to_numpy(),class_values[2],100,0.1))\n",
        "\n",
        "  train_result = predict(x_train, [w_class1[1:].reshape(-1, 1), w_class2[1:].reshape(-1, 1), w_class3[1:].reshape(-1, 1)])\n",
        "  train_score = Accuracy(train_result,y_train.to_numpy())\n",
        "  \n",
        "  test_result = predict(x_test, [w_class1[1:].reshape(-1, 1), w_class2[1:].reshape(-1, 1), w_class3[1:].reshape(-1, 1)])\n",
        "  test_score = Accuracy(test_result,y_test.to_numpy())\n",
        "  \n",
        "  return train_score,test_score"
      ],
      "execution_count": 36,
      "outputs": []
    },
    {
      "cell_type": "code",
      "metadata": {
        "id": "70C5i4NpkbtB"
      },
      "source": [
        "\n",
        "def split_for_score(X,Y,size):\n",
        "  \n",
        "  train_acc , test_acc = 0,0\n",
        "\n",
        "  for i in range(10):\n",
        "\n",
        "    x_train,x_test,y_train,y_test = tts(X,Y,train_size=size)\n",
        "    \n",
        "    class_1 = np.where(y_train==0,1,0)\n",
        "    class_2 = np.where(y_train==1,1,0)\n",
        "    class_3 = np.where(y_train==2,1,0)\n",
        "\n",
        "    train_score , test_score = find_score(x_train,y_train,[class_1,class_2,class_3],x_test,y_test)\n",
        "\n",
        "    train_acc +=train_score\n",
        "    test_acc +=test_score\n",
        "\n",
        "  return train_acc/10, test_acc/10"
      ],
      "execution_count": 37,
      "outputs": []
    },
    {
      "cell_type": "code",
      "metadata": {
        "id": "223AhLaq02Pi"
      },
      "source": [
        "# storing for each train_size train accuracy and test Accuracy\n",
        "\n",
        "training_Accuracy = []\n",
        "testing_Accuracy = []"
      ],
      "execution_count": 38,
      "outputs": []
    },
    {
      "cell_type": "markdown",
      "metadata": {
        "id": "7PZMT5hW7VX0"
      },
      "source": [
        "* **For Training Data(10%)**"
      ]
    },
    {
      "cell_type": "code",
      "metadata": {
        "id": "LKsPv2iD7VQ-",
        "outputId": "48af406e-a094-438d-fa9d-442ce9fab1e3",
        "colab": {
          "base_uri": "https://localhost:8080/",
          "height": 69
        }
      },
      "source": [
        "#for training size 10%\n",
        "\n",
        "train_size = 0.1\n",
        "\n",
        "train_acc , test_acc = split_for_score(X,Y,train_size)\n",
        "\n",
        "print(\"FOR TRAIN SIZE :{}%\".format(train_size*100))\n",
        "\n",
        "print(\"Training Accuracy  : {:.2f}%\".format(train_acc))\n",
        "\n",
        "print(\"Testing Accuracy  : {:.2f}%\".format(test_acc))\n",
        "\n",
        "training_Accuracy.append(train_acc)\n",
        "testing_Accuracy.append(test_acc)"
      ],
      "execution_count": 39,
      "outputs": [
        {
          "output_type": "stream",
          "text": [
            "FOR TRAIN SIZE :10.0%\n",
            "Training Accuracy  : 73.33%\n",
            "Testing Accuracy  : 69.56%\n"
          ],
          "name": "stdout"
        }
      ]
    },
    {
      "cell_type": "markdown",
      "metadata": {
        "id": "L2V3N4Ca7lLE"
      },
      "source": [
        "* **For Training Data(20%)**"
      ]
    },
    {
      "cell_type": "code",
      "metadata": {
        "id": "6iwPvcCg7VMo",
        "outputId": "b13c898c-f1c0-486e-d242-ac7ffc2b09db",
        "colab": {
          "base_uri": "https://localhost:8080/",
          "height": 69
        }
      },
      "source": [
        "#for training size 20%\n",
        "\n",
        "train_size = 0.2\n",
        "\n",
        "train_acc , test_acc = split_for_score(X,Y,train_size)\n",
        "\n",
        "print(\"FOR TRAIN SIZE :{}%\".format(train_size*100))\n",
        "\n",
        "print(\"Training Accuracy  : {:.2f}%\".format(train_acc))\n",
        "\n",
        "print(\"Testing Accuracy  : {:.2f}%\".format(test_acc))\n",
        "\n",
        "training_Accuracy.append(train_acc)\n",
        "testing_Accuracy.append(test_acc)"
      ],
      "execution_count": 40,
      "outputs": [
        {
          "output_type": "stream",
          "text": [
            "FOR TRAIN SIZE :20.0%\n",
            "Training Accuracy  : 67.67%\n",
            "Testing Accuracy  : 64.17%\n"
          ],
          "name": "stdout"
        }
      ]
    },
    {
      "cell_type": "markdown",
      "metadata": {
        "id": "CZSAurOm7yxY"
      },
      "source": [
        "* **For Training Data(30%)**"
      ]
    },
    {
      "cell_type": "code",
      "metadata": {
        "id": "WyNyliZw7VIi",
        "outputId": "a0596292-47e6-4b1d-f544-56304d814109",
        "colab": {
          "base_uri": "https://localhost:8080/",
          "height": 69
        }
      },
      "source": [
        "#for training size 30%\n",
        "\n",
        "\n",
        "train_size = 0.3\n",
        "\n",
        "train_acc , test_acc = split_for_score(X,Y,train_size)\n",
        "\n",
        "print(\"FOR TRAIN SIZE :{}%\".format(train_size*100))\n",
        "\n",
        "print(\"Training Accuracy  : {:.2f}%\".format(train_acc))\n",
        "\n",
        "print(\"Testing Accuracy  : {:.2f}%\".format(test_acc))\n",
        "\n",
        "training_Accuracy.append(train_acc)\n",
        "testing_Accuracy.append(test_acc)"
      ],
      "execution_count": 41,
      "outputs": [
        {
          "output_type": "stream",
          "text": [
            "FOR TRAIN SIZE :30.0%\n",
            "Training Accuracy  : 72.22%\n",
            "Testing Accuracy  : 70.19%\n"
          ],
          "name": "stdout"
        }
      ]
    },
    {
      "cell_type": "markdown",
      "metadata": {
        "id": "IyEC58O4716S"
      },
      "source": [
        "* **For Training Data(40%)**"
      ]
    },
    {
      "cell_type": "code",
      "metadata": {
        "id": "nzbE9Yv17VEM",
        "outputId": "2095797b-b2e5-4031-eb3e-e29703ce0159",
        "colab": {
          "base_uri": "https://localhost:8080/",
          "height": 69
        }
      },
      "source": [
        "#for training size 40%\n",
        "\n",
        "\n",
        "train_size = 0.4\n",
        "\n",
        "train_acc , test_acc = split_for_score(X,Y,train_size)\n",
        "\n",
        "print(\"FOR TRAIN SIZE :{}%\".format(train_size*100))\n",
        "\n",
        "print(\"Training Accuracy  : {:.2f}%\".format(train_acc))\n",
        "\n",
        "print(\"Testing Accuracy  : {:.2f}%\".format(test_acc))\n",
        "\n",
        "training_Accuracy.append(train_acc)\n",
        "testing_Accuracy.append(test_acc)"
      ],
      "execution_count": 42,
      "outputs": [
        {
          "output_type": "stream",
          "text": [
            "FOR TRAIN SIZE :40.0%\n",
            "Training Accuracy  : 75.33%\n",
            "Testing Accuracy  : 71.11%\n"
          ],
          "name": "stdout"
        }
      ]
    },
    {
      "cell_type": "markdown",
      "metadata": {
        "id": "choMqTMy74-A"
      },
      "source": [
        "* **For Training Data(50%)**"
      ]
    },
    {
      "cell_type": "code",
      "metadata": {
        "id": "wZ1DxFOT7U_r",
        "outputId": "1546a15e-015a-436f-ded0-48ab7c095766",
        "colab": {
          "base_uri": "https://localhost:8080/",
          "height": 69
        }
      },
      "source": [
        "#for training size 50%\n",
        "\n",
        "train_size = 0.5\n",
        "\n",
        "train_acc , test_acc = split_for_score(X,Y,train_size)\n",
        "\n",
        "print(\"FOR TRAIN SIZE :{}%\".format(train_size*100))\n",
        "\n",
        "print(\"Training Accuracy  : {:.2f}%\".format(train_acc))\n",
        "\n",
        "print(\"Testing Accuracy  : {:.2f}%\".format(test_acc))\n",
        "\n",
        "training_Accuracy.append(train_acc)\n",
        "testing_Accuracy.append(test_acc)"
      ],
      "execution_count": 43,
      "outputs": [
        {
          "output_type": "stream",
          "text": [
            "FOR TRAIN SIZE :50.0%\n",
            "Training Accuracy  : 69.07%\n",
            "Testing Accuracy  : 71.07%\n"
          ],
          "name": "stdout"
        }
      ]
    },
    {
      "cell_type": "markdown",
      "metadata": {
        "id": "cx7TzIHm77ZZ"
      },
      "source": [
        "* **For Training Data(60%)**"
      ]
    },
    {
      "cell_type": "code",
      "metadata": {
        "id": "HbvTPoAs7U6p",
        "outputId": "923a63f2-fd08-494e-dd44-94338f896f94",
        "colab": {
          "base_uri": "https://localhost:8080/",
          "height": 69
        }
      },
      "source": [
        "#for training size 60%\n",
        "\n",
        "train_size = 0.6\n",
        "\n",
        "train_acc , test_acc = split_for_score(X,Y,train_size)\n",
        "\n",
        "print(\"FOR TRAIN SIZE :{}%\".format(train_size*100))\n",
        "\n",
        "print(\"Training Accuracy  : {:.2f}%\".format(train_acc))\n",
        "\n",
        "print(\"Testing Accuracy  : {:.2f}%\".format(test_acc))\n",
        "\n",
        "training_Accuracy.append(train_acc)\n",
        "testing_Accuracy.append(test_acc)"
      ],
      "execution_count": 44,
      "outputs": [
        {
          "output_type": "stream",
          "text": [
            "FOR TRAIN SIZE :60.0%\n",
            "Training Accuracy  : 69.22%\n",
            "Testing Accuracy  : 70.17%\n"
          ],
          "name": "stdout"
        }
      ]
    },
    {
      "cell_type": "code",
      "metadata": {
        "id": "4zK2S9M4B7n6",
        "outputId": "16b5b030-8083-4bf3-af25-f24a7b79c15b",
        "colab": {
          "base_uri": "https://localhost:8080/",
          "height": 52
        }
      },
      "source": [
        "print(training_Accuracy)\n",
        "print(testing_Accuracy)"
      ],
      "execution_count": 45,
      "outputs": [
        {
          "output_type": "stream",
          "text": [
            "[73.33333333333334, 67.66666666666667, 72.2222222222222, 75.33333333333334, 69.06666666666668, 69.22222222222223]\n",
            "[69.55555555555556, 64.16666666666667, 70.19047619047619, 71.11111111111111, 71.06666666666668, 70.16666666666666]\n"
          ],
          "name": "stdout"
        }
      ]
    },
    {
      "cell_type": "markdown",
      "metadata": {
        "id": "YYSaaZGO8Jbv"
      },
      "source": [
        "* **Overall Table**"
      ]
    },
    {
      "cell_type": "code",
      "metadata": {
        "id": "tHtQl4Bk6AeR",
        "outputId": "aa073d36-e6cc-4823-ef71-08134e3a3156",
        "colab": {
          "base_uri": "https://localhost:8080/",
          "height": 228
        }
      },
      "source": [
        "#table of all outcomes\n",
        "\n",
        "Amount_of_training_data = ['10%','20%','30%','40%','50%','60%']\n",
        "Table = pd.DataFrame()\n",
        "Table['Amount_of_training_data'] = Amount_of_training_data \n",
        "Table['Training Accuracy'] = training_Accuracy\n",
        "Table['Test Accuracy'] = testing_Accuracy \n",
        "Table.to_csv('table_data.csv')\n",
        "Table"
      ],
      "execution_count": 46,
      "outputs": [
        {
          "output_type": "execute_result",
          "data": {
            "text/html": [
              "<div>\n",
              "<style scoped>\n",
              "    .dataframe tbody tr th:only-of-type {\n",
              "        vertical-align: middle;\n",
              "    }\n",
              "\n",
              "    .dataframe tbody tr th {\n",
              "        vertical-align: top;\n",
              "    }\n",
              "\n",
              "    .dataframe thead th {\n",
              "        text-align: right;\n",
              "    }\n",
              "</style>\n",
              "<table border=\"1\" class=\"dataframe\">\n",
              "  <thead>\n",
              "    <tr style=\"text-align: right;\">\n",
              "      <th></th>\n",
              "      <th>Amount_of_training_data</th>\n",
              "      <th>Training Accuracy</th>\n",
              "      <th>Test Accuracy</th>\n",
              "    </tr>\n",
              "  </thead>\n",
              "  <tbody>\n",
              "    <tr>\n",
              "      <th>0</th>\n",
              "      <td>10%</td>\n",
              "      <td>73.333333</td>\n",
              "      <td>69.555556</td>\n",
              "    </tr>\n",
              "    <tr>\n",
              "      <th>1</th>\n",
              "      <td>20%</td>\n",
              "      <td>67.666667</td>\n",
              "      <td>64.166667</td>\n",
              "    </tr>\n",
              "    <tr>\n",
              "      <th>2</th>\n",
              "      <td>30%</td>\n",
              "      <td>72.222222</td>\n",
              "      <td>70.190476</td>\n",
              "    </tr>\n",
              "    <tr>\n",
              "      <th>3</th>\n",
              "      <td>40%</td>\n",
              "      <td>75.333333</td>\n",
              "      <td>71.111111</td>\n",
              "    </tr>\n",
              "    <tr>\n",
              "      <th>4</th>\n",
              "      <td>50%</td>\n",
              "      <td>69.066667</td>\n",
              "      <td>71.066667</td>\n",
              "    </tr>\n",
              "    <tr>\n",
              "      <th>5</th>\n",
              "      <td>60%</td>\n",
              "      <td>69.222222</td>\n",
              "      <td>70.166667</td>\n",
              "    </tr>\n",
              "  </tbody>\n",
              "</table>\n",
              "</div>"
            ],
            "text/plain": [
              "  Amount_of_training_data  Training Accuracy  Test Accuracy\n",
              "0                     10%          73.333333      69.555556\n",
              "1                     20%          67.666667      64.166667\n",
              "2                     30%          72.222222      70.190476\n",
              "3                     40%          75.333333      71.111111\n",
              "4                     50%          69.066667      71.066667\n",
              "5                     60%          69.222222      70.166667"
            ]
          },
          "metadata": {
            "tags": []
          },
          "execution_count": 46
        }
      ]
    },
    {
      "cell_type": "markdown",
      "metadata": {
        "id": "9U--VbOq4CKC"
      },
      "source": [
        "* **Plotting curve**"
      ]
    },
    {
      "cell_type": "code",
      "metadata": {
        "id": "5wrlWTUv3gg1",
        "outputId": "43cc773d-0058-4587-ba60-9e4803f301c2",
        "colab": {
          "base_uri": "https://localhost:8080/",
          "height": 295
        }
      },
      "source": [
        "#graph between  training Accuracy vs train_size and testing Accuracy vs train_size\n",
        "x_axis = [10,20,30,40,50,60]\n",
        "plt.plot(x_axis,training_Accuracy,'g-',label='Traning Accuracy')\n",
        "plt.plot(x_axis,testing_Accuracy,'r-',label='Test Accuracy')\n",
        "plt.title(\"Traing size vs Accuracy\")\n",
        "plt.xlabel(\"Training Size\")\n",
        "plt.ylabel(\"Test Accuracy or Train Accuracy\")\n",
        "plt.legend()\n",
        "plt.show()"
      ],
      "execution_count": 47,
      "outputs": [
        {
          "output_type": "display_data",
          "data": {
            "image/png": "[encoded data removed]",
            "text/plain": [
              "<Figure size 432x288 with 1 Axes>"
            ]
          },
          "metadata": {
            "tags": [],
            "needs_background": "light"
          }
        }
      ]
    },
    {
      "cell_type": "markdown",
      "metadata": {
        "id": "CymAl37fGZ1g"
      },
      "source": [
        "# **Q2.Multi layer perceptron for Iris Dataset**"
      ]
    },
    {
      "cell_type": "code",
      "metadata": {
        "id": "WasjC4cyGdMP"
      },
      "source": [
        "#Activation function\n",
        "\n",
        "def sigmoid(Z):\n",
        "  return 1/(1+np.exp(-Z))"
      ],
      "execution_count": 88,
      "outputs": []
    },
    {
      "cell_type": "code",
      "metadata": {
        "id": "JfuU_ABoao4s"
      },
      "source": [
        "#for back propagation sigmoid derivative\n",
        "\n",
        "def derivative_sigmoid(dA ,Z):\n",
        "  return dA * sigmoid(Z) * (1 - sigmoid(Z))"
      ],
      "execution_count": 89,
      "outputs": []
    },
    {
      "cell_type": "code",
      "metadata": {
        "id": "yRHS-gyaZkUI"
      },
      "source": [
        "def linear_backward(dZ,input,weight,bias):\n",
        " \n",
        "    m = input.shape[1]\n",
        "    #print(m)\n",
        "\n",
        "    dW = np.dot(dZ, input.T) / m\n",
        "    db = np.squeeze(np.sum(dZ, axis=1, keepdims=True)) / m\n",
        "    dA_prev = np.dot(weight.T, dZ)\n",
        "    try:\n",
        "      db = db.reshape(-1, 1)\n",
        "    except:\n",
        "      db = [[db]]\n",
        "    \n",
        "    return dA_prev, dW, db"
      ],
      "execution_count": 90,
      "outputs": []
    },
    {
      "cell_type": "code",
      "metadata": {
        "id": "MxwDc0gXZZSA"
      },
      "source": [
        "def linear_activation_backward(dA, cache,input,weight,bias):   \n",
        "    \n",
        "    dZ = derivative_sigmoid(dA,cache)\n",
        "    \n",
        "    dA_prev, dW, db = linear_backward(dZ,input,weight,bias) \n",
        "    return dA_prev, dW, db"
      ],
      "execution_count": 91,
      "outputs": []
    },
    {
      "cell_type": "code",
      "metadata": {
        "id": "NnQMH_uWa1RX"
      },
      "source": [
        "#train model\n",
        "\n",
        "\n",
        "def Train_MLP(input,output,hidden_layer,epoch,learning_rate):\n",
        "\n",
        "\n",
        "\n",
        "\n",
        "  parameters = {}\n",
        " \n",
        "  weight_1 = np.random.randn(hidden_layer,input.T.shape[1]) * 0.01  #for input layer\n",
        "  weight_2 = np.random.randn(output.T.shape[1],hidden_layer) * 0.01  #for hidden layer\n",
        "  input_bias = np.random.randn(hidden_layer,1) * 0.01\n",
        "  hidden_bias = np.random.randn(output.T.shape[1],1) * 0.01\n",
        "\n",
        "  for i in range(epoch):\n",
        "\n",
        "    #forword propagation\n",
        "\n",
        "  \n",
        "    \n",
        "    Z = np.dot(weight_1,input) + input_bias\n",
        "    A1 = sigmoid(Z)\n",
        "    Z1 = np.dot(weight_2,A1) + hidden_bias\n",
        "    A2 = sigmoid(Z1)\n",
        "\n",
        "    #backword propogation\n",
        "\n",
        "    \n",
        "    m= len(output.T)\n",
        "\n",
        "    dA2  = output-A2\n",
        "    dA1, dW2, db2 = linear_activation_backward(dA2, Z1,A1,weight_2,hidden_bias)\n",
        "    dA0, dW1, db1 = linear_activation_backward(dA1, Z,input,weight_1,input_bias)\n",
        "\n",
        "    weight_1 = weight_1 + learning_rate * dW1 \n",
        "    input_bias = input_bias + learning_rate * db1 \n",
        "    weight_2 = weight_2 + learning_rate * dW2 \n",
        "    hidden_bias = hidden_bias + learning_rate * db2 \n",
        "\n",
        "   \n",
        "  parameters = { \"W1\": weight_1,\n",
        "                  \"b1\": input_bias,\n",
        "                  \"W2\": weight_2,\n",
        "                  \"b2\": hidden_bias}\n",
        "  return parameters"
      ],
      "execution_count": 92,
      "outputs": []
    },
    {
      "cell_type": "code",
      "metadata": {
        "id": "rVASLESg9hU3"
      },
      "source": [
        "#prediction for a input\n",
        "\n",
        "def model_test(X,cache):\n",
        "\n",
        "  Z = np.dot(cache[\"W1\"],X) + cache['b1']\n",
        "  As = sigmoid(Z)\n",
        "  Z1 = np.dot(cache[\"W2\"],As) + cache[\"b2\"]\n",
        "  ar = sigmoid(Z1)\n",
        "\n",
        "  return ar"
      ],
      "execution_count": 93,
      "outputs": []
    },
    {
      "cell_type": "code",
      "metadata": {
        "id": "FTwVvM2cJhTD"
      },
      "source": [
        "#multiple prediction\n",
        "\n",
        "\n",
        "def predict_MLP(X, parameters):\n",
        "  \n",
        "    prob0 = model_test(X, parameters[0])[0].reshape(-1, 1)\n",
        "    prob1 = model_test(X, parameters[1])[0].reshape(-1, 1)\n",
        "    prob2 = model_test(X, parameters[2])[0].reshape(-1, 1)\n",
        "    \n",
        "    predictions = np.hstack((prob0, prob1, prob2))\n",
        "    #print(predictions)\n",
        "    \n",
        "    return np.argmax(predictions, axis=1).reshape(X.shape[1], 1)"
      ],
      "execution_count": 94,
      "outputs": []
    },
    {
      "cell_type": "code",
      "metadata": {
        "id": "eXU2h01sJhDI"
      },
      "source": [
        "#Accuracy function\n",
        "\n",
        "def score_MLP(result,label):\n",
        "   \n",
        "    difference = result - np.array(label)\n",
        "    num_correct = 0\n",
        "    for elem in range(difference.shape[0]):\n",
        "        if difference[elem]==0:\n",
        "            num_correct += 1\n",
        "\n",
        "    score = num_correct * 100 / difference.size\n",
        "    return score"
      ],
      "execution_count": 95,
      "outputs": []
    },
    {
      "cell_type": "code",
      "metadata": {
        "id": "ChWipHNi1kmP"
      },
      "source": [
        "\n",
        "def MLP_train_test_score(x_train, y_train, y_class, x_test, y_test):\n",
        "\n",
        "  hidden_layer = 7\n",
        "\n",
        "  parameter0 = Train_MLP(x_train.T, y_class[0].T,hidden_layer,1000,0.5)\n",
        "  parameter1 = Train_MLP(x_train.T, y_class[1].T,hidden_layer,1000,0.5)\n",
        "  parameter2 = Train_MLP(x_train.T, y_class[2].T,hidden_layer,1000,0.5)\n",
        "\n",
        "  train_prediction = predict_MLP(x_train.T, [parameter0, parameter1, parameter2])\n",
        "  train_score = score_MLP(train_prediction, y_train.to_numpy())\n",
        "\n",
        "  test_prediction = predict_MLP(x_test.T, [parameter0, parameter1, parameter2])\n",
        "  test_score = score_MLP(test_prediction, y_test.to_numpy())\n",
        "\n",
        "  return train_score, test_score"
      ],
      "execution_count": 96,
      "outputs": []
    },
    {
      "cell_type": "code",
      "metadata": {
        "id": "GPQBirQE1oeO"
      },
      "source": [
        "\n",
        "def MLP_split_for_score(X,Y,size):\n",
        "  train_score, test_score = 0,0\n",
        "  for i in range(10):\n",
        "    X_train, X_test, Y_train, Y_test = tts(X, Y, train_size=size)\n",
        "\n",
        "    y_class0 = np.where(Y_train == 0, 1, 0)\n",
        "    y_class1 = np.where(Y_train == 1, 1, 0)\n",
        "    y_class2 = np.where(Y_train == 2, 1, 0)\n",
        "    \n",
        "    \n",
        "    score_train, score_test = MLP_train_test_score(X_train, Y_train, [y_class0, y_class1, y_class2], X_test, Y_test)\n",
        "\n",
        "    train_score += score_train\n",
        "    test_score += score_test\n",
        "\n",
        "  return train_score/10, test_score/10"
      ],
      "execution_count": 97,
      "outputs": []
    },
    {
      "cell_type": "code",
      "metadata": {
        "id": "9e8ATqTVSNxu"
      },
      "source": [
        "MLP_training_Acc = []\n",
        "MLP_testing_Acc = []"
      ],
      "execution_count": 98,
      "outputs": []
    },
    {
      "cell_type": "markdown",
      "metadata": {
        "id": "RzlLQWTu7IZL"
      },
      "source": [
        "* **FOR TRAINING DATA 10%**"
      ]
    },
    {
      "cell_type": "code",
      "metadata": {
        "id": "eqZyUTfZSldm",
        "outputId": "2f65477a-2ea0-491d-95c0-20d11b3f1ce1",
        "colab": {
          "base_uri": "https://localhost:8080/",
          "height": 69
        }
      },
      "source": [
        "train_size = 0.1\n",
        "\n",
        "train_acc , test_acc = MLP_split_for_score(X,Y,train_size)\n",
        "\n",
        "print(\"FOR TRAIN SIZE :{}%\".format(train_size*100))\n",
        "\n",
        "print(\"Training Accuracy  : {:.2f}%\".format(train_acc))\n",
        "\n",
        "print(\"Testing Accuracy  : {:.2f}%\".format(test_acc))\n",
        "\n",
        "\n",
        "MLP_training_Acc.append(train_acc)\n",
        "MLP_testing_Acc.append(test_acc)"
      ],
      "execution_count": 99,
      "outputs": [
        {
          "output_type": "stream",
          "text": [
            "FOR TRAIN SIZE :10.0%\n",
            "Training Accuracy  : 96.00%\n",
            "Testing Accuracy  : 88.22%\n"
          ],
          "name": "stdout"
        }
      ]
    },
    {
      "cell_type": "markdown",
      "metadata": {
        "id": "_0-Oz9VH7Rma"
      },
      "source": [
        "* **FOR TRAINING DATA 20%**"
      ]
    },
    {
      "cell_type": "code",
      "metadata": {
        "id": "fcRTSzaYSlCl",
        "outputId": "0892b54e-eb22-4a6f-fcab-9c4e4240dffd",
        "colab": {
          "base_uri": "https://localhost:8080/",
          "height": 69
        }
      },
      "source": [
        "train_size = 0.2\n",
        "\n",
        "train_acc , test_acc = MLP_split_for_score(X,Y,train_size)\n",
        "\n",
        "\n",
        "print(\"FOR TRAIN SIZE :{}%\".format(train_size*100))\n",
        "\n",
        "print(\"Training Accuracy  : {:.2f}%\".format(train_acc))\n",
        "\n",
        "print(\"Testing Accuracy  : {:.2f}%\".format(test_acc))\n",
        "\n",
        "MLP_training_Acc.append(train_acc)\n",
        "MLP_testing_Acc.append(test_acc)"
      ],
      "execution_count": 100,
      "outputs": [
        {
          "output_type": "stream",
          "text": [
            "FOR TRAIN SIZE :20.0%\n",
            "Training Accuracy  : 92.33%\n",
            "Testing Accuracy  : 87.25%\n"
          ],
          "name": "stdout"
        }
      ]
    },
    {
      "cell_type": "markdown",
      "metadata": {
        "id": "ph5kyNTB7UUb"
      },
      "source": [
        "* **FOR TRAINING DATA 30%**"
      ]
    },
    {
      "cell_type": "code",
      "metadata": {
        "id": "cKKI4T38SkjR",
        "outputId": "b426f2a5-7325-4085-e32b-00a382cef745",
        "colab": {
          "base_uri": "https://localhost:8080/",
          "height": 69
        }
      },
      "source": [
        "train_size = 0.3\n",
        "\n",
        "train_acc , test_acc = MLP_split_for_score(X,Y,train_size)\n",
        "\n",
        "print(\"FOR TRAIN SIZE :{}%\".format(train_size*100))\n",
        "\n",
        "print(\"Training Accuracy  : {:.2f}%\".format(train_acc))\n",
        "\n",
        "print(\"Testing Accuracy  : {:.2f}%\".format(test_acc))\n",
        "\n",
        "MLP_training_Acc.append(train_acc)\n",
        "MLP_testing_Acc.append(test_acc)"
      ],
      "execution_count": 101,
      "outputs": [
        {
          "output_type": "stream",
          "text": [
            "FOR TRAIN SIZE :30.0%\n",
            "Training Accuracy  : 96.67%\n",
            "Testing Accuracy  : 92.48%\n"
          ],
          "name": "stdout"
        }
      ]
    },
    {
      "cell_type": "markdown",
      "metadata": {
        "id": "5NAVd2Uz7WkI"
      },
      "source": [
        "* **FOR TRAINING DATA 40%**"
      ]
    },
    {
      "cell_type": "code",
      "metadata": {
        "id": "QIfmHLysSkTX",
        "outputId": "0cbf7a3a-5efd-47ae-8506-d0d4e965fd18",
        "colab": {
          "base_uri": "https://localhost:8080/",
          "height": 69
        }
      },
      "source": [
        "train_size = 0.4\n",
        "\n",
        "train_acc , test_acc = MLP_split_for_score(X,Y,train_size)\n",
        "\n",
        "print(\"FOR TRAIN SIZE :{}%\".format(train_size*100))\n",
        "\n",
        "print(\"Training Accuracy  : {:.2f}%\".format(train_acc))\n",
        "\n",
        "print(\"Testing Accuracy  : {:.2f}%\".format(test_acc))\n",
        "\n",
        "MLP_training_Acc.append(train_acc)\n",
        "MLP_testing_Acc.append(test_acc)"
      ],
      "execution_count": 102,
      "outputs": [
        {
          "output_type": "stream",
          "text": [
            "FOR TRAIN SIZE :40.0%\n",
            "Training Accuracy  : 95.83%\n",
            "Testing Accuracy  : 94.67%\n"
          ],
          "name": "stdout"
        }
      ]
    },
    {
      "cell_type": "markdown",
      "metadata": {
        "id": "IWxdyNgB7Yr0"
      },
      "source": [
        "* **FOR TRAINING DATA 50%**"
      ]
    },
    {
      "cell_type": "code",
      "metadata": {
        "id": "dZxsUTKCSj9N",
        "outputId": "464673b6-83d1-48c9-e388-68c5761a1bab",
        "colab": {
          "base_uri": "https://localhost:8080/",
          "height": 69
        }
      },
      "source": [
        "train_size = 0.5\n",
        "\n",
        "train_acc , test_acc = MLP_split_for_score(X,Y,train_size)\n",
        "\n",
        "print(\"FOR TRAIN SIZE :{}%\".format(train_size*100))\n",
        "\n",
        "print(\"Training Accuracy  : {:.2f}%\".format(train_acc))\n",
        "\n",
        "print(\"Testing Accuracy  : {:.2f}%\".format(test_acc))\n",
        "\n",
        "MLP_training_Acc.append(train_acc)\n",
        "MLP_testing_Acc.append(test_acc)"
      ],
      "execution_count": 103,
      "outputs": [
        {
          "output_type": "stream",
          "text": [
            "FOR TRAIN SIZE :50.0%\n",
            "Training Accuracy  : 97.07%\n",
            "Testing Accuracy  : 95.73%\n"
          ],
          "name": "stdout"
        }
      ]
    },
    {
      "cell_type": "markdown",
      "metadata": {
        "id": "gEqWDNoA7bWb"
      },
      "source": [
        "* **FOR TRAINING DATA 60%**"
      ]
    },
    {
      "cell_type": "code",
      "metadata": {
        "id": "D0qUDrD91ydh",
        "outputId": "1ddc0bfa-fd98-4e1d-f181-5200b3eb8ffb",
        "colab": {
          "base_uri": "https://localhost:8080/",
          "height": 69
        }
      },
      "source": [
        "train_size = 0.6\n",
        "\n",
        "train_acc , test_acc = MLP_split_for_score(X,Y,train_size)\n",
        "\n",
        "print(\"FOR TRAIN SIZE :{}%\".format(train_size*100))\n",
        "\n",
        "print(\"Training Accuracy  : {:.2f}%\".format(train_acc))\n",
        "\n",
        "print(\"Testing Accuracy  : {:.2f}%\".format(test_acc))\n",
        "\n",
        "MLP_training_Acc.append(train_acc)\n",
        "MLP_testing_Acc.append(test_acc)"
      ],
      "execution_count": 104,
      "outputs": [
        {
          "output_type": "stream",
          "text": [
            "FOR TRAIN SIZE :60.0%\n",
            "Training Accuracy  : 97.56%\n",
            "Testing Accuracy  : 96.83%\n"
          ],
          "name": "stdout"
        }
      ]
    },
    {
      "cell_type": "code",
      "metadata": {
        "id": "1LVgGs7A5TPa",
        "outputId": "90519187-160d-4134-957e-40fd562b801a",
        "colab": {
          "base_uri": "https://localhost:8080/",
          "height": 52
        }
      },
      "source": [
        "print(MLP_training_Acc)\n",
        "print(MLP_testing_Acc)"
      ],
      "execution_count": 105,
      "outputs": [
        {
          "output_type": "stream",
          "text": [
            "[96.00000000000001, 92.33333333333333, 96.66666666666667, 95.83333333333333, 97.06666666666666, 97.55555555555556]\n",
            "[88.22222222222223, 87.25000000000001, 92.47619047619047, 94.66666666666667, 95.73333333333333, 96.83333333333333]\n"
          ],
          "name": "stdout"
        }
      ]
    },
    {
      "cell_type": "markdown",
      "metadata": {
        "id": "HQ7N9Mxa7eAe"
      },
      "source": [
        "* **FINAL OUTCOME TABLE**"
      ]
    },
    {
      "cell_type": "code",
      "metadata": {
        "id": "3TqW1kIPS60i",
        "outputId": "f748f788-fff2-4b98-8667-0739353aec30",
        "colab": {
          "base_uri": "https://localhost:8080/",
          "height": 228
        }
      },
      "source": [
        "# final outcome table\n",
        "\n",
        "Amount_of_training_data = ['10%','20%','30%','40%','50%','60%']\n",
        "Table = pd.DataFrame()\n",
        "Table['Amount_of_training_data'] = Amount_of_training_data \n",
        "Table['Training Accuracy'] = MLP_training_Acc\n",
        "Table['Test Accuracy'] = MLP_testing_Acc \n",
        "Table.to_csv('MLP_table_data.csv')\n",
        "Table"
      ],
      "execution_count": 106,
      "outputs": [
        {
          "output_type": "execute_result",
          "data": {
            "text/html": [
              "<div>\n",
              "<style scoped>\n",
              "    .dataframe tbody tr th:only-of-type {\n",
              "        vertical-align: middle;\n",
              "    }\n",
              "\n",
              "    .dataframe tbody tr th {\n",
              "        vertical-align: top;\n",
              "    }\n",
              "\n",
              "    .dataframe thead th {\n",
              "        text-align: right;\n",
              "    }\n",
              "</style>\n",
              "<table border=\"1\" class=\"dataframe\">\n",
              "  <thead>\n",
              "    <tr style=\"text-align: right;\">\n",
              "      <th></th>\n",
              "      <th>Amount_of_training_data</th>\n",
              "      <th>Training Accuracy</th>\n",
              "      <th>Test Accuracy</th>\n",
              "    </tr>\n",
              "  </thead>\n",
              "  <tbody>\n",
              "    <tr>\n",
              "      <th>0</th>\n",
              "      <td>10%</td>\n",
              "      <td>96.000000</td>\n",
              "      <td>88.222222</td>\n",
              "    </tr>\n",
              "    <tr>\n",
              "      <th>1</th>\n",
              "      <td>20%</td>\n",
              "      <td>92.333333</td>\n",
              "      <td>87.250000</td>\n",
              "    </tr>\n",
              "    <tr>\n",
              "      <th>2</th>\n",
              "      <td>30%</td>\n",
              "      <td>96.666667</td>\n",
              "      <td>92.476190</td>\n",
              "    </tr>\n",
              "    <tr>\n",
              "      <th>3</th>\n",
              "      <td>40%</td>\n",
              "      <td>95.833333</td>\n",
              "      <td>94.666667</td>\n",
              "    </tr>\n",
              "    <tr>\n",
              "      <th>4</th>\n",
              "      <td>50%</td>\n",
              "      <td>97.066667</td>\n",
              "      <td>95.733333</td>\n",
              "    </tr>\n",
              "    <tr>\n",
              "      <th>5</th>\n",
              "      <td>60%</td>\n",
              "      <td>97.555556</td>\n",
              "      <td>96.833333</td>\n",
              "    </tr>\n",
              "  </tbody>\n",
              "</table>\n",
              "</div>"
            ],
            "text/plain": [
              "  Amount_of_training_data  Training Accuracy  Test Accuracy\n",
              "0                     10%          96.000000      88.222222\n",
              "1                     20%          92.333333      87.250000\n",
              "2                     30%          96.666667      92.476190\n",
              "3                     40%          95.833333      94.666667\n",
              "4                     50%          97.066667      95.733333\n",
              "5                     60%          97.555556      96.833333"
            ]
          },
          "metadata": {
            "tags": []
          },
          "execution_count": 106
        }
      ]
    },
    {
      "cell_type": "markdown",
      "metadata": {
        "id": "Bq61buUa7i5C"
      },
      "source": [
        "* **PLOTTING CURVE BETWEEN TRAINING DATA SIZE VS TEST AND TRAIN ACCURACY**"
      ]
    },
    {
      "cell_type": "code",
      "metadata": {
        "id": "GYguf2H7TFot",
        "outputId": "730b85c9-5773-4148-e7d6-ffc63fc53ad7",
        "colab": {
          "base_uri": "https://localhost:8080/",
          "height": 295
        }
      },
      "source": [
        "# graph between training data size vs (test accuracy and train accuracy)\n",
        "\n",
        "x_axis = [10,20,30,40,50,60]\n",
        "plt.plot(x_axis,MLP_training_Acc,'r-',label='Traning Accuracy')\n",
        "plt.plot(x_axis,MLP_testing_Acc,'o-',label='Test Accuracy')\n",
        "plt.title(\"Traing size vs Accuracy\")\n",
        "plt.xlabel(\"Training Size\")\n",
        "plt.ylabel(\"Test Accuracy or Train Accuracy\")\n",
        "plt.legend()\n",
        "plt.show()"
      ],
      "execution_count": 107,
      "outputs": [
        {
          "output_type": "display_data",
          "data": {
            "image/png": "[encoded data removed]",
            "text/plain": [
              "<Figure size 432x288 with 1 Axes>"
            ]
          },
          "metadata": {
            "tags": [],
            "needs_background": "light"
          }
        }
      ]
    },
    {
      "cell_type": "markdown",
      "metadata": {
        "id": "dlcppuN8Hzzk"
      },
      "source": [
        ""
      ]
    }
  ]
}