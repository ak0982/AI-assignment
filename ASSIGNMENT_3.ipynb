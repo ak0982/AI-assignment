{
  "nbformat": 4,
  "nbformat_minor": 0,
  "metadata": {
    "colab": {
      "name": "ASSIGNMENT-3.ipynb",
      "provenance": [],
      "collapsed_sections": [
        "kOTDWNw55MEd",
        "UsqDYCflA1Fk",
        "FTVtHsWYPJn4"
      ],
      "authorship_tag": "ABX9TyN6D2WS+v6d2YvQcd/3mf28",
      "include_colab_link": true
    },
    "kernelspec": {
      "name": "python3",
      "display_name": "Python 3"
    }
  },
  "cells": [
    {
      "cell_type": "markdown",
      "metadata": {
        "id": "view-in-github",
        "colab_type": "text"
      },
      "source": [
        "<a href=\"https://colab.research.google.com/github/ak0982/AI-assignment/blob/master/ASSIGNMENT_3.ipynb\" target=\"_parent\"><img src=\"https://colab.research.google.com/assets/colab-badge.svg\" alt=\"Open In Colab\"/></a>"
      ]
    },
    {
      "cell_type": "markdown",
      "metadata": {
        "id": "dU1rX9AV49_-",
        "colab_type": "text"
      },
      "source": [
        "#  NAME --> AMAR KUMAR\n",
        "#  ROLL NO --> 1801016\n",
        "# ASSIGNMENT 3"
      ]
    },
    {
      "cell_type": "markdown",
      "metadata": {
        "id": "wLQIfN--5KW3",
        "colab_type": "text"
      },
      "source": [
        ""
      ]
    },
    {
      "cell_type": "markdown",
      "metadata": {
        "id": "kOTDWNw55MEd",
        "colab_type": "text"
      },
      "source": [
        "# Simple Linear Regression (One feature)"
      ]
    },
    {
      "cell_type": "code",
      "metadata": {
        "id": "vuStaIUH5PzP",
        "colab_type": "code",
        "colab": {}
      },
      "source": [
        "import numpy as np\n",
        "import pandas as pd\n",
        "from sklearn.model_selection import train_test_split\n",
        "np.set_printoptions(suppress=True)\n",
        "import matplotlib.pyplot as plt\n",
        "from sklearn.preprocessing import StandardScaler\n",
        "from sklearn.datasets import load_boston\n",
        "%matplotlib inline"
      ],
      "execution_count": 19,
      "outputs": []
    },
    {
      "cell_type": "code",
      "metadata": {
        "id": "5m2ASFN65YP1",
        "colab_type": "code",
        "colab": {
          "resources": {
            "http://localhost:8080/nbextensions/google.colab/files.js": {
              "data": "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",
              "ok": true,
              "headers": [
                [
                  "content-type",
                  "application/javascript"
                ]
              ],
              "status": 200,
              "status_text": ""
            }
          },
          "base_uri": "https://localhost:8080/",
          "height": 73
        },
        "outputId": "5ab0ae47-1248-4dec-e7d1-0197d705a7f6"
      },
      "source": [
        "from google.colab import files \n",
        "uploaded = files.upload()"
      ],
      "execution_count": 2,
      "outputs": [
        {
          "output_type": "display_data",
          "data": {
            "text/html": [
              "\n",
              "     <input type=\"file\" id=\"files-7ccf4168-8052-49b4-82c5-d0c665be5e96\" name=\"files[]\" multiple disabled\n",
              "        style=\"border:none\" />\n",
              "     <output id=\"result-7ccf4168-8052-49b4-82c5-d0c665be5e96\">\n",
              "      Upload widget is only available when the cell has been executed in the\n",
              "      current browser session. Please rerun this cell to enable.\n",
              "      </output>\n",
              "      <script src=\"/nbextensions/google.colab/files.js\"></script> "
            ],
            "text/plain": [
              "<IPython.core.display.HTML object>"
            ]
          },
          "metadata": {
            "tags": []
          }
        },
        {
          "output_type": "stream",
          "text": [
            "Saving slr06.xls to slr06.xls\n"
          ],
          "name": "stdout"
        }
      ]
    },
    {
      "cell_type": "code",
      "metadata": {
        "id": "WYlbCjRK5YYu",
        "colab_type": "code",
        "colab": {
          "base_uri": "https://localhost:8080/",
          "height": 298
        },
        "outputId": "910ae145-a9b6-4740-dd89-17954f97d9e0"
      },
      "source": [
        "data=pd.read_excel('slr06.xls')\n",
        "\n",
        "X=data['X']\n",
        "Y=data['Y']\n",
        "plt.scatter(X,Y)\n"
      ],
      "execution_count": 20,
      "outputs": [
        {
          "output_type": "stream",
          "text": [
            "*** No CODEPAGE record, no encoding_override: will use 'ascii'\n"
          ],
          "name": "stdout"
        },
        {
          "output_type": "execute_result",
          "data": {
            "text/plain": [
              "<matplotlib.collections.PathCollection at 0x7f08283f0588>"
            ]
          },
          "metadata": {
            "tags": []
          },
          "execution_count": 20
        },
        {
          "output_type": "display_data",
          "data": {
            "image/png": "[encoded data removed]",
            "text/plain": [
              "<Figure size 432x288 with 1 Axes>"
            ]
          },
          "metadata": {
            "tags": [],
            "needs_background": "light"
          }
        }
      ]
    },
    {
      "cell_type": "markdown",
      "metadata": {
        "id": "4WxgQ6op-oJp",
        "colab_type": "text"
      },
      "source": [
        "**\n",
        "\n",
        "```\n",
        "# This is formatted as code\n",
        "```\n",
        "\n",
        "**SPLITTING OF DATA INTO 60% 20% 20%**"
      ]
    },
    {
      "cell_type": "code",
      "metadata": {
        "id": "VRv1OsIU5Yeu",
        "colab_type": "code",
        "colab": {
          "base_uri": "https://localhost:8080/",
          "height": 67
        },
        "outputId": "c45bf3cd-28b9-400c-cd5b-f8b3ccca485a"
      },
      "source": [
        "train, validate = train_test_split(data, test_size=0.2,random_state=1)\n",
        "train,test=train_test_split( train, test_size=0.25)\n",
        "print(train.shape)\n",
        "print(validate.shape)\n",
        "print(test.shape)"
      ],
      "execution_count": 21,
      "outputs": [
        {
          "output_type": "stream",
          "text": [
            "(37, 2)\n",
            "(13, 2)\n",
            "(13, 2)\n"
          ],
          "name": "stdout"
        }
      ]
    },
    {
      "cell_type": "markdown",
      "metadata": {
        "id": "n8gLE10_8YWV",
        "colab_type": "text"
      },
      "source": [
        "**caluclate slope and y intercept OF OLS**\n"
      ]
    },
    {
      "cell_type": "code",
      "metadata": {
        "id": "Rj-xz8f95YjF",
        "colab_type": "code",
        "colab": {
          "base_uri": "https://localhost:8080/",
          "height": 329
        },
        "outputId": "0118078e-2513-4ec6-c954-a8df4af2ab89"
      },
      "source": [
        "#calcute slope and y intercept\n",
        "mean_train_x=np.mean(train['X'].to_numpy())\n",
        "mean_train_y=np.mean(train['Y'].to_numpy())\n",
        "#print('mean of train  data X is {}'.format(mean_train_x))\n",
        "#print('mean of train data Y is {}'.format(mean_train_y))\n",
        "train_x=train['X'].to_numpy()\n",
        "train_y=train['Y'].to_numpy()\n",
        "num=0\n",
        "dem=0\n",
        "for i in range(len(train['X'])):\n",
        "  num +=(train_x[i]-mean_train_x)*(train_y[i]-mean_train_y)\n",
        "  dem +=(train_x[i]-mean_train_x)**2\n",
        "\n",
        "slope=num/dem\n",
        "print('slope is {}'.format(slope))\n",
        "const=mean_train_y-(mean_train_x*slope)\n",
        "print('constant is {}'.format(const))\n",
        "\n",
        "plt.plot(train['X'],slope*train['X']+const)\n",
        "plt.scatter(train['X'],train['Y'],color='blue')\n",
        "plt.title('plotted data')\n",
        "plt.xlabel('X axis')\n",
        "plt.ylabel('Y axis')\n",
        "plt.show()"
      ],
      "execution_count": 22,
      "outputs": [
        {
          "output_type": "stream",
          "text": [
            "slope is 3.373994331800134\n",
            "constant is 19.608288854088897\n"
          ],
          "name": "stdout"
        },
        {
          "output_type": "display_data",
          "data": {
            "image/png": "[encoded data removed]",
            "text/plain": [
              "<Figure size 432x288 with 1 Axes>"
            ]
          },
          "metadata": {
            "tags": [],
            "needs_background": "light"
          }
        }
      ]
    },
    {
      "cell_type": "code",
      "metadata": {
        "id": "_8_bLJ1q5YmN",
        "colab_type": "code",
        "colab": {}
      },
      "source": [
        "def MAE(data):\n",
        "  predict_output=slope*data['X']+const\n",
        "  data_y=data['Y']\n",
        "  data_mae=0\n",
        "  for i in data.index:\n",
        "    data_mae +=abs(data_y[i]-predict_output[i])\n",
        "\n",
        "  data_mae /=len(data)\n",
        "  return data_mae\n",
        "  #print('MAE of train is '+str(data_mae))\n"
      ],
      "execution_count": 7,
      "outputs": []
    },
    {
      "cell_type": "code",
      "metadata": {
        "id": "CW6nGPzo9Kiv",
        "colab_type": "code",
        "colab": {
          "base_uri": "https://localhost:8080/",
          "height": 67
        },
        "outputId": "41a54ab5-2343-4e40-9834-063bb026479c"
      },
      "source": [
        "print('MAE OF TRAIN IS {}'.format(MAE(train)))\n",
        "print('MAE OF VALIDATE IS {}'.format(MAE(validate)))\n",
        "print('MAE OF TEST IS {}'.format(MAE(test)))\n"
      ],
      "execution_count": 8,
      "outputs": [
        {
          "output_type": "stream",
          "text": [
            "MAE OF TRAIN IS 26.657289694571265\n",
            "MAE OF VALIDATE IS 22.717231402323073\n",
            "MAE OF TEST IS 42.12335784597432\n"
          ],
          "name": "stdout"
        }
      ]
    },
    {
      "cell_type": "code",
      "metadata": {
        "id": "jqkGMO6_9Ktw",
        "colab_type": "code",
        "colab": {}
      },
      "source": [
        ""
      ],
      "execution_count": null,
      "outputs": []
    },
    {
      "cell_type": "code",
      "metadata": {
        "id": "fhCj9rCvifjD",
        "colab_type": "code",
        "colab": {}
      },
      "source": [
        ""
      ],
      "execution_count": null,
      "outputs": []
    },
    {
      "cell_type": "markdown",
      "metadata": {
        "id": "UsqDYCflA1Fk",
        "colab_type": "text"
      },
      "source": [
        "# **Gradient Descent Algorithm (One feature)**"
      ]
    },
    {
      "cell_type": "code",
      "metadata": {
        "id": "We6r7kA8ipSP",
        "colab_type": "code",
        "colab": {
          "base_uri": "https://localhost:8080/",
          "height": 298
        },
        "outputId": "bcb3d77c-7478-4965-b2e4-10b3cc773ac3"
      },
      "source": [
        "data=pd.read_excel('slr06.xls')\n",
        "\n",
        "X=data['X']\n",
        "Y=data['Y']\n",
        "plt.scatter(X,Y)\n"
      ],
      "execution_count": 26,
      "outputs": [
        {
          "output_type": "stream",
          "text": [
            "*** No CODEPAGE record, no encoding_override: will use 'ascii'\n"
          ],
          "name": "stdout"
        },
        {
          "output_type": "execute_result",
          "data": {
            "text/plain": [
              "<matplotlib.collections.PathCollection at 0x7f08281c4cf8>"
            ]
          },
          "metadata": {
            "tags": []
          },
          "execution_count": 26
        },
        {
          "output_type": "display_data",
          "data": {
            "image/png": "[encoded data removed]",
            "text/plain": [
              "<Figure size 432x288 with 1 Axes>"
            ]
          },
          "metadata": {
            "tags": [],
            "needs_background": "light"
          }
        }
      ]
    },
    {
      "cell_type": "markdown",
      "metadata": {
        "id": "daGVIVn0jBDF",
        "colab_type": "text"
      },
      "source": [
        "**SPLITTING OF DATA INTO 60% 20% 20%**"
      ]
    },
    {
      "cell_type": "code",
      "metadata": {
        "id": "8Dd_elDdihYR",
        "colab_type": "code",
        "colab": {
          "base_uri": "https://localhost:8080/",
          "height": 67
        },
        "outputId": "78dc3557-efd9-4bd9-ef65-091d53d870d3"
      },
      "source": [
        "train, validate = train_test_split(data, test_size=0.2,random_state=1)\n",
        "train,test=train_test_split( train, test_size=0.25)\n",
        "print(train.shape)\n",
        "print(validate.shape)\n",
        "print(test.shape)"
      ],
      "execution_count": 34,
      "outputs": [
        {
          "output_type": "stream",
          "text": [
            "(37, 2)\n",
            "(13, 2)\n",
            "(13, 2)\n"
          ],
          "name": "stdout"
        }
      ]
    },
    {
      "cell_type": "markdown",
      "metadata": {
        "id": "eMH2TFeoi9bA",
        "colab_type": "text"
      },
      "source": [
        "**CALCULTE SLOPE AND INTERCEPT OF Gradient Descent Algorithm**"
      ]
    },
    {
      "cell_type": "code",
      "metadata": {
        "id": "0Ku7olV69K1P",
        "colab_type": "code",
        "colab": {
          "base_uri": "https://localhost:8080/",
          "height": 329
        },
        "outputId": "dc535fe6-1655-4322-9aba-6c97eb1e73c7"
      },
      "source": [
        "n = len(train['X'])\n",
        "rate, iters = 0.0001, 10000\n",
        "slope_g, const_g = 0, 0\n",
        "for i in range(iters) :\n",
        "\n",
        "  Y_pred = slope_g* train['X'] + const_g\n",
        "  d_dm = (-2 / n) * (sum(train['X'] * (train['Y'] - Y_pred)))\n",
        "  d_dc = (-2 / n) * (sum(train['Y'] - Y_pred))\n",
        "  slope_g -= rate * d_dm\n",
        "  const_g -= rate * d_dc\n",
        "\n",
        "print('SLOPE IS {}'.format(slope_g))\n",
        "print('INTERCEPT IS {}'.format(const_g))\n",
        "plt.plot(train['X'],slope_g*train['X']+const_g)\n",
        "plt.scatter(train['X'],train['Y'],color='red')\n",
        "plt.title('plotted data')\n",
        "plt.xlabel('X axis')\n",
        "plt.ylabel('Y axis')\n",
        "plt.show()"
      ],
      "execution_count": 35,
      "outputs": [
        {
          "output_type": "stream",
          "text": [
            "SLOPE IS 3.6191005267329324\n",
            "INTERCEPT IS 17.327429304164465\n"
          ],
          "name": "stdout"
        },
        {
          "output_type": "display_data",
          "data": {
            "image/png": "[encoded data removed]",
            "text/plain": [
              "<Figure size 432x288 with 1 Axes>"
            ]
          },
          "metadata": {
            "tags": [],
            "needs_background": "light"
          }
        }
      ]
    },
    {
      "cell_type": "code",
      "metadata": {
        "id": "azfDamxGDfo7",
        "colab_type": "code",
        "colab": {}
      },
      "source": [
        "def MAE_G(data):\n",
        "  predict_output=slope_g*data['X']+const_g\n",
        "  data_y=data['Y']\n",
        "  data_mae=0\n",
        "  for i in data.index:\n",
        "    data_mae +=abs(data_y[i]-predict_output[i])\n",
        "\n",
        "  data_mae /=len(data)\n",
        "  return data_mae"
      ],
      "execution_count": 36,
      "outputs": []
    },
    {
      "cell_type": "markdown",
      "metadata": {
        "id": "PsGvGS_scoz5",
        "colab_type": "text"
      },
      "source": [
        "**MAE OF TRAIN,VALIDATE AND TEST** "
      ]
    },
    {
      "cell_type": "code",
      "metadata": {
        "id": "_oK8caoRDfxv",
        "colab_type": "code",
        "colab": {
          "base_uri": "https://localhost:8080/",
          "height": 67
        },
        "outputId": "f8d100f5-041f-4b62-98a9-b90d28f46261"
      },
      "source": [
        "print('MAE OF TRAIN IS {}'.format(MAE_G(train)))\n",
        "print('MAE OF VALIDATE IS {}'.format(MAE_G(validate)))\n",
        "print('MAE OF TEST IS {}'.format(MAE_G(test)))"
      ],
      "execution_count": 37,
      "outputs": [
        {
          "output_type": "stream",
          "text": [
            "MAE OF TRAIN IS 31.873366125179725\n",
            "MAE OF VALIDATE IS 24.33735546897447\n",
            "MAE OF TEST IS 25.588344460294216\n"
          ],
          "name": "stdout"
        }
      ]
    },
    {
      "cell_type": "code",
      "metadata": {
        "id": "0Ki-8IyyDf3b",
        "colab_type": "code",
        "colab": {}
      },
      "source": [
        ""
      ],
      "execution_count": null,
      "outputs": []
    },
    {
      "cell_type": "code",
      "metadata": {
        "id": "j35A8hofDf7T",
        "colab_type": "code",
        "colab": {}
      },
      "source": [
        ""
      ],
      "execution_count": null,
      "outputs": []
    },
    {
      "cell_type": "markdown",
      "metadata": {
        "id": "FTVtHsWYPJn4",
        "colab_type": "text"
      },
      "source": [
        "# Multiple Linear Regression"
      ]
    },
    {
      "cell_type": "markdown",
      "metadata": {
        "id": "oweJ2_DQem4c",
        "colab_type": "text"
      },
      "source": [
        "***Loading...***"
      ]
    },
    {
      "cell_type": "code",
      "metadata": {
        "id": "senQsbkTY85N",
        "colab_type": "code",
        "colab": {
          "base_uri": "https://localhost:8080/",
          "height": 252
        },
        "outputId": "44d4707f-fbf2-47fd-ab3a-1b14cd20b704"
      },
      "source": [
        "boston= load_boston()\n",
        "data=pd.DataFrame(boston.data,columns=boston.feature_names)\n",
        "print(data)\n",
        "Y = boston.target\n",
        "X = boston.data"
      ],
      "execution_count": 39,
      "outputs": [
        {
          "output_type": "stream",
          "text": [
            "        CRIM    ZN  INDUS  CHAS    NOX  ...  RAD    TAX  PTRATIO       B  LSTAT\n",
            "0    0.00632  18.0   2.31   0.0  0.538  ...  1.0  296.0     15.3  396.90   4.98\n",
            "1    0.02731   0.0   7.07   0.0  0.469  ...  2.0  242.0     17.8  396.90   9.14\n",
            "2    0.02729   0.0   7.07   0.0  0.469  ...  2.0  242.0     17.8  392.83   4.03\n",
            "3    0.03237   0.0   2.18   0.0  0.458  ...  3.0  222.0     18.7  394.63   2.94\n",
            "4    0.06905   0.0   2.18   0.0  0.458  ...  3.0  222.0     18.7  396.90   5.33\n",
            "..       ...   ...    ...   ...    ...  ...  ...    ...      ...     ...    ...\n",
            "501  0.06263   0.0  11.93   0.0  0.573  ...  1.0  273.0     21.0  391.99   9.67\n",
            "502  0.04527   0.0  11.93   0.0  0.573  ...  1.0  273.0     21.0  396.90   9.08\n",
            "503  0.06076   0.0  11.93   0.0  0.573  ...  1.0  273.0     21.0  396.90   5.64\n",
            "504  0.10959   0.0  11.93   0.0  0.573  ...  1.0  273.0     21.0  393.45   6.48\n",
            "505  0.04741   0.0  11.93   0.0  0.573  ...  1.0  273.0     21.0  396.90   7.88\n",
            "\n",
            "[506 rows x 13 columns]\n"
          ],
          "name": "stdout"
        }
      ]
    },
    {
      "cell_type": "markdown",
      "metadata": {
        "id": "lzodTMVPawy6",
        "colab_type": "text"
      },
      "source": [
        "**SPLITTING OF DATA INTO 60% 20% 20%**"
      ]
    },
    {
      "cell_type": "code",
      "metadata": {
        "id": "cwvQD8lPY9Ab",
        "colab_type": "code",
        "colab": {
          "base_uri": "https://localhost:8080/",
          "height": 67
        },
        "outputId": "922ccb03-7261-4c49-f961-e07f0725b075"
      },
      "source": [
        "X_train, X_test,Y_train, Y_test = train_test_split(X,Y ,test_size=0.2, random_state=1)\n",
        "X_train, X_val,Y_train, Y_val = train_test_split( X_train,Y_train, test_size=0.2, random_state=1)\n",
        "print(X_train.shape)\n",
        "print(X_test.shape)\n",
        "print(X_val.shape)\n"
      ],
      "execution_count": 40,
      "outputs": [
        {
          "output_type": "stream",
          "text": [
            "(323, 13)\n",
            "(102, 13)\n",
            "(81, 13)\n"
          ],
          "name": "stdout"
        }
      ]
    },
    {
      "cell_type": "markdown",
      "metadata": {
        "id": "C96yvfoDfAOK",
        "colab_type": "text"
      },
      "source": [
        "**Standardising Data**"
      ]
    },
    {
      "cell_type": "code",
      "metadata": {
        "id": "ugNC2qq3Y9Gq",
        "colab_type": "code",
        "colab": {
          "base_uri": "https://localhost:8080/",
          "height": 67
        },
        "outputId": "a6b63a97-2422-4d95-b1b9-a61eb47aaad0"
      },
      "source": [
        "\n",
        "scaler = StandardScaler()\n",
        "x_train = scaler.fit_transform(X_train)\n",
        "x_val = scaler.fit_transform(X_val)\n",
        "x_test = scaler.fit_transform(X_test)\n",
        "\n",
        "train_data = pd.DataFrame(x_train)\n",
        "train_data['price'] = Y_train\n",
        "print(train_data.shape)\n",
        "\n",
        "validate_data = pd.DataFrame(x_val)\n",
        "validate_data['price'] = Y_val\n",
        "print(validate_data.shape)\n",
        "\n",
        "test_data = pd.DataFrame(x_test)\n",
        "test_data['price'] = Y_test\n",
        "print(test_data.shape)"
      ],
      "execution_count": 41,
      "outputs": [
        {
          "output_type": "stream",
          "text": [
            "(323, 14)\n",
            "(81, 14)\n",
            "(102, 14)\n"
          ],
          "name": "stdout"
        }
      ]
    },
    {
      "cell_type": "markdown",
      "metadata": {
        "id": "9fFsfozAbnPB",
        "colab_type": "text"
      },
      "source": [
        "**Multiple Linear Regression Gradient Descent Algorithm**"
      ]
    },
    {
      "cell_type": "code",
      "metadata": {
        "id": "KJrOgTc9Y9Je",
        "colab_type": "code",
        "colab": {}
      },
      "source": [
        "# Multiple Linear Regression Gradient Descent Algorithm\n",
        "def MLR_GDA(data, learning_rate, iters, sample_size) :\n",
        "  w = np.zeros(shape = (1, data.shape[1] - 1))\n",
        "  b = 0\n",
        "  for iter in range(iters) :\n",
        "    sample_data = data.sample(sample_size)\n",
        "    y = np.array(sample_data['price'])\n",
        "    x = np.array(sample_data.drop('price', axis = 1))\n",
        "    w_g = np.zeros(shape = (1, data.shape[1] - 1))\n",
        "    b_g = 0\n",
        "\n",
        "    for i in range(sample_size) :\n",
        "      y_pred = np.dot(w, x[i]) + b\n",
        "      w_g += (-2) * (x[i]) * (y[i] - y_pred)\n",
        "      b_g += (-2) * (y[i] - y_pred)\n",
        "    w -= (learning_rate) * (w_g / sample_size)\n",
        "    b -= (learning_rate) * (b_g / sample_size)\n",
        "  return w, b"
      ],
      "execution_count": 42,
      "outputs": []
    },
    {
      "cell_type": "markdown",
      "metadata": {
        "id": "6A_uz9KWeZrT",
        "colab_type": "text"
      },
      "source": [
        "**Function of Mean Absolute Error**"
      ]
    },
    {
      "cell_type": "code",
      "metadata": {
        "id": "VJUOfjjsZ6dr",
        "colab_type": "code",
        "colab": {
          "base_uri": "https://localhost:8080/",
          "height": 118
        },
        "outputId": "393b4202-feae-4932-e897-c0ec33110be8"
      },
      "source": [
        "def MAE_MLR(w, b, X, Y) :\n",
        "  mae, n = 0, len(X)\n",
        "  for i in range(n):\n",
        "    y_pred = np.dot(w, X[i]) + b\n",
        "    mae += abs(Y[i] - y_pred)\n",
        "  mae = mae/n\n",
        "  return mae\n",
        "weight, bias = MLR_GDA(train_data, 0.001, 1000, 10)\n",
        "print('WEIGHT IS \\n{} and \\n bias is\\n{}'.format(weight,bias))"
      ],
      "execution_count": 43,
      "outputs": [
        {
          "output_type": "stream",
          "text": [
            "WEIGHT IS \n",
            "[[-0.80520987  0.47484798 -0.33904495  0.75714829 -0.76393763  2.32794265\n",
            "  -0.27712923 -1.18304452  0.37341106 -0.13045442 -1.72950751  0.48642351\n",
            "  -3.21154232]] and \n",
            " bias is\n",
            "[19.55579163]\n"
          ],
          "name": "stdout"
        }
      ]
    },
    {
      "cell_type": "markdown",
      "metadata": {
        "id": "fA1v5OPKb3bC",
        "colab_type": "text"
      },
      "source": [
        "**MAE VALUE OF TRAIN , VALIDATE AND TEST**"
      ]
    },
    {
      "cell_type": "code",
      "metadata": {
        "id": "nn3fzda-Z9qO",
        "colab_type": "code",
        "colab": {
          "base_uri": "https://localhost:8080/",
          "height": 67
        },
        "outputId": "dd25b8e0-fa2e-41cb-a983-5eeb0dbb5fcc"
      },
      "source": [
        "y = np.array(train_data['price'])\n",
        "x = np.array(train_data.drop('price', axis = 1))\n",
        "print(\"MAE OF TRAIN IS : {}\" .format(MAE_MLR(weight, bias, x, y)))\n",
        "y = np.array(validate_data['price'])\n",
        "x = np.array(validate_data.drop('price', axis = 1))\n",
        "print(\"MAE OF VALIDATE IS : {}\" .format(MAE_MLR(weight, bias, x, y)))\n",
        "y = np.array(test_data['price'])\n",
        "x = np.array(test_data.drop('price', axis = 1))\n",
        "print(\"MAE OF TEST IS : {}\" .format(MAE_MLR(weight, bias, x, y)))"
      ],
      "execution_count": 44,
      "outputs": [
        {
          "output_type": "stream",
          "text": [
            "MAE OF TRAIN IS : [3.87967882]\n",
            "MAE OF VALIDATE IS : [3.28869927]\n",
            "MAE OF TEST IS : [3.99927247]\n"
          ],
          "name": "stdout"
        }
      ]
    }
  ]
}