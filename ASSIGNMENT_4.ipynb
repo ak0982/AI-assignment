{
  "nbformat": 4,
  "nbformat_minor": 0,
  "metadata": {
    "colab": {
      "name": "ASSIGNMENT-4",
      "provenance": [],
      "collapsed_sections": [
        "9Mv61jSu9RBp",
        "Izear_aP9wXL",
        "c63rWh-Ybdmv",
        "CXoO-nj1b83W",
        "wk1z0j_4sbPB",
        "rWdrFqFcsS9U",
        "4-Df4urFwgGY"
      ],
      "include_colab_link": true
    },
    "kernelspec": {
      "name": "python3",
      "display_name": "Python 3"
    }
  },
  "cells": [
    {
      "cell_type": "markdown",
      "metadata": {
        "id": "view-in-github",
        "colab_type": "text"
      },
      "source": [
        "<a href=\"https://colab.research.google.com/github/ak0982/AI-assignment/blob/master/ASSIGNMENT_4.ipynb\" target=\"_parent\"><img src=\"https://colab.research.google.com/assets/colab-badge.svg\" alt=\"Open In Colab\"/></a>"
      ]
    },
    {
      "cell_type": "markdown",
      "metadata": {
        "id": "LK7gq_6J88gT",
        "colab_type": "text"
      },
      "source": [
        "**NAME-->AMAR KUMAR**\n",
        "\n",
        "**ROLL NO -->1801016**\n",
        "\n",
        "***ASSIGNMENT 4***"
      ]
    },
    {
      "cell_type": "code",
      "metadata": {
        "id": "pehdt7DoAi2s",
        "colab_type": "code",
        "colab": {}
      },
      "source": [
        "# IMPORTING MODULES\n",
        "\n",
        "import numpy as np\n",
        "import pandas as pd\n",
        "import math\n",
        "import pylab\n",
        "import random\n",
        "import matplotlib.pyplot as plt\n",
        "from sklearn.model_selection import train_test_split as tts\n",
        "from sklearn import datasets\n",
        "np.set_printoptions(suppress=True)\n"
      ],
      "execution_count": 249,
      "outputs": []
    },
    {
      "cell_type": "markdown",
      "metadata": {
        "id": "Izear_aP9wXL",
        "colab_type": "text"
      },
      "source": [
        "#**Q1. Synthetic data generation and simple curve fitting**"
      ]
    },
    {
      "cell_type": "code",
      "metadata": {
        "id": "gyUyvk1A97AL",
        "colab_type": "code",
        "colab": {
          "base_uri": "https://localhost:8080/",
          "height": 0
        },
        "outputId": "8d208fca-8cd6-4120-c9ef-333121a7c861"
      },
      "source": [
        "#Generating a Synthetic Dataset\n",
        "inp=[]\n",
        "for i in range(10):\n",
        "  inp.append(random.uniform(0,1))\n",
        "X=np.array(inp)\n",
        "main_x=X\n",
        "print(X)\n",
        "print()\n",
        "Y=np.random.normal(scale=0.3)+ np.sin(2*math.pi*X) \n",
        "main_y=Y\n",
        "print(Y)\n"
      ],
      "execution_count": 250,
      "outputs": [
        {
          "output_type": "stream",
          "text": [
            "[0.41800087 0.72159597 0.36458399 0.70470504 0.96220469 0.55814297\n",
            " 0.46220612 0.73654216 0.67169998 0.03538017]\n",
            "\n",
            "[ 0.55726719 -0.91957222  0.81638174 -0.89523035 -0.17070452 -0.2927064\n",
            "  0.29978509 -0.93188246 -0.8168577   0.28501841]\n"
          ],
          "name": "stdout"
        }
      ]
    },
    {
      "cell_type": "code",
      "metadata": {
        "id": "jVHFcGKzIb2x",
        "colab_type": "code",
        "colab": {
          "base_uri": "https://localhost:8080/",
          "height": 0
        },
        "outputId": "d69b4a2f-6add-4d55-c7d3-d458ff8b6dd3"
      },
      "source": [
        "#Splitting DataSet\n",
        "\n",
        "\n",
        "x_train, x_test, y_train, y_test = tts(X,Y,test_size =0.2)\n",
        "print(x_train.shape)\n",
        "print(x_test.shape)\n",
        "print(y_train.shape)\n",
        "print(y_test.shape)"
      ],
      "execution_count": 251,
      "outputs": [
        {
          "output_type": "stream",
          "text": [
            "(8,)\n",
            "(2,)\n",
            "(8,)\n",
            "(2,)\n"
          ],
          "name": "stdout"
        }
      ]
    },
    {
      "cell_type": "code",
      "metadata": {
        "id": "PmRh12jRCy6c",
        "colab_type": "code",
        "colab": {}
      },
      "source": [
        "#for n=1 to n=9 calculating x^1 to x^9 coefficient\n",
        "\n",
        "\n",
        "#for Train set\n",
        "train_n=int(0.8*10)\n",
        "test_n=int(0.2*10)\n",
        "x0=np.ones(train_n)\n",
        "x1=x_train\n",
        "x2=[]\n",
        "x3=[]\n",
        "x4=[]\n",
        "x5=[]\n",
        "x6=[]\n",
        "x7=[]\n",
        "x8=[]\n",
        "x9=[]\n",
        "x12=np.array(x1)\n",
        "\n",
        "for i in range(train_n):\n",
        "  x2.append(x_train[i]*x_train[i])\n",
        "  x3.append(x2[i]*x_train[i])\n",
        "  x4.append(x3[i]*x_train[i])\n",
        "  x5.append(x4[i]*x_train[i])\n",
        "  x6.append(x5[i]*x_train[i])\n",
        "  x7.append(x6[i]*x_train[i])\n",
        "  x8.append(x7[i]*x_train[i])\n",
        "  x9.append(x8[i]*x_train[i])\n",
        "\n",
        "\n",
        "\n",
        "#for test set\n",
        "x0_t=np.ones(test_n)\n",
        "x1_t=x_test\n",
        "x2_t=[]\n",
        "x3_t=[]\n",
        "x4_t=[]\n",
        "x5_t=[]\n",
        "x6_t=[]\n",
        "x7_t=[]\n",
        "x8_t=[]\n",
        "x9_t=[]\n",
        "\n",
        "for i in range(test_n):\n",
        "  x2_t.append(x_test[i]*x_test[i])\n",
        "  x3_t.append(x2_t[i]*x_test[i])\n",
        "  x4_t.append(x3_t[i]*x_test[i])\n",
        "  x5_t.append(x4_t[i]*x_test[i])\n",
        "  x6_t.append(x5_t[i]*x_test[i])\n",
        "  x7_t.append(x6_t[i]*x_test[i])\n",
        "  x8_t.append(x7_t[i]*x_test[i])\n",
        "  x9_t.append(x8_t[i]*x_test[i])\n"
      ],
      "execution_count": 252,
      "outputs": []
    },
    {
      "cell_type": "code",
      "metadata": {
        "id": "7NoFQA7kkenI",
        "colab_type": "code",
        "colab": {}
      },
      "source": [
        "\n",
        "alpha=0.05\n",
        "itr=100000\n",
        "\n",
        "def cost(theta,Xt,y):\n",
        "  m = len(y)\n",
        "  c = (1/2*m) * np.sum(np.square((Xt.dot(theta))-y))  \n",
        "  return c\n",
        "\n",
        "#Gradient Descent Regrassion\n",
        "\n",
        "def GDR(Xt,y,theta,alpha,iteration):\n",
        "  costs=np.zeros(iteration)\n",
        "  m=len(y)\n",
        "  for i in range(iteration):\n",
        "    theta=theta-(1/m)*alpha*(Xt.T.dot((Xt.dot(theta))-y))\n",
        "    costs[i]=cost(theta,Xt,y)\n",
        "  \n",
        "  return theta,costs\n",
        "\n"
      ],
      "execution_count": 253,
      "outputs": []
    },
    {
      "cell_type": "markdown",
      "metadata": {
        "id": "TiyDFIH4Tlxv",
        "colab_type": "text"
      },
      "source": [
        "* ***For n=0***"
      ]
    },
    {
      "cell_type": "code",
      "metadata": {
        "id": "liVRmywBInY8",
        "colab_type": "code",
        "colab": {
          "base_uri": "https://localhost:8080/",
          "height": 0
        },
        "outputId": "259fd636-8b2c-4e9a-ad4e-ddb7ba3f1dec"
      },
      "source": [
        "#for n=0\n",
        "\n",
        "Xt= np.c_[x0]\n",
        "theta = np.array([0])\n",
        "X_test = np.c_[x0_t]\n",
        "\n",
        "new_theta , cost_value=GDR(Xt,y_train,theta,alpha,itr)\n",
        "\n",
        "train_error_0=cost_value[-1]\n",
        "\n",
        "test_error_0=cost(new_theta,X_test,y_test)\n",
        "\n",
        "\n",
        "print(\"NEW Theta Value : \",new_theta)\n",
        "print(\"Train error : \", train_error_0)\n",
        "print(\"Test error : \", test_error_0)\n"
      ],
      "execution_count": 254,
      "outputs": [
        {
          "output_type": "stream",
          "text": [
            "NEW Theta Value :  [-0.03171233]\n",
            "Train error :  11.162262315464464\n",
            "Test error :  1.5339585440189827\n"
          ],
          "name": "stdout"
        }
      ]
    },
    {
      "cell_type": "markdown",
      "metadata": {
        "id": "ebMqgfuwTx32",
        "colab_type": "text"
      },
      "source": [
        "* ***For n=1***"
      ]
    },
    {
      "cell_type": "code",
      "metadata": {
        "id": "QrCBcGewQasF",
        "colab_type": "code",
        "colab": {
          "base_uri": "https://localhost:8080/",
          "height": 0
        },
        "outputId": "85bb23f7-6ed0-4127-b0b8-079696ae86ac"
      },
      "source": [
        "#for n=1\n",
        "\n",
        "Xt = np.c_[x0,x1]\n",
        "theta = np.array([0,0])\n",
        "X_test = np.c_[x0_t,x1_t]\n",
        "\n",
        "new_theta , cost_value=GDR(Xt,y_train,theta,alpha,itr)\n",
        "\n",
        "train_error_1=cost_value[-1]\n",
        "\n",
        "test_error_1=cost(new_theta,X_test,y_test)\n",
        "\n",
        "print(\"NEW Theta Value : \",new_theta)\n",
        "print(\"Train error : \", train_error_1)\n",
        "print(\"Test error : \", test_error_1)\n"
      ],
      "execution_count": 255,
      "outputs": [
        {
          "output_type": "stream",
          "text": [
            "NEW Theta Value :  [ 0.69982673 -1.39050723]\n",
            "Train error :  6.990825578288094\n",
            "Test error :  0.7578952801931073\n"
          ],
          "name": "stdout"
        }
      ]
    },
    {
      "cell_type": "markdown",
      "metadata": {
        "id": "K7S9mUFhT4zg",
        "colab_type": "text"
      },
      "source": [
        "* ***For n=2***"
      ]
    },
    {
      "cell_type": "code",
      "metadata": {
        "id": "oMOxAj-8Qacd",
        "colab_type": "code",
        "colab": {
          "base_uri": "https://localhost:8080/",
          "height": 0
        },
        "outputId": "46598fdd-2495-4057-ec93-34972a7b4462"
      },
      "source": [
        "#for n=2\n",
        "\n",
        "Xt = np.c_[x0,x1,x2]\n",
        "theta = np.array([0,0,0])\n",
        "X_test = np.c_[x0_t,x1_t,x2_t]\n",
        "\n",
        "new_theta , cost_value=GDR(Xt,y_train,theta,alpha,itr)\n",
        "\n",
        "train_error_2=cost_value[-1]\n",
        "\n",
        "test_error_2=cost(new_theta,X_test,y_test)\n",
        "\n",
        "print(\"NEW Theta Value : \",new_theta)\n",
        "print(\"Train error : \", train_error_2)\n",
        "print(\"Test error : \", test_error_2)\n"
      ],
      "execution_count": 256,
      "outputs": [
        {
          "output_type": "stream",
          "text": [
            "NEW Theta Value :  [ 0.65029877 -1.11787236 -0.27282094]\n",
            "Train error :  6.973101368364663\n",
            "Test error :  0.7730649081804275\n"
          ],
          "name": "stdout"
        }
      ]
    },
    {
      "cell_type": "markdown",
      "metadata": {
        "id": "a00l4mwQT-76",
        "colab_type": "text"
      },
      "source": [
        "* ***For n=3***"
      ]
    },
    {
      "cell_type": "code",
      "metadata": {
        "id": "SZjigX71QaOb",
        "colab_type": "code",
        "colab": {
          "base_uri": "https://localhost:8080/",
          "height": 0
        },
        "outputId": "3186195e-ec57-4348-8cd6-374bec0423b5"
      },
      "source": [
        "#for n=3\n",
        "\n",
        "Xt = np.c_[x0,x1,x2,x3]\n",
        "theta = np.array([0,0,0,0])\n",
        "X_test = np.c_[x0_t,x1_t,x2_t,x3_t]\n",
        "\n",
        "new_theta , cost_value=GDR(Xt,y_train,theta,alpha,itr)\n",
        "\n",
        "train_error_3=cost_value[-1]\n",
        "\n",
        "test_error_3=cost(new_theta,X_test,y_test)\n",
        "\n",
        "print(\"NEW Theta Value : \",new_theta)\n",
        "print(\"Train error : \", train_error_3)\n",
        "print(\"Test error : \", test_error_3)\n"
      ],
      "execution_count": 257,
      "outputs": [
        {
          "output_type": "stream",
          "text": [
            "NEW Theta Value :  [  0.42558154   4.01499087 -14.61419755   9.90381675]\n",
            "Train error :  2.5819479425569405\n",
            "Test error :  0.2538877353381125\n"
          ],
          "name": "stdout"
        }
      ]
    },
    {
      "cell_type": "markdown",
      "metadata": {
        "id": "DYLBV9lwUFqN",
        "colab_type": "text"
      },
      "source": [
        "* ***For n=4***"
      ]
    },
    {
      "cell_type": "code",
      "metadata": {
        "id": "TOxU01vzQaBJ",
        "colab_type": "code",
        "colab": {
          "base_uri": "https://localhost:8080/",
          "height": 0
        },
        "outputId": "ff2c434a-d16b-4a34-862d-bacbd34061a1"
      },
      "source": [
        "#for n=4\n",
        "\n",
        "Xt = np.c_[x0,x1,x2,x3,x4]\n",
        "theta = np.array([0,0,0,0,0])\n",
        "X_test = np.c_[x0_t,x1_t,x2_t,x3_t,x4_t]\n",
        "\n",
        "new_theta , cost_value=GDR(Xt,y_train,theta,alpha,itr)\n",
        "\n",
        "train_error_4=cost_value[-1]\n",
        "\n",
        "\n",
        "test_error_4=cost(new_theta,X_test,y_test)\n",
        "\n",
        "print(\"NEW Theta Value : \",new_theta)\n",
        "print(\"Train error : \", train_error_4)\n",
        "print(\"Test error : \", test_error_4)\n"
      ],
      "execution_count": 258,
      "outputs": [
        {
          "output_type": "stream",
          "text": [
            "NEW Theta Value :  [  0.17784674   6.36576973 -13.86593177  -4.40534026  11.94684711]\n",
            "Train error :  0.2903810559339972\n",
            "Test error :  0.009051474599928019\n"
          ],
          "name": "stdout"
        }
      ]
    },
    {
      "cell_type": "markdown",
      "metadata": {
        "id": "3YUHONjPUL4N",
        "colab_type": "text"
      },
      "source": [
        "* ***For n=5***"
      ]
    },
    {
      "cell_type": "code",
      "metadata": {
        "id": "hO9q_LHEQZzn",
        "colab_type": "code",
        "colab": {
          "base_uri": "https://localhost:8080/",
          "height": 0
        },
        "outputId": "6b62b6cd-5d35-4a64-b424-3526b8d0567d"
      },
      "source": [
        "#for n=5\n",
        "\n",
        "Xt = np.c_[x0,x1,x2,x3,x4,x5]\n",
        "theta = np.array([0,0,0,0,0,0])\n",
        "X_test = np.c_[x0_t,x1_t,x2_t,x3_t,x4_t,x5_t]\n",
        "\n",
        "new_theta , cost_value=GDR(Xt,y_train,theta,alpha,itr)\n",
        "\n",
        "train_error_5=cost_value[-1]\n",
        "\n",
        "\n",
        "test_error_5=cost(new_theta,X_test,y_test)\n",
        "\n",
        "print(\"NEW Theta Value : \",new_theta)\n",
        "print(\"Train error : \", train_error_5)\n",
        "print(\"Test error : \", test_error_5)\n"
      ],
      "execution_count": 259,
      "outputs": [
        {
          "output_type": "stream",
          "text": [
            "NEW Theta Value :  [ 0.13178769  5.68987882 -9.70672032 -6.30460502  1.6694498   8.97536836]\n",
            "Train error :  0.18123884012322966\n",
            "Test error :  0.0036354395917132733\n"
          ],
          "name": "stdout"
        }
      ]
    },
    {
      "cell_type": "markdown",
      "metadata": {
        "id": "PO0buJm0UTMl",
        "colab_type": "text"
      },
      "source": [
        "* ***For n=6***"
      ]
    },
    {
      "cell_type": "code",
      "metadata": {
        "id": "eERnHbIVQZmk",
        "colab_type": "code",
        "colab": {
          "base_uri": "https://localhost:8080/",
          "height": 0
        },
        "outputId": "61d9bbf2-e745-4768-afab-5ac04f9d1f1a"
      },
      "source": [
        "#for n=6\n",
        "\n",
        "Xt = np.c_[x0,x1,x2,x3,x4,x5,x6]\n",
        "theta = np.array([0,0,0,0,0,0,0])\n",
        "X_test = np.c_[x0_t,x1_t,x2_t,x3_t,x4_t,x5_t,x6_t]\n",
        "\n",
        "new_theta , cost_value=GDR(Xt,y_train,theta,alpha,itr)\n",
        "\n",
        "train_error_6=cost_value[-1]\n",
        "\n",
        "test_error_6=cost(new_theta,X_test,y_test)\n",
        "\n",
        "print(\"NEW Theta Value : \",new_theta)\n",
        "print(\"Train error : \", train_error_6)\n",
        "print(\"Test error : \", test_error_6)\n"
      ],
      "execution_count": 260,
      "outputs": [
        {
          "output_type": "stream",
          "text": [
            "NEW Theta Value :  [ 0.15808066  4.72305787 -7.15692751 -5.56618823 -0.90346651  3.22153794\n",
            "  6.10430716]\n",
            "Train error :  0.2777120784155277\n",
            "Test error :  0.008527459918515147\n"
          ],
          "name": "stdout"
        }
      ]
    },
    {
      "cell_type": "markdown",
      "metadata": {
        "id": "hmN52frkUYXL",
        "colab_type": "text"
      },
      "source": [
        "* ***For n=7***"
      ]
    },
    {
      "cell_type": "code",
      "metadata": {
        "id": "F1jS54PiQZZW",
        "colab_type": "code",
        "colab": {
          "base_uri": "https://localhost:8080/",
          "height": 0
        },
        "outputId": "d72c6bc0-89d1-41f8-c04e-b0481497e463"
      },
      "source": [
        "#for n=7\n",
        "\n",
        "Xt = np.c_[x0,x1,x2,x3,x4,x5,x6,x7]\n",
        "theta = np.array([0,0,0,0,0,0,0,0])\n",
        "X_test = np.c_[x0_t,x1_t,x2_t,x3_t,x4_t,x5_t,x6_t,x7_t]\n",
        "\n",
        "new_theta , cost_value=GDR(Xt,y_train,theta,alpha,itr)\n",
        "\n",
        "train_error_7=cost_value[-1]\n",
        "\n",
        "test_error_7=cost(new_theta,X_test,y_test)\n",
        "\n",
        "print(\"NEW Theta Value : \",new_theta)\n",
        "print(\"Train error : \", train_error_7)\n",
        "print(\"Test error : \", test_error_7)\n"
      ],
      "execution_count": 261,
      "outputs": [
        {
          "output_type": "stream",
          "text": [
            "NEW Theta Value :  [ 0.18520118  4.11054119 -5.93889927 -4.8199718  -1.42017768  1.37782087\n",
            "  3.13150481  4.04997635]\n",
            "Train error :  0.3642646487744188\n",
            "Test error :  0.01005218732020004\n"
          ],
          "name": "stdout"
        }
      ]
    },
    {
      "cell_type": "markdown",
      "metadata": {
        "id": "f-raEVmlUeCM",
        "colab_type": "text"
      },
      "source": [
        "* ***For n=8***"
      ]
    },
    {
      "cell_type": "code",
      "metadata": {
        "id": "ApdvHYK2QY6i",
        "colab_type": "code",
        "colab": {
          "base_uri": "https://localhost:8080/",
          "height": 0
        },
        "outputId": "363f712d-0ddd-4772-d58c-da995d230518"
      },
      "source": [
        "#for n=8\n",
        "\n",
        "Xt= np.c_[x0,x1,x2,x3,x4,x5,x6,x7,x8]\n",
        "theta = np.array([0,0,0,0,0,0,0,0,0])\n",
        "X_test = np.c_[x0_t,x1_t,x2_t,x3_t,x4_t,x5_t,x6_t,x7_t,x8_t]\n",
        "\n",
        "new_theta , cost_value=GDR(Xt,y_train,theta,alpha,itr)\n",
        "\n",
        "train_error_8=cost_value[-1]\n",
        "\n",
        "test_error_8=cost(new_theta,X_test,y_test)\n",
        "\n",
        "print(\"NEW Theta Value : \",new_theta)\n",
        "print(\"Train error : \", train_error_8)\n",
        "print(\"Test error : \", test_error_8)\n",
        "\n",
        "\n"
      ],
      "execution_count": 262,
      "outputs": [
        {
          "output_type": "stream",
          "text": [
            "NEW Theta Value :  [ 0.20365725  3.77596148 -5.39806672 -4.35435919 -1.4334449   0.79809081\n",
            "  2.03512855  2.53415556  2.59110799]\n",
            "Train error :  0.42646097776743763\n",
            "Test error :  0.010271989200238248\n"
          ],
          "name": "stdout"
        }
      ]
    },
    {
      "cell_type": "markdown",
      "metadata": {
        "id": "7hTtOxDVUke7",
        "colab_type": "text"
      },
      "source": [
        "* ***For n=9***"
      ]
    },
    {
      "cell_type": "code",
      "metadata": {
        "id": "VmeHu4VtQYmx",
        "colab_type": "code",
        "colab": {
          "base_uri": "https://localhost:8080/",
          "height": 0
        },
        "outputId": "c5f19dc1-588f-4ec3-ecd0-4dbb9e96a5ec"
      },
      "source": [
        "#for n=9\n",
        "\n",
        "Xt = np.c_[x0,x1,x2,x3,x4,x5,x6,x7,x8,x9]\n",
        "theta = np.array([0,0,0,0,0,0,0,0,0,0])\n",
        "X_test = np.c_[x0_t,x1_t,x2_t,x3_t,x4_t,x5_t,x6_t,x7_t,x8_t,x9_t]\n",
        "\n",
        "new_theta , cost_value=GDR(Xt,y_train,theta,alpha,itr)\n",
        "\n",
        "train_error_9=cost_value[-1]\n",
        "\n",
        "test_error_9=cost(new_theta,X_test,y_test)\n",
        "\n",
        "print(\"NEW Theta Value : \",new_theta)\n",
        "print(\"Train error : \", train_error_9)\n",
        "print(\"Test error : \", test_error_9)\n"
      ],
      "execution_count": 263,
      "outputs": [
        {
          "output_type": "stream",
          "text": [
            "NEW Theta Value :  [ 0.21525117  3.60803409 -5.18404751 -4.10508092 -1.34799563  0.64791827\n",
            "  1.64844969  1.94241033  1.83621946  1.54494973]\n",
            "Train error :  0.46373547893596256\n",
            "Test error :  0.009868453695200534\n"
          ],
          "name": "stdout"
        }
      ]
    },
    {
      "cell_type": "markdown",
      "metadata": {
        "id": "c63rWh-Ybdmv",
        "colab_type": "text"
      },
      "source": [
        "#***Q2. Visualization of the Dataset and the fitted Curves***"
      ]
    },
    {
      "cell_type": "markdown",
      "metadata": {
        "id": "OBtuG3d-hFP6",
        "colab_type": "text"
      },
      "source": [
        "* **a) Plots**"
      ]
    },
    {
      "cell_type": "markdown",
      "metadata": {
        "id": "qfuxDHDAhYYl",
        "colab_type": "text"
      },
      "source": [
        "*i) plots of the synthetic data points generated in 1 (a)*"
      ]
    },
    {
      "cell_type": "code",
      "metadata": {
        "id": "DwF34JFohEe1",
        "colab_type": "code",
        "colab": {
          "base_uri": "https://localhost:8080/",
          "height": 0
        },
        "outputId": "dc59cf1d-f7a0-4b81-eeb9-5002ec43abf2"
      },
      "source": [
        "plt.scatter(X,Y)\n",
        "plt.show()"
      ],
      "execution_count": 266,
      "outputs": [
        {
          "output_type": "display_data",
          "data": {
            "image/png": "[encoded data removed]",
            "text/plain": [
              "<Figure size 432x288 with 1 Axes>"
            ]
          },
          "metadata": {
            "tags": [],
            "needs_background": "light"
          }
        }
      ]
    },
    {
      "cell_type": "markdown",
      "metadata": {
        "id": "Zns7uZXRkzuj",
        "colab_type": "text"
      },
      "source": [
        ""
      ]
    },
    {
      "cell_type": "code",
      "metadata": {
        "id": "dfRrF2pik3Ex",
        "colab_type": "code",
        "colab": {}
      },
      "source": [
        ""
      ],
      "execution_count": 266,
      "outputs": []
    },
    {
      "cell_type": "markdown",
      "metadata": {
        "id": "ZzEA984qgpoU",
        "colab_type": "text"
      },
      "source": [
        "* **b) Train error vs Test error**"
      ]
    },
    {
      "cell_type": "code",
      "metadata": {
        "id": "nAWujtT0b2jM",
        "colab_type": "code",
        "colab": {
          "base_uri": "https://localhost:8080/",
          "height": 0
        },
        "outputId": "42e2275f-c2d9-4e2a-e750-13f1d577a1ba"
      },
      "source": [
        "#train error vs test error\n",
        "\n",
        "train_error=np.array([train_error_0,train_error_1,train_error_2,train_error_3,train_error_4,train_error_5,train_error_6,train_error_7,train_error_8,train_error_9])\n",
        "test_error=np.array([test_error_0,test_error_1,test_error_2,test_error_3,test_error_4,test_error_5,test_error_6,test_error_7,test_error_8,test_error_9])\n",
        "\n",
        "error_x=[0,1,2,3,4,5,6,7,8,9]\n",
        "\n",
        "plt.plot(error_x,train_error, 'r', label='Train Error')\n",
        "plt.plot(error_x,test_error, 'g', label='Test Error')\n",
        "plt.title('Train Error vs Test Error')\n",
        "plt.ylabel('Error')\n",
        "plt.xlabel('N')\n",
        "plt.legend()\n",
        "plt.grid()\n",
        "plt.xticks(np.arange(0, 10, step=1))\n",
        "plt.show()\n",
        "\n",
        "print(\"MIN Train error : \",min(train_error))\n",
        "print(\"MIN Test error : \",min(test_error))"
      ],
      "execution_count": 267,
      "outputs": [
        {
          "output_type": "display_data",
          "data": {
            "image/png": "[encoded data removed]",
            "text/plain": [
              "<Figure size 432x288 with 1 Axes>"
            ]
          },
          "metadata": {
            "tags": [],
            "needs_background": "light"
          }
        },
        {
          "output_type": "stream",
          "text": [
            "MIN Train error :  0.18123884012322966\n",
            "MIN Test error :  0.0036354395917132733\n"
          ],
          "name": "stdout"
        }
      ]
    },
    {
      "cell_type": "markdown",
      "metadata": {
        "id": "c9PjxO3EBY3F",
        "colab_type": "text"
      },
      "source": [
        "* *NOTE: For the N=10 size dataset value n=1 is the suitable as we got the minimum test error 0.0230*"
      ]
    },
    {
      "cell_type": "markdown",
      "metadata": {
        "id": "CXoO-nj1b83W",
        "colab_type": "text"
      },
      "source": [
        "#***Q3. Experimenting with Larger Training Set(N=100)***\n",
        "\n"
      ]
    },
    {
      "cell_type": "code",
      "metadata": {
        "id": "et21p2htcXQl",
        "colab_type": "code",
        "colab": {
          "base_uri": "https://localhost:8080/",
          "height": 0
        },
        "outputId": "31283bed-77eb-4664-8530-66b1ab0f9ebf"
      },
      "source": [
        "#Generating a Synthetic Dataset\n",
        "\n",
        "inp=[]\n",
        "for i in range(100):\n",
        "  inp.append(random.uniform(0,1))\n",
        "X=np.array(inp)\n",
        "print(X)\n",
        "print()\n",
        "Y=np.random.normal(scale=0.3)+ np.sin(2*math.pi*X) \n",
        "print(Y)\n",
        "\n",
        "#ploting \n",
        "plt.scatter(X,Y)\n",
        "plt.show()\n"
      ],
      "execution_count": 268,
      "outputs": [
        {
          "output_type": "stream",
          "text": [
            "[0.59778946 0.94810037 0.15751884 0.76440544 0.64146835 0.38057171\n",
            " 0.40603274 0.9193465  0.04473723 0.08509173 0.64819415 0.83749145\n",
            " 0.47899975 0.92231444 0.732062   0.5197921  0.05434358 0.0673102\n",
            " 0.50686106 0.76006918 0.48848381 0.72037606 0.24750141 0.65660537\n",
            " 0.6291104  0.72779127 0.74978538 0.50417539 0.80369189 0.13755132\n",
            " 0.7828421  0.97698732 0.71546445 0.34421201 0.48499695 0.46467813\n",
            " 0.41792764 0.86641654 0.01644244 0.04229313 0.64844898 0.75972542\n",
            " 0.80660428 0.13701043 0.26855816 0.96152726 0.99620683 0.93318672\n",
            " 0.69852408 0.52621127 0.62412131 0.56491677 0.25767146 0.94952391\n",
            " 0.728032   0.25993421 0.10330372 0.75479278 0.00804786 0.71005461\n",
            " 0.55975134 0.84933869 0.52918065 0.35993393 0.72592561 0.90473933\n",
            " 0.61044732 0.0218084  0.07880239 0.31841926 0.59419687 0.86764899\n",
            " 0.71048191 0.01025263 0.26103656 0.64925864 0.64715796 0.52586743\n",
            " 0.50834896 0.13946332 0.7443271  0.74072922 0.86442376 0.75964909\n",
            " 0.99181364 0.9664799  0.19649624 0.20681628 0.92187684 0.96404784\n",
            " 0.70867603 0.2653019  0.87912173 0.4429005  0.86543992 0.26010596\n",
            " 0.22891041 0.65221455 0.26626266 0.43088397]\n",
            "\n",
            "[-0.61270473 -0.35655866  0.79965992 -1.032119   -0.81257362  0.64571172\n",
            "  0.52049231 -0.52156021  0.24119281  0.47332501 -0.83850818 -0.88888063\n",
            "  0.09535352 -0.5051723  -1.02986761 -0.16024959  0.29864208  0.37421477\n",
            " -0.07930837 -1.03421176  0.03608279 -1.01893968  0.96366435 -0.86892047\n",
            " -0.76134341 -1.02649228 -1.03621151 -0.06244414 -0.9798455   0.72440291\n",
            " -1.01499708 -0.18030205 -1.01276161  0.79364093  0.05791495  0.18390404\n",
            "  0.45691053 -0.78040793  0.06691479  0.22640668 -0.83946291 -1.03434599\n",
            " -0.97363098  0.72219222  0.95699699 -0.2755964  -0.06004335 -0.44379047\n",
            " -0.98436242 -0.20015922 -0.73940452 -0.43288031  0.96262613 -0.348073\n",
            " -1.02670152  0.96184018  0.56823846 -1.03575903  0.01433222 -1.00488086\n",
            " -0.40288386 -0.84766474 -0.21853435  0.73456536 -1.02479384 -0.59964966\n",
            " -0.67579947  0.10038542  0.43893363  0.87279882 -0.59411504 -0.77521316\n",
            " -1.00554416  0.02816222  0.9613842  -0.8424827  -0.83460487 -0.19802768\n",
            " -0.08864641  0.73214701 -1.03557724 -1.03451637 -0.78871291 -1.03437516\n",
            " -0.08762616 -0.24527184  0.90781125  0.92720251 -0.50759896 -0.26019021\n",
            " -1.0026933   0.95916924 -0.72477176  0.31490733 -0.7844927   0.96177228\n",
            "  0.955021   -0.85332953  0.95857161  0.38453482]\n"
          ],
          "name": "stdout"
        },
        {
          "output_type": "display_data",
          "data": {
            "image/png": "[encoded data removed]",
            "text/plain": [
              "<Figure size 432x288 with 1 Axes>"
            ]
          },
          "metadata": {
            "tags": [],
            "needs_background": "light"
          }
        }
      ]
    },
    {
      "cell_type": "code",
      "metadata": {
        "id": "4LrAfrJtmnQm",
        "colab_type": "code",
        "colab": {
          "base_uri": "https://localhost:8080/",
          "height": 0
        },
        "outputId": "6bc005b7-92d7-4caf-dce3-bc3d529e3be5"
      },
      "source": [
        "#Splitting DataSet\n",
        "\n",
        "\n",
        "x_train, x_test, y_train, y_test = tts(X,Y,test_size =0.2)\n",
        "print(x_train.shape)\n",
        "print(x_test.shape)\n",
        "print(y_train.shape)\n",
        "print(y_test.shape)"
      ],
      "execution_count": 269,
      "outputs": [
        {
          "output_type": "stream",
          "text": [
            "(80,)\n",
            "(20,)\n",
            "(80,)\n",
            "(20,)\n"
          ],
          "name": "stdout"
        }
      ]
    },
    {
      "cell_type": "code",
      "metadata": {
        "id": "GxVVun0CmrXV",
        "colab_type": "code",
        "colab": {}
      },
      "source": [
        "#for n=1 to n=9 calculating x^1 to x^9 coefficient\n",
        "\n",
        "\n",
        "#for Train set\n",
        "train_n=int(0.8*100)\n",
        "test_n=int(0.2*100)\n",
        "x0=np.ones(train_n)\n",
        "x1=x_train\n",
        "x2=[]\n",
        "x3=[]\n",
        "x4=[]\n",
        "x5=[]\n",
        "x6=[]\n",
        "x7=[]\n",
        "x8=[]\n",
        "x9=[]\n",
        "x12=np.array(x1)\n",
        "\n",
        "for i in range(train_n):\n",
        "  x2.append(x_train[i]*x_train[i])\n",
        "  x3.append(x2[i]*x_train[i])\n",
        "  x4.append(x3[i]*x_train[i])\n",
        "  x5.append(x4[i]*x_train[i])\n",
        "  x6.append(x5[i]*x_train[i])\n",
        "  x7.append(x6[i]*x_train[i])\n",
        "  x8.append(x7[i]*x_train[i])\n",
        "  x9.append(x8[i]*x_train[i])\n",
        "\n",
        "\n",
        "\n",
        "#for test set\n",
        "x0_t=np.ones(test_n)\n",
        "x1_t=x_test\n",
        "x2_t=[]\n",
        "x3_t=[]\n",
        "x4_t=[]\n",
        "x5_t=[]\n",
        "x6_t=[]\n",
        "x7_t=[]\n",
        "x8_t=[]\n",
        "x9_t=[]\n",
        "\n",
        "for i in range(test_n):\n",
        "  x2_t.append(x_test[i]*x_test[i])\n",
        "  x3_t.append(x2_t[i]*x_test[i])\n",
        "  x4_t.append(x3_t[i]*x_test[i])\n",
        "  x5_t.append(x4_t[i]*x_test[i])\n",
        "  x6_t.append(x5_t[i]*x_test[i])\n",
        "  x7_t.append(x6_t[i]*x_test[i])\n",
        "  x8_t.append(x7_t[i]*x_test[i])\n",
        "  x9_t.append(x8_t[i]*x_test[i])\n"
      ],
      "execution_count": 270,
      "outputs": []
    },
    {
      "cell_type": "markdown",
      "metadata": {
        "id": "-vNGSof7p4D6",
        "colab_type": "text"
      },
      "source": [
        "*For n=0*"
      ]
    },
    {
      "cell_type": "code",
      "metadata": {
        "id": "LBPK-5XMmsPv",
        "colab_type": "code",
        "colab": {
          "base_uri": "https://localhost:8080/",
          "height": 0
        },
        "outputId": "9aa0f6a0-9cf8-449b-fd29-3ed17c9cf3ea"
      },
      "source": [
        "#for n=0\n",
        "\n",
        "Xt= np.c_[x0]\n",
        "theta = np.array([0])\n",
        "X_test = np.c_[x0_t]\n",
        "\n",
        "new_theta , cost_value=GDR(Xt,y_train,theta,alpha,itr)\n",
        "\n",
        "train_error_100=cost_value[-1]\n",
        "\n",
        "test_error_100=cost(new_theta,X_test,y_test)\n",
        "\n",
        "\n",
        "print(\"NEW Theta Value : \",new_theta)\n",
        "print(\"Train error : \", train_error_100)\n",
        "print(\"Test error : \", test_error_100)\n"
      ],
      "execution_count": 271,
      "outputs": [
        {
          "output_type": "stream",
          "text": [
            "NEW Theta Value :  [-0.14939871]\n",
            "Train error :  1655.9556559411565\n",
            "Test error :  68.35475075695646\n"
          ],
          "name": "stdout"
        }
      ]
    },
    {
      "cell_type": "markdown",
      "metadata": {
        "id": "fVqvWYiqp-nq",
        "colab_type": "text"
      },
      "source": [
        "*For n=1*"
      ]
    },
    {
      "cell_type": "code",
      "metadata": {
        "id": "qfVHC5gNnGr_",
        "colab_type": "code",
        "colab": {
          "base_uri": "https://localhost:8080/",
          "height": 0
        },
        "outputId": "41703e5f-cdd8-49a7-ae84-623c3253453f"
      },
      "source": [
        "#for n=1\n",
        "\n",
        "Xt = np.c_[x0,x1]\n",
        "theta = np.array([0,0])\n",
        "X_test = np.c_[x0_t,x1_t]\n",
        "\n",
        "new_theta , cost_value=GDR(Xt,y_train,theta,alpha,itr)\n",
        "\n",
        "train_error_101=cost_value[-1]\n",
        "\n",
        "test_error_101=cost(new_theta,X_test,y_test)\n",
        "\n",
        "print(\"NEW Theta Value : \",new_theta)\n",
        "print(\"Train error : \", train_error_101)\n",
        "print(\"Test error : \", test_error_101)\n"
      ],
      "execution_count": 272,
      "outputs": [
        {
          "output_type": "stream",
          "text": [
            "NEW Theta Value :  [ 0.83601036 -1.87858774]\n",
            "Train error :  704.1702670284745\n",
            "Test error :  38.4142240898853\n"
          ],
          "name": "stdout"
        }
      ]
    },
    {
      "cell_type": "markdown",
      "metadata": {
        "id": "pRROSNnGqCPK",
        "colab_type": "text"
      },
      "source": [
        "*For n=2*"
      ]
    },
    {
      "cell_type": "code",
      "metadata": {
        "id": "7-9rMQwonGco",
        "colab_type": "code",
        "colab": {
          "base_uri": "https://localhost:8080/",
          "height": 0
        },
        "outputId": "fad7508b-a4ca-4d5b-de74-e920f6e250c8"
      },
      "source": [
        "#for n=2\n",
        "\n",
        "Xt = np.c_[x0,x1,x2]\n",
        "theta = np.array([0,0,0])\n",
        "X_test = np.c_[x0_t,x1_t,x2_t]\n",
        "\n",
        "new_theta , cost_value=GDR(Xt,y_train,theta,alpha,itr)\n",
        "\n",
        "train_error_102=cost_value[-1]\n",
        "\n",
        "test_error_102=cost(new_theta,X_test,y_test)\n",
        "\n",
        "print(\"NEW Theta Value : \",new_theta)\n",
        "print(\"Train error : \", train_error_102)\n",
        "print(\"Test error : \", test_error_102)\n"
      ],
      "execution_count": 273,
      "outputs": [
        {
          "output_type": "stream",
          "text": [
            "NEW Theta Value :  [ 0.89750675 -2.26202048  0.38848216]\n",
            "Train error :  701.429151612718\n",
            "Test error :  36.040338523785906\n"
          ],
          "name": "stdout"
        }
      ]
    },
    {
      "cell_type": "markdown",
      "metadata": {
        "id": "X8LBHYjHqIB4",
        "colab_type": "text"
      },
      "source": [
        "*For n=3*"
      ]
    },
    {
      "cell_type": "code",
      "metadata": {
        "id": "xITcXmu2nGNe",
        "colab_type": "code",
        "colab": {
          "base_uri": "https://localhost:8080/",
          "height": 0
        },
        "outputId": "b308b8c2-7dbc-4209-e35d-954cbff54489"
      },
      "source": [
        "#for n=3\n",
        "\n",
        "Xt = np.c_[x0,x1,x2,x3]\n",
        "theta = np.array([0,0,0,0])\n",
        "X_test = np.c_[x0_t,x1_t,x2_t,x3_t]\n",
        "\n",
        "new_theta , cost_value=GDR(Xt,y_train,theta,alpha,itr)\n",
        "\n",
        "train_error_103=cost_value[-1]\n",
        "\n",
        "test_error_103=cost(new_theta,X_test,y_test)\n",
        "\n",
        "print(\"NEW Theta Value : \",new_theta)\n",
        "print(\"Train error : \", train_error_103)\n",
        "print(\"Test error : \", test_error_103)\n"
      ],
      "execution_count": 274,
      "outputs": [
        {
          "output_type": "stream",
          "text": [
            "NEW Theta Value :  [  0.50169839   3.43067756 -14.58907937  10.27952113]\n",
            "Train error :  230.3858744609289\n",
            "Test error :  9.815208914227403\n"
          ],
          "name": "stdout"
        }
      ]
    },
    {
      "cell_type": "markdown",
      "metadata": {
        "id": "z-4nBEBbqLcl",
        "colab_type": "text"
      },
      "source": [
        "*For n=4*"
      ]
    },
    {
      "cell_type": "code",
      "metadata": {
        "id": "Z066RawYnF_W",
        "colab_type": "code",
        "colab": {
          "base_uri": "https://localhost:8080/",
          "height": 0
        },
        "outputId": "6a71e484-17d7-43c8-db42-c887c7f658bc"
      },
      "source": [
        "#for n=4\n",
        "\n",
        "Xt = np.c_[x0,x1,x2,x3,x4]\n",
        "theta = np.array([0,0,0,0,0])\n",
        "X_test = np.c_[x0_t,x1_t,x2_t,x3_t,x4_t]\n",
        "\n",
        "new_theta , cost_value=GDR(Xt,y_train,theta,alpha,itr)\n",
        "\n",
        "train_error_104=cost_value[-1]\n",
        "\n",
        "\n",
        "test_error_104=cost(new_theta,X_test,y_test)\n",
        "\n",
        "print(\"NEW Theta Value : \",new_theta)\n",
        "print(\"Train error : \", train_error_104)\n",
        "print(\"Test error : \", test_error_104)\n"
      ],
      "execution_count": 275,
      "outputs": [
        {
          "output_type": "stream",
          "text": [
            "NEW Theta Value :  [  0.1856192    5.86951665 -13.70121862  -3.36461673  11.17708905]\n",
            "Train error :  46.6019161442855\n",
            "Test error :  1.8288110288130566\n"
          ],
          "name": "stdout"
        }
      ]
    },
    {
      "cell_type": "markdown",
      "metadata": {
        "id": "t28JA3m0qOlc",
        "colab_type": "text"
      },
      "source": [
        "*For n=5*"
      ]
    },
    {
      "cell_type": "code",
      "metadata": {
        "id": "02TKuPM1nFxn",
        "colab_type": "code",
        "colab": {
          "base_uri": "https://localhost:8080/",
          "height": 0
        },
        "outputId": "714a0afd-2963-4a5f-f001-74cd95c2e02a"
      },
      "source": [
        "#for n=5\n",
        "\n",
        "Xt = np.c_[x0,x1,x2,x3,x4,x5]\n",
        "theta = np.array([0,0,0,0,0,0])\n",
        "X_test = np.c_[x0_t,x1_t,x2_t,x3_t,x4_t,x5_t]\n",
        "\n",
        "new_theta , cost_value=GDR(Xt,y_train,theta,alpha,itr)\n",
        "\n",
        "train_error_105=cost_value[-1]\n",
        "\n",
        "\n",
        "test_error_105=cost(new_theta,X_test,y_test)\n",
        "\n",
        "print(\"NEW Theta Value : \",new_theta)\n",
        "print(\"Train error : \", train_error_105)\n",
        "print(\"Test error : \", test_error_105)\n"
      ],
      "execution_count": 276,
      "outputs": [
        {
          "output_type": "stream",
          "text": [
            "NEW Theta Value :  [  0.14588634   5.45203959 -10.29503321  -5.07206766   2.42010211\n",
            "   7.78148243]\n",
            "Train error :  53.8474412352548\n",
            "Test error :  4.579985372097922\n"
          ],
          "name": "stdout"
        }
      ]
    },
    {
      "cell_type": "markdown",
      "metadata": {
        "id": "ohP3eIsEqSPo",
        "colab_type": "text"
      },
      "source": [
        "*For n=6*"
      ]
    },
    {
      "cell_type": "code",
      "metadata": {
        "id": "U098s6vRnFji",
        "colab_type": "code",
        "colab": {
          "base_uri": "https://localhost:8080/",
          "height": 0
        },
        "outputId": "b955672e-eead-4804-a0af-dbcf0a2c8e0a"
      },
      "source": [
        "#for n=6\n",
        "\n",
        "Xt = np.c_[x0,x1,x2,x3,x4,x5,x6]\n",
        "theta = np.array([0,0,0,0,0,0,0])\n",
        "X_test = np.c_[x0_t,x1_t,x2_t,x3_t,x4_t,x5_t,x6_t]\n",
        "\n",
        "new_theta , cost_value=GDR(Xt,y_train,theta,alpha,itr)\n",
        "\n",
        "train_error_106=cost_value[-1]\n",
        "\n",
        "test_error_106=cost(new_theta,X_test,y_test)\n",
        "\n",
        "print(\"NEW Theta Value : \",new_theta)\n",
        "print(\"Train error : \", train_error_106)\n",
        "print(\"Test error : \", test_error_106)\n"
      ],
      "execution_count": 277,
      "outputs": [
        {
          "output_type": "stream",
          "text": [
            "NEW Theta Value :  [ 0.19538396  4.69491706 -8.58039644 -4.33478541  0.80857709  3.57344823\n",
            "  4.16490734]\n",
            "Train error :  76.5943481603978\n",
            "Test error :  6.480327931844143\n"
          ],
          "name": "stdout"
        }
      ]
    },
    {
      "cell_type": "markdown",
      "metadata": {
        "id": "0DOZJTg8qYUk",
        "colab_type": "text"
      },
      "source": [
        "*For n=7*"
      ]
    },
    {
      "cell_type": "code",
      "metadata": {
        "id": "lYRtmuB-nFVw",
        "colab_type": "code",
        "colab": {
          "base_uri": "https://localhost:8080/",
          "height": 0
        },
        "outputId": "23730b2c-be12-4023-cd1a-572f83370be0"
      },
      "source": [
        "#for n=7\n",
        "\n",
        "Xt = np.c_[x0,x1,x2,x3,x4,x5,x6,x7]\n",
        "theta = np.array([0,0,0,0,0,0,0,0])\n",
        "X_test = np.c_[x0_t,x1_t,x2_t,x3_t,x4_t,x5_t,x6_t,x7_t]\n",
        "\n",
        "new_theta , cost_value=GDR(Xt,y_train,theta,alpha,itr)\n",
        "\n",
        "train_error_107=cost_value[-1]\n",
        "\n",
        "test_error_107=cost(new_theta,X_test,y_test)\n",
        "\n",
        "print(\"NEW Theta Value : \",new_theta)\n",
        "print(\"Train error : \", train_error_107)\n",
        "print(\"Test error : \", test_error_107)\n"
      ],
      "execution_count": 278,
      "outputs": [
        {
          "output_type": "stream",
          "text": [
            "NEW Theta Value :  [ 0.23311393  4.34967527 -8.22873952 -3.83626248  0.90640382  2.99899703\n",
            "  2.83653076  1.25413459]\n",
            "Train error :  84.28393312875806\n",
            "Test error :  6.39855641913141\n"
          ],
          "name": "stdout"
        }
      ]
    },
    {
      "cell_type": "markdown",
      "metadata": {
        "id": "7MDLevcQqbYo",
        "colab_type": "text"
      },
      "source": [
        "*For n=8*"
      ]
    },
    {
      "cell_type": "code",
      "metadata": {
        "id": "TbXNoyOPnFDD",
        "colab_type": "code",
        "colab": {
          "base_uri": "https://localhost:8080/",
          "height": 0
        },
        "outputId": "e722fe27-cf0e-484f-d799-a980e8e1599c"
      },
      "source": [
        "#for n=8\n",
        "\n",
        "Xt= np.c_[x0,x1,x2,x3,x4,x5,x6,x7,x8]\n",
        "theta = np.array([0,0,0,0,0,0,0,0,0])\n",
        "X_test = np.c_[x0_t,x1_t,x2_t,x3_t,x4_t,x5_t,x6_t,x7_t,x8_t]\n",
        "\n",
        "new_theta , cost_value=GDR(Xt,y_train,theta,alpha,itr)\n",
        "\n",
        "train_error_108=cost_value[-1]\n",
        "\n",
        "test_error_108=cost(new_theta,X_test,y_test)\n",
        "\n",
        "print(\"NEW Theta Value : \",new_theta)\n",
        "print(\"Train error : \", train_error_108)\n",
        "print(\"Test error : \", test_error_108)\n",
        "\n",
        "\n"
      ],
      "execution_count": 279,
      "outputs": [
        {
          "output_type": "stream",
          "text": [
            "NEW Theta Value :  [ 0.24206449  4.3644288  -8.44905795 -3.84934846  1.08783071  3.28044165\n",
            "  3.13656258  1.51789054 -0.89253877]\n",
            "Train error :  76.33484890362826\n",
            "Test error :  5.099081018268259\n"
          ],
          "name": "stdout"
        }
      ]
    },
    {
      "cell_type": "markdown",
      "metadata": {
        "id": "oxGECKRiqfob",
        "colab_type": "text"
      },
      "source": [
        "*For n=9*"
      ]
    },
    {
      "cell_type": "code",
      "metadata": {
        "id": "rCVEyGchmr8f",
        "colab_type": "code",
        "colab": {
          "base_uri": "https://localhost:8080/",
          "height": 0
        },
        "outputId": "dff24705-e550-4e3b-e71b-96fcb53063ac"
      },
      "source": [
        "#for n=9\n",
        "\n",
        "Xt = np.c_[x0,x1,x2,x3,x4,x5,x6,x7,x8,x9]\n",
        "theta = np.array([0,0,0,0,0,0,0,0,0,0])\n",
        "X_test = np.c_[x0_t,x1_t,x2_t,x3_t,x4_t,x5_t,x6_t,x7_t,x8_t,x9_t]\n",
        "\n",
        "new_theta , cost_value=GDR(Xt,y_train,theta,alpha,itr)\n",
        "\n",
        "train_error_109=cost_value[-1]\n",
        "\n",
        "test_error_109=cost(new_theta,X_test,y_test)\n",
        "\n",
        "print(\"NEW Theta Value : \",new_theta)\n",
        "print(\"Train error : \", train_error_109)\n",
        "print(\"Test error : \", test_error_109)\n"
      ],
      "execution_count": 280,
      "outputs": [
        {
          "output_type": "stream",
          "text": [
            "NEW Theta Value :  [ 0.22985806  4.55915805 -8.76056519 -4.15950167  1.01497177  3.52004482\n",
            "  3.69099833  2.35997088  0.20039264 -2.3382288 ]\n",
            "Train error :  60.24842777583922\n",
            "Test error :  3.464984522118172\n"
          ],
          "name": "stdout"
        }
      ]
    },
    {
      "cell_type": "markdown",
      "metadata": {
        "id": "0lQ9exaiqk1W",
        "colab_type": "text"
      },
      "source": [
        "* ***Train error vs Test error***"
      ]
    },
    {
      "cell_type": "code",
      "metadata": {
        "id": "MzBkNdHzoQPf",
        "colab_type": "code",
        "colab": {
          "base_uri": "https://localhost:8080/",
          "height": 0
        },
        "outputId": "9dbdfc11-61e8-48d8-9fb4-d7c1885c59b6"
      },
      "source": [
        "#Train error vs Test error\n",
        "\n",
        "train_error_12=np.array([train_error_100,train_error_101,train_error_102,train_error_103,train_error_104,train_error_105,train_error_106,train_error_107,train_error_108,train_error_109])\n",
        "test_error_12=np.array([test_error_100,test_error_101,test_error_102,test_error_103,test_error_104,test_error_105,test_error_106,test_error_107,test_error_108,test_error_109])\n",
        "\n",
        "error_x=[0,1,2,3,4,5,6,7,8,9]\n",
        "\n",
        "plt.plot(error_x,train_error_12, 'r', label='Train Error')\n",
        "plt.plot(error_x,test_error_12, 'g', label='Test Error')\n",
        "plt.title('Train Error vs Test Error')\n",
        "plt.ylabel('Error')\n",
        "plt.xlabel('N')\n",
        "plt.legend()\n",
        "plt.grid()\n",
        "plt.xticks(np.arange(0, 10, step=1))\n",
        "plt.show()\n",
        "\n",
        "print(\"MIN Train error : \",min(train_error_12))\n",
        "print(\"MIN Test error : \",min(test_error_12))"
      ],
      "execution_count": 281,
      "outputs": [
        {
          "output_type": "display_data",
          "data": {
            "image/png": "[encoded data removed]",
            "text/plain": [
              "<Figure size 432x288 with 1 Axes>"
            ]
          },
          "metadata": {
            "tags": [],
            "needs_background": "light"
          }
        },
        {
          "output_type": "stream",
          "text": [
            "MIN Train error :  46.6019161442855\n",
            "MIN Test error :  1.8288110288130566\n"
          ],
          "name": "stdout"
        }
      ]
    },
    {
      "cell_type": "markdown",
      "metadata": {
        "id": "cQRiQ57BFsWz",
        "colab_type": "text"
      },
      "source": [
        "*NOTE: For N=100 we got minimun test error when n=5 as 5.26 so,n=5 is sutaible for N=100* "
      ]
    },
    {
      "cell_type": "markdown",
      "metadata": {
        "colab_type": "text",
        "id": "uaMiS5j_sbPS"
      },
      "source": [
        "#  **Q3. Experimenting with Larger Training Set(N=1000)**"
      ]
    },
    {
      "cell_type": "code",
      "metadata": {
        "colab_type": "code",
        "id": "tZEUo3E-sbPe",
        "colab": {
          "base_uri": "https://localhost:8080/",
          "height": 0
        },
        "outputId": "00f30178-942e-4f20-c41c-2293e64d626e"
      },
      "source": [
        "#Generating a Synthetic Dataset\n",
        "\n",
        "inp=[]\n",
        "for i in range(1000):\n",
        "  inp.append(random.uniform(0,1))\n",
        "X=np.array(inp)\n",
        "print(X)\n",
        "print()\n",
        "Y=np.random.normal(scale=0.3)+ np.sin(2*math.pi*X) \n",
        "print(Y)\n",
        "\n",
        "#ploting \n",
        "plt.scatter(X,Y)\n",
        "plt.show()\n"
      ],
      "execution_count": 282,
      "outputs": [
        {
          "output_type": "stream",
          "text": [
            "[0.17050039 0.68262986 0.33450062 0.53924824 0.34652456 0.66278527\n",
            " 0.0549012  0.81706381 0.40439172 0.20259164 0.43988476 0.68409212\n",
            " 0.735363   0.51391775 0.30852768 0.50304896 0.47633875 0.64276296\n",
            " 0.38660632 0.12104577 0.36538059 0.22459322 0.77398663 0.13833478\n",
            " 0.06743403 0.65425255 0.2089629  0.75320409 0.14122608 0.63937913\n",
            " 0.19272824 0.50951929 0.09937154 0.3161727  0.26416914 0.72755893\n",
            " 0.58855984 0.48586437 0.71135738 0.05160209 0.78880014 0.43118285\n",
            " 0.2356894  0.18686893 0.87596237 0.09461923 0.66434769 0.79610713\n",
            " 0.94265889 0.51428924 0.63727509 0.90801762 0.63695666 0.80742532\n",
            " 0.1791057  0.09306149 0.48037298 0.78417576 0.98053064 0.66941644\n",
            " 0.60703636 0.96370806 0.94602985 0.92506312 0.32388873 0.76390007\n",
            " 0.88076042 0.69655455 0.65820067 0.13097741 0.14103275 0.93096366\n",
            " 0.14165792 0.34843748 0.1303973  0.40505112 0.5731455  0.53736708\n",
            " 0.19587468 0.22805912 0.56250203 0.18788523 0.22308591 0.46110202\n",
            " 0.9164873  0.67255793 0.23647605 0.31465251 0.01209461 0.48155864\n",
            " 0.23418267 0.00581801 0.67826461 0.78114549 0.82582847 0.47462288\n",
            " 0.44712154 0.79363717 0.05364072 0.68444472 0.75853227 0.36585829\n",
            " 0.20021788 0.15921688 0.83299921 0.83510637 0.38087642 0.6739095\n",
            " 0.81296937 0.5654064  0.734295   0.8168897  0.714125   0.31947449\n",
            " 0.43147674 0.16842248 0.94942531 0.88187102 0.15685733 0.62593579\n",
            " 0.95041481 0.83109601 0.61934014 0.55724065 0.12000069 0.94574767\n",
            " 0.13862182 0.57408924 0.84060665 0.06845939 0.65443085 0.79829195\n",
            " 0.55641135 0.66706035 0.453169   0.81180853 0.24607791 0.54718336\n",
            " 0.39510939 0.33445995 0.45564738 0.7431122  0.478967   0.25220792\n",
            " 0.6355513  0.09718919 0.69341943 0.68546938 0.25855532 0.29128154\n",
            " 0.02185181 0.09449642 0.28817205 0.7837799  0.66484428 0.11020425\n",
            " 0.6070534  0.75418612 0.68564453 0.38725179 0.55195405 0.74917021\n",
            " 0.29199308 0.42910971 0.16212899 0.53861841 0.16942059 0.47842876\n",
            " 0.52291673 0.44997306 0.67146452 0.29644779 0.99499558 0.90436894\n",
            " 0.51884399 0.3659428  0.66398137 0.74261779 0.43976457 0.66639076\n",
            " 0.54417355 0.82386277 0.52675941 0.31117298 0.19429922 0.39699729\n",
            " 0.99179609 0.84340074 0.32491376 0.98601058 0.91612748 0.056764\n",
            " 0.48623805 0.79384797 0.56745676 0.17778947 0.81617174 0.76673976\n",
            " 0.16834602 0.88183847 0.3087774  0.92603215 0.83320803 0.90320602\n",
            " 0.25860074 0.14028599 0.11947346 0.52453294 0.4892446  0.16265931\n",
            " 0.14411091 0.13285275 0.35133012 0.48321136 0.55267753 0.2047358\n",
            " 0.89744415 0.59006667 0.50830582 0.73958059 0.03062651 0.38962182\n",
            " 0.05270039 0.31193409 0.1289138  0.71405766 0.09465681 0.50033985\n",
            " 0.9488428  0.74761858 0.11379958 0.07535635 0.65540221 0.10387056\n",
            " 0.89510592 0.10081597 0.66376518 0.788125   0.63695529 0.19488159\n",
            " 0.23792769 0.95390365 0.07272719 0.43876284 0.54216798 0.04171053\n",
            " 0.87627518 0.14456751 0.99649676 0.69870668 0.50835886 0.8736797\n",
            " 0.77800928 0.40994287 0.01142518 0.87096389 0.08414408 0.74962496\n",
            " 0.26669555 0.75105119 0.00602    0.66178438 0.67148796 0.0483065\n",
            " 0.71391853 0.24947648 0.01524713 0.61136117 0.94588394 0.1243049\n",
            " 0.19277481 0.29163793 0.06405074 0.53257073 0.50299723 0.77079258\n",
            " 0.37556292 0.04064561 0.3890442  0.77444162 0.42766674 0.98723551\n",
            " 0.34574998 0.69881609 0.04135563 0.96694305 0.22790408 0.75840232\n",
            " 0.07857889 0.85990707 0.81395449 0.06748074 0.62829442 0.31187361\n",
            " 0.63076084 0.2907214  0.52994967 0.57685483 0.22700156 0.2713493\n",
            " 0.81487028 0.56453689 0.67583178 0.34639414 0.98634948 0.80736128\n",
            " 0.80567772 0.0243398  0.2090022  0.41351401 0.25534923 0.13514839\n",
            " 0.90608078 0.16610281 0.88389959 0.16876576 0.34461843 0.16900834\n",
            " 0.55313924 0.77440198 0.5183433  0.21312464 0.88866186 0.33505189\n",
            " 0.5529003  0.48560604 0.89961862 0.97177429 0.67132651 0.39623866\n",
            " 0.66477308 0.82455666 0.83854885 0.93019465 0.74248279 0.94560993\n",
            " 0.18336186 0.83943262 0.54079675 0.80175655 0.18300393 0.83058268\n",
            " 0.36098632 0.54100547 0.32802701 0.82272837 0.58967907 0.22328161\n",
            " 0.0739378  0.6068578  0.08810498 0.676978   0.58641495 0.85362214\n",
            " 0.38357386 0.80412159 0.64086562 0.11156073 0.82940415 0.76871053\n",
            " 0.62941456 0.5977686  0.75954208 0.51099639 0.87987359 0.49256319\n",
            " 0.14740281 0.12326487 0.7499224  0.4953377  0.97254596 0.02570847\n",
            " 0.35998019 0.70586246 0.7787509  0.80830134 0.09338146 0.676864\n",
            " 0.1936221  0.26854734 0.28305125 0.46334136 0.54693895 0.9040777\n",
            " 0.72574119 0.67529955 0.6391111  0.98319496 0.88685688 0.10724412\n",
            " 0.93160649 0.74062173 0.87988836 0.83366874 0.263318   0.52964459\n",
            " 0.56011709 0.26706226 0.60021643 0.03461338 0.18533183 0.99036969\n",
            " 0.20545426 0.82651473 0.70219485 0.09116681 0.3800575  0.72614356\n",
            " 0.60745446 0.77959231 0.80898421 0.2153743  0.2969005  0.86199326\n",
            " 0.22509138 0.0772507  0.0117666  0.26074001 0.87060223 0.83726996\n",
            " 0.73180837 0.50031428 0.32735591 0.73551942 0.4749247  0.33852742\n",
            " 0.4398244  0.51696187 0.74959948 0.35043386 0.49236389 0.28358286\n",
            " 0.6381674  0.47135129 0.52638735 0.20973604 0.02192769 0.48267681\n",
            " 0.53099165 0.01943437 0.04449624 0.42264203 0.89110247 0.10193492\n",
            " 0.31442686 0.27855139 0.48444885 0.882678   0.10000085 0.35800679\n",
            " 0.68060226 0.32653971 0.54815926 0.64257563 0.57173693 0.63605667\n",
            " 0.6171661  0.72790909 0.78494228 0.99618569 0.61618117 0.5802459\n",
            " 0.07195317 0.21899803 0.43627575 0.02569965 0.65728268 0.69275076\n",
            " 0.11680824 0.41140333 0.98508977 0.80690297 0.59003863 0.65619239\n",
            " 0.38893357 0.88654423 0.10093707 0.45625494 0.94297549 0.64242375\n",
            " 0.31128051 0.12109639 0.30028237 0.14316242 0.98395464 0.76413873\n",
            " 0.03368963 0.39542173 0.91587269 0.86791592 0.00801446 0.77510236\n",
            " 0.95446938 0.26247045 0.10278758 0.12640052 0.87312746 0.9920244\n",
            " 0.77278586 0.70380226 0.89414188 0.30496893 0.88760222 0.26430227\n",
            " 0.04940426 0.89669258 0.39481193 0.64730084 0.64149274 0.63222158\n",
            " 0.17201281 0.97441928 0.73875009 0.1017832  0.07752051 0.09572429\n",
            " 0.93588963 0.22154543 0.23531159 0.08606141 0.65986399 0.83550243\n",
            " 0.93172036 0.72401001 0.30382291 0.13798578 0.97668601 0.50201166\n",
            " 0.46981866 0.15911996 0.41236135 0.67286793 0.1562524  0.38530066\n",
            " 0.64925244 0.64733117 0.14004405 0.79484906 0.29461367 0.16127427\n",
            " 0.93794724 0.99752448 0.27539983 0.94561857 0.08402637 0.99132713\n",
            " 0.95868576 0.15198584 0.47659627 0.81548159 0.282574   0.09019202\n",
            " 0.45390736 0.78833292 0.55017217 0.16368507 0.89311286 0.76183176\n",
            " 0.97116671 0.11826882 0.99466303 0.27883989 0.64207555 0.10080239\n",
            " 0.0566363  0.49313657 0.82446962 0.71687251 0.04689048 0.78948847\n",
            " 0.39681516 0.63986885 0.79736592 0.18825232 0.02776944 0.32833359\n",
            " 0.13210429 0.25813038 0.62460184 0.24918584 0.1139566  0.3634056\n",
            " 0.6656479  0.82248289 0.80520343 0.47192197 0.40529561 0.13473104\n",
            " 0.54030522 0.74144167 0.99973945 0.60953344 0.23904409 0.41667072\n",
            " 0.22871938 0.62592285 0.84488109 0.79926793 0.20173901 0.65288547\n",
            " 0.99137106 0.41471591 0.04861945 0.36299985 0.61318432 0.82855938\n",
            " 0.23193754 0.38411793 0.4721073  0.15894173 0.23041116 0.64365668\n",
            " 0.58709409 0.79517228 0.521123   0.55730992 0.30860003 0.72260092\n",
            " 0.06951973 0.9399218  0.04108519 0.96692371 0.61470137 0.08548467\n",
            " 0.29975911 0.40978271 0.02990286 0.69247694 0.74999328 0.2567172\n",
            " 0.77234606 0.7156526  0.9385085  0.42879784 0.18727191 0.50706114\n",
            " 0.82563034 0.47926022 0.31953369 0.9119956  0.87566851 0.35812334\n",
            " 0.81999558 0.66881417 0.85672907 0.81251426 0.38490867 0.7807786\n",
            " 0.11863615 0.32209698 0.73047881 0.62723585 0.62272403 0.58942075\n",
            " 0.13229044 0.79111509 0.1299965  0.66575402 0.57611604 0.47334242\n",
            " 0.24594981 0.10356572 0.22674789 0.6428388  0.86393592 0.7945296\n",
            " 0.65156432 0.95229553 0.58743357 0.13744852 0.90595477 0.26674443\n",
            " 0.7416856  0.75053683 0.47301738 0.06909674 0.18419291 0.68090617\n",
            " 0.82206439 0.47827025 0.95387466 0.02102524 0.10630579 0.55655631\n",
            " 0.48791741 0.17539298 0.90044295 0.17333471 0.79781113 0.28577805\n",
            " 0.40680805 0.57375139 0.16922604 0.32830341 0.91056718 0.24829222\n",
            " 0.2075446  0.70815573 0.48885729 0.89124643 0.76689718 0.04178293\n",
            " 0.0152607  0.84509957 0.18885559 0.95838969 0.43756684 0.81058267\n",
            " 0.19971958 0.44030959 0.81942683 0.89887297 0.08948515 0.7690403\n",
            " 0.43774952 0.07799852 0.26931407 0.76579784 0.45601374 0.53364878\n",
            " 0.55344905 0.27503372 0.3434126  0.62984581 0.36550218 0.25118902\n",
            " 0.88019378 0.99346784 0.4998022  0.4094898  0.52912006 0.96883093\n",
            " 0.2225577  0.83371222 0.3168457  0.06689915 0.60862905 0.40716681\n",
            " 0.57306207 0.2330585  0.82329187 0.25993452 0.53514173 0.9982245\n",
            " 0.39748412 0.78049537 0.583141   0.22482939 0.49570437 0.80899118\n",
            " 0.91821849 0.88327158 0.26901853 0.59052621 0.13776837 0.96766769\n",
            " 0.45792792 0.18027453 0.13653948 0.58303406 0.6160697  0.09551947\n",
            " 0.85321749 0.16242534 0.0358801  0.84294995 0.15842266 0.03856157\n",
            " 0.74848738 0.20003061 0.01238789 0.0207176  0.51704068 0.10386708\n",
            " 0.3699559  0.95191144 0.55703059 0.41137422 0.33443231 0.23151321\n",
            " 0.08121196 0.43984499 0.89375066 0.93603077 0.10012727 0.9291409\n",
            " 0.56851801 0.16979359 0.98919788 0.18500412 0.29912841 0.01228371\n",
            " 0.65079247 0.86462637 0.86172774 0.3564423  0.75178714 0.01461429\n",
            " 0.25294199 0.37747184 0.70909418 0.09700372 0.82497286 0.6003013\n",
            " 0.04104048 0.0353915  0.23147469 0.40673003 0.50165043 0.5723442\n",
            " 0.610625   0.5305439  0.08841153 0.32804357 0.6842128  0.86329894\n",
            " 0.63916011 0.56340212 0.61266382 0.64614733 0.8068478  0.00256619\n",
            " 0.50746804 0.60952189 0.43981058 0.06415784 0.73879159 0.50231943\n",
            " 0.65204724 0.0608131  0.52489168 0.93725026 0.82979798 0.02459833\n",
            " 0.59747776 0.30760115 0.80176093 0.38299879 0.34177351 0.10949487\n",
            " 0.75756518 0.97703727 0.93100774 0.18461505 0.80684358 0.74398831\n",
            " 0.84166466 0.5399386  0.47320459 0.50259154 0.30652283 0.33637335\n",
            " 0.11652978 0.13138216 0.26373245 0.21189469 0.41766711 0.67803602\n",
            " 0.51361894 0.19229903 0.90419608 0.34032019 0.46874628 0.00357964\n",
            " 0.90893541 0.16295873 0.09729526 0.92457822 0.23846215 0.96823656\n",
            " 0.71803627 0.94120468 0.61108008 0.26778612 0.58203306 0.14751578\n",
            " 0.4596354  0.21858569 0.60863963 0.45435939 0.48195608 0.9961089\n",
            " 0.35750673 0.82142839 0.60249693 0.05650883 0.7363383  0.88616758\n",
            " 0.08008067 0.31110668 0.52877234 0.99213006 0.93274733 0.98944142\n",
            " 0.62477274 0.24357708 0.35192859 0.17115589 0.09416172 0.56965919\n",
            " 0.82681286 0.82654226 0.2423999  0.30954963 0.15492948 0.95687523\n",
            " 0.36766187 0.1768307  0.86886556 0.74768128 0.60390625 0.42345966\n",
            " 0.96770243 0.59662127 0.90851608 0.11879773 0.60518117 0.67218968\n",
            " 0.17376709 0.83953435 0.51326241 0.89872795 0.66159668 0.26927132\n",
            " 0.56150794 0.60385333 0.42362605 0.38007624 0.76473119 0.26857165\n",
            " 0.72245303 0.96699871 0.33650043 0.66832996 0.86816103 0.56585069\n",
            " 0.50258872 0.28233009 0.27012216 0.31597306 0.74491158 0.89780169\n",
            " 0.92292076 0.37026225 0.02035835 0.71654092 0.22063029 0.38324475\n",
            " 0.86623162 0.49130493 0.42761178 0.27966063 0.53145948 0.65058553\n",
            " 0.55747058 0.94842861 0.41522704 0.42275019 0.32884044 0.68371264\n",
            " 0.51810702 0.02809457 0.53456148 0.28593701 0.07587183 0.05479251\n",
            " 0.11001938 0.02265689 0.81320889 0.1254952  0.51472544 0.89065946\n",
            " 0.36012556 0.47312933 0.07882905 0.74237627 0.86456137 0.19020555\n",
            " 0.20019274 0.37854077 0.84600289 0.1949415  0.40320153 0.27168742\n",
            " 0.99230994 0.15627297 0.75545276 0.19954076 0.48637892 0.34516544\n",
            " 0.54871144 0.6935685  0.04660286 0.87192815 0.8923135  0.27514046\n",
            " 0.09037359 0.97930407 0.7220534  0.61497826]\n",
            "\n",
            "[ 0.81862814 -0.97092762  0.80314613 -0.30330093  0.76246959 -0.91276419\n",
            "  0.27896491 -0.97171655  0.50605147  0.89677329  0.30960882 -0.97466309\n",
            " -1.05496288 -0.14652525  0.87395326 -0.07834487  0.08893212 -0.84065127\n",
            "  0.5945187   0.63013329  0.68933867  0.92809642 -1.04785322  0.70461304\n",
            "  0.3519477  -0.88362058  0.90775321 -1.05898623  0.71621198 -0.82720962\n",
            "  0.87676111 -0.11896465  0.52539725  0.85561458  0.93685082 -1.04926462\n",
            " -0.58735368  0.02951119 -1.02985776  0.25938586 -1.02961934  0.359854\n",
            "  0.9367714   0.86316602 -0.76200706  0.50091413 -0.91783732 -1.01751859\n",
            " -0.41172967 -0.14885021 -0.81867629 -0.60549047 -0.81737327 -0.99479866\n",
            "  0.84323145  0.49277921  0.06381899 -1.03622226 -0.18121362 -0.93372324\n",
            " -0.68215537 -0.28524681 -0.39183154 -0.51282595  0.83496583 -1.05537744\n",
            " -0.74024527 -1.00333334 -0.89740516  0.67396997  0.71544433 -0.4794818\n",
            "  0.7179225   0.7555597   0.67148633  0.50262885 -0.50276665 -0.29182205\n",
            "  0.88353932  0.93132368 -0.44188408  0.86561424  0.92654672  0.18278847\n",
            " -0.56016457 -0.94312477  0.93720306  0.85943069  0.01673069  0.05642252\n",
            "  0.93587668 -0.02264134 -0.95931963 -1.04010204 -0.9478201   0.09958552\n",
            "  0.26697739 -1.02183629  0.27150108 -0.97555228 -1.0577522   0.68734497\n",
            "  0.8922898   0.78249232 -0.92626203 -0.9195905   0.62133367 -0.94706385\n",
            " -0.9819358  -0.45867896 -1.0543242  -0.97216344 -1.03389158  0.84703911\n",
            "  0.35817663  0.81229978 -0.37163799 -0.73511914  0.77439471 -0.77044103\n",
            " -0.36572605 -0.93215723 -0.74070779 -0.4111389   0.6253614  -0.39350305\n",
            "  0.70577587 -0.50807322 -0.90146825  0.35781195 -0.88425411 -1.01350692\n",
            " -0.40625689 -0.92644843  0.23083127 -0.98472229  0.9405075  -0.35132702\n",
            "  0.55317495  0.8032755   0.21589382 -1.05825255  0.07258105  0.94071491\n",
            " -0.81158617  0.51421755 -0.99665929 -0.97811076  0.9393667   0.90736043\n",
            "  0.07767915  0.50027475  0.91218664 -1.03674925 -0.91943242  0.57922345\n",
            " -0.6822391  -1.05884298 -0.9785443   0.59144428 -0.37985901 -1.05917528\n",
            "  0.90620411  0.37164522  0.79223098 -0.29946141  0.81535815  0.07593265\n",
            " -0.2026819   0.24998909 -0.93989142  0.89852722 -0.0906274  -0.62454723\n",
            " -0.17731273  0.68699161 -0.91665529 -1.05811333  0.31031063 -0.92434618\n",
            " -0.33318969 -0.95341656 -0.22653216  0.86784929  0.88019128  0.54375428\n",
            " -0.11071271 -0.89187565  0.83206351 -0.14697383 -0.56211991  0.2899563\n",
            "  0.02717231 -1.02147684 -0.47045561  0.83963738 -0.97399473 -1.05366265\n",
            "  0.81206406 -0.73526985  0.87338803 -0.50739153 -0.92560766 -0.63055911\n",
            "  0.93935132  0.71246855  0.62294281 -0.21272416  0.00833789  0.79397387\n",
            "  0.72752993  0.68193206  0.74488758  0.04610174 -0.38416142  0.90064036\n",
            " -0.65988967 -0.59536929 -0.1113522  -1.05704666  0.13205774  0.5800642\n",
            "  0.26591952  0.86604554  0.66509093 -1.03379692  0.50110976 -0.06132421\n",
            " -0.37511268 -1.05907692  0.59644654  0.39679549 -0.88768728  0.54809546\n",
            " -0.67156991  0.53273639 -0.91595557 -1.03063456 -0.81736765  0.88143963\n",
            "  0.93793571 -0.34478833  0.38203174  0.31615193 -0.32104914  0.1998964\n",
            " -0.76060752  0.72929771 -0.08119857 -1.00770289 -0.11168501 -0.77213721\n",
            " -1.04374299  0.476941    0.01253604 -0.78399832  0.44521625 -1.05918609\n",
            "  0.93531404 -1.05916706 -0.0213731  -0.90947108 -0.93996116  0.23969103\n",
            " -1.03360081  0.94080572  0.03646522 -0.70317928 -0.39269597  0.64482295\n",
            "  0.87686412  0.90678368  0.33247814 -0.26241133 -0.07801989 -1.05066712\n",
            "  0.6454125   0.19342799  0.58285088 -1.04741997  0.37980921 -0.13930457\n",
            "  0.76523385 -1.00792041  0.19774197 -0.26540161  0.93118933 -1.05779562\n",
            "  0.41472107 -0.83007418 -0.97953259  0.35221517 -0.78077984  0.86618965\n",
            " -0.79142162  0.90825712 -0.24625953 -0.52353233  0.93038866  0.93182763\n",
            " -0.97726689 -0.45366458 -0.95255586  0.7629364  -0.1448525  -0.99494064\n",
            " -0.99861868  0.09314718  0.90781614  0.45786676  0.94024636  0.69153844\n",
            " -0.61564286  0.80505968 -0.72567123  0.81335552  0.7692369   0.81409911\n",
            " -0.38690356 -1.04745803 -0.17418824  0.91408978 -0.70306858  0.80138714\n",
            " -0.38548482  0.03112784 -0.64891104 -0.23560802 -0.93948034  0.54755011\n",
            " -0.91920422 -0.95145655 -0.9083672  -0.48386125 -1.05807364 -0.39431858\n",
            "  0.85442947 -0.90542163 -0.31272447 -1.00677699  0.8535128  -0.93372594\n",
            "  0.70735932 -0.31399286  0.82302246 -0.95658425 -0.59331202  0.92675292\n",
            "  0.38884498 -0.68127734  0.46654698 -0.95576869 -0.5758624  -0.85462036\n",
            "  0.60881787 -1.00192485 -0.83315756  0.5857603  -0.93729302 -1.05228644\n",
            " -0.7856345  -0.63557406 -1.05739212 -0.12822626 -0.74431476 -0.01247902\n",
            "  0.74012899  0.64016708 -1.05918875 -0.02989894 -0.23083348  0.1016407\n",
            "  0.7114037  -1.02098031 -1.04291648 -0.99284131  0.49445453 -0.95545123\n",
            "  0.87872401  0.93402845  0.91932569  0.16911291 -0.34985802 -0.6260557\n",
            " -1.04759502 -0.95104827 -0.82613001 -0.16458195 -0.7117043   0.56479827\n",
            " -0.47581341 -1.05745327 -0.74424713 -0.92415863  0.93731205 -0.24437614\n",
            " -0.42799738  0.93507014 -0.64807375  0.15658301  0.8593918  -0.11966098\n",
            "  0.9018972  -0.94583433 -1.01441636  0.48281348  0.62509482 -1.04797572\n",
            " -0.68420816 -1.04195289 -0.99129591  0.91723823  0.89770496 -0.82165876\n",
            "  0.92858913  0.40735604  0.01467553  0.93853512 -0.785562   -0.91258334\n",
            " -1.05266357 -0.06116352  0.82500004 -1.05505266  0.09771285  0.79006058\n",
            "  0.30996128 -0.16556179 -1.0591857   0.74822281 -0.0112282   0.91863156\n",
            " -0.82231153  0.11984578 -0.22422694  0.90898051  0.0781514   0.04944115\n",
            " -0.25268685  0.06261762  0.21676131  0.40795207 -0.69126026  0.53838831\n",
            "  0.85998999  0.9247632   0.03836648 -0.73137375  0.52860072  0.71924664\n",
            " -0.96562064  0.82738399 -0.35718582 -0.83991629 -0.49481741 -0.81367398\n",
            " -0.73064821 -1.04957142 -1.03518467 -0.08315262 -0.72604944 -0.54229587\n",
            "  0.37766226  0.92189926  0.33058981  0.10158599 -0.89424578 -0.99518865\n",
            "  0.6106025   0.46917241 -0.15273563 -0.99595228 -0.59522056 -0.89045733\n",
            "  0.58338364 -0.71319161  0.53334949  0.21222172 -0.40986739 -0.83931965\n",
            "  0.86759573  0.6303637   0.8913179   0.72383711 -0.15983416 -1.05524552\n",
            "  0.15091204  0.55162226 -0.56350295 -0.79705867 -0.00885381 -1.0467764\n",
            " -0.34138     0.93774302  0.54267533  0.65411281 -0.77456601 -0.10928007\n",
            " -1.04895785 -1.0173558  -0.67634728  0.88175801 -0.70814838  0.93677609\n",
            "  0.24626605 -0.6636583   0.55465147 -0.85812156 -0.83564664 -0.7976415\n",
            "  0.82314024 -0.21922612 -1.0566917   0.53762365  0.40885484  0.50665261\n",
            " -0.45120057  0.92487156  0.93655543  0.45558149 -0.90305859 -0.91831964\n",
            " -0.47516291 -1.04588504  0.88417141  0.70319583 -0.20515165 -0.07182818\n",
            "  0.12931152  0.78216332  0.46405227 -0.94403387  0.77228913  0.60070476\n",
            " -0.86543608 -0.85823614  0.71150075 -1.01974671  0.90177921  0.78940203\n",
            " -0.4392746  -0.07474237  0.92810336 -0.39426743  0.44457744 -0.11365515\n",
            " -0.31586836  0.75709898  0.08733174 -0.97573757  0.91993955  0.47765621\n",
            "  0.22638825 -1.03032377 -0.36923452  0.79731817 -0.68142168 -1.05642684\n",
            " -0.23936441  0.61738869 -0.09271575  0.92443814 -0.83794906  0.53266763\n",
            "  0.28920435 -0.01607801 -0.95170336 -1.03760455  0.23118891 -1.02856633\n",
            "  0.54466683 -0.8291766  -1.01522925  0.86648927  0.11440771  0.82211384\n",
            "  0.67876663  0.9395066  -0.76452448  0.94079805  0.59719117  0.69750943\n",
            " -0.921996   -0.95726375 -0.9996359   0.11631691  0.50135736  0.68980355\n",
            " -0.30973581 -1.05774342 -0.06082597 -0.69435137  0.93844273  0.44078906\n",
            "  0.93188525 -0.77038386 -0.88668917 -1.01165672  0.8951873  -0.87872883\n",
            " -0.11337951  0.45138816  0.24156691  0.69917366 -0.71190043 -0.93982028\n",
            "  0.93437808  0.60627011  0.11517037  0.78155755  0.93324631 -0.84414266\n",
            " -0.57951117 -1.01917999 -0.19151931 -0.41154623  0.87378973 -1.04440702\n",
            "  0.36385807 -0.42777024  0.1960994  -0.26552055 -0.71909208  0.4524714\n",
            "  0.89233427  0.47779019  0.12759285 -0.99458167 -1.05918887  0.93992062\n",
            " -1.04934834 -1.0359919  -0.4360104   0.37341274  0.86414129 -0.10354074\n",
            " -0.94839035  0.0707545   0.84688181 -0.58438703 -0.76331929  0.71878676\n",
            " -0.96402774 -0.93188181 -0.8426387  -0.98303411  0.60255335 -1.04054768\n",
            "  0.61908642  0.83994985 -1.05167614 -0.77615918 -0.75611182 -0.59193918\n",
            "  0.67955545 -1.02600587  0.66976471 -0.92233287 -0.51941613  0.1075236\n",
            "  0.94048735  0.54657262  0.93015789 -0.84094848 -0.81370454 -1.02030295\n",
            " -0.87394397 -0.3544569  -0.58133151  0.70100697 -0.61630053  0.93528184\n",
            " -1.05782462 -1.05918318  0.10953692  0.36144836  0.85653999 -0.96642547\n",
            " -0.9584172   0.0769194  -0.34496292  0.07253272  0.56018033 -0.40711091\n",
            "  0.01665541  0.83293591 -0.64472023  0.82701871 -1.01440524  0.91564982\n",
            "  0.49346255 -0.50617533  0.81476473  0.8222034  -0.59200333  0.94075356\n",
            "  0.90544245 -1.02482527  0.01076568 -0.69055906 -1.05355832  0.20033571\n",
            "  0.03655007 -0.88591764  0.8679166  -0.31766585  0.32310656 -0.98761142\n",
            "  0.8913217   0.3071264  -0.96554341 -0.65268824  0.47390381 -1.05204129\n",
            "  0.32204563  0.41150687  0.93345679 -1.05426656  0.21368002 -0.26903883\n",
            " -0.38874204  0.9284663   0.77345667 -0.78749396  0.68883185  0.94078323\n",
            " -0.7428479  -0.10022015 -0.05794608  0.47934182 -0.24113644 -0.25378042\n",
            "  0.92598273 -0.92402151  0.85389847  0.34888181 -0.68995212  0.49158248\n",
            " -0.50229677  0.93515104 -0.95501645  0.93886361 -0.27820108 -0.07034443\n",
            "  0.54131114 -1.04088813 -0.55814196  0.92833122 -0.03220193 -0.99128006\n",
            " -0.55072116 -0.72860778  0.93367987 -0.59780431  0.70231111 -0.26094433\n",
            "  0.20208982  0.84637128  0.69728379 -0.55755952 -0.72552737  0.50559103\n",
            " -0.85615865  0.7932061   0.16434764 -0.89344072  0.77978726  0.18073701\n",
            " -1.0591437   0.89192707  0.01856799  0.07061636 -0.16605415  0.54807812\n",
            "  0.66996941 -0.35676172 -0.40990319  0.46932773  0.80336337  0.93407261\n",
            "  0.42922384  0.30984106 -0.67827957 -0.45038463  0.52924312 -0.48984611\n",
            " -0.47652442  0.81649228 -0.12700852  0.85857604  0.89354567  0.01791534\n",
            " -0.87112253 -0.81085035 -0.82273717  0.72537947 -1.05912582  0.03250647\n",
            "  0.94064029  0.636851   -1.02634095  0.51326244 -0.95027281 -0.64850463\n",
            "  0.19582778  0.16135434  0.93404454  0.49387101 -0.06955866 -0.49824873\n",
            " -0.69963372 -0.24992597  0.46818445  0.82297348 -0.97496793 -0.8163251\n",
            " -0.82632759 -0.44710286 -0.70941929 -0.85374168 -0.99607355 -0.0430657\n",
            " -0.10609474 -0.69429532  0.31004203  0.33309723 -1.05671009 -0.07376175\n",
            " -0.87569952  0.31368095 -0.21495109 -0.44332152 -0.93610634  0.09475241\n",
            " -0.6340798   0.87603033 -1.00676819  0.61150233  0.77911587  0.57578642\n",
            " -1.05805937 -0.20296789 -0.47923048  0.85760248 -0.99608282 -1.05847557\n",
            " -0.89786631 -0.30750505  0.10837741 -0.07547125  0.87840777  0.79712866\n",
            "  0.60930233  0.67569705  0.93709102  0.91228617  0.43535748 -0.95869303\n",
            " -0.14465478  0.87580807 -0.62544281  0.78405938  0.13592436 -0.03669921\n",
            " -0.60065135  0.79495375  0.51476343 -0.51553902  0.93818456 -0.25744222\n",
            " -1.0390894  -0.42026524 -0.7018271   0.93457321 -0.55209697  0.74055532\n",
            "  0.19171925  0.92139448 -0.69000371  0.22366524  0.05394171 -0.08363492\n",
            "  0.7212151  -0.96015823 -0.65959367  0.28845352 -1.05550696 -0.71498006\n",
            "  0.42300893  0.86800543 -0.23898773 -0.108617   -0.4692864  -0.12548172\n",
            " -0.76528525  0.93999692  0.74264631  0.82059348  0.49853047 -0.48302963\n",
            " -0.94496652 -0.94575432  0.93967118  0.87162559  0.76764256 -0.3268463\n",
            "  0.67975735  0.83698068 -0.79301832 -1.05908274 -0.66665134  0.40340363\n",
            " -0.26073051 -0.62966817 -0.60286457  0.61983205 -0.67299498 -0.94204044\n",
            "  0.82827408 -0.90508086 -0.14242266 -0.65342138 -0.90884976  0.93348926\n",
            " -0.43610611 -0.66638719  0.40247649  0.62500898 -1.05490836  0.93401068\n",
            " -1.04424741 -0.26505942  0.796716   -0.93039228 -0.79601831 -0.46123648\n",
            " -0.07545355  0.92024987  0.93282934  0.85612048 -1.05867782 -0.65809217\n",
            " -0.52478063  0.66865079  0.06837786 -1.0371719   0.92383275  0.61035527\n",
            " -0.80415998 -0.00458333  0.38011948  0.92349571 -0.25556996 -0.87036284\n",
            " -0.41249079 -0.37758077  0.44862417  0.40735108  0.82060446 -0.97370109\n",
            " -0.17271336  0.11641919 -0.27464231  0.91542669  0.39967559  0.27832217\n",
            "  0.57832893  0.08268824 -0.98135474  0.65011459 -0.15157957 -0.69341476\n",
            "  0.71082125  0.10884361  0.41610459 -1.05804182 -0.81111966  0.87106229\n",
            "  0.89224118  0.632013   -0.88271115  0.88156733  0.51220455  0.93154126\n",
            " -0.10748814  0.77236091 -1.05860203  0.89097202  0.02629047  0.76730698\n",
            " -0.36049583 -0.99698489  0.22945908 -0.77981095 -0.68534559  0.92836103\n",
            "  0.47861835 -0.18885904 -1.04381187 -0.72039828]\n"
          ],
          "name": "stdout"
        },
        {
          "output_type": "display_data",
          "data": {
            "image/png": "[encoded data removed]",
            "text/plain": [
              "<Figure size 432x288 with 1 Axes>"
            ]
          },
          "metadata": {
            "tags": [],
            "needs_background": "light"
          }
        }
      ]
    },
    {
      "cell_type": "code",
      "metadata": {
        "colab_type": "code",
        "id": "ZLkKNaOtsbQK",
        "colab": {
          "base_uri": "https://localhost:8080/",
          "height": 0
        },
        "outputId": "3d29c90d-d20d-4a66-fe8e-f6681a68582b"
      },
      "source": [
        "#Splitting DataSet\n",
        "\n",
        "\n",
        "x_train, x_test, y_train, y_test = tts(X,Y,test_size =0.2)\n",
        "print(x_train.shape)\n",
        "print(x_test.shape)\n",
        "print(y_train.shape)\n",
        "print(y_test.shape)"
      ],
      "execution_count": 283,
      "outputs": [
        {
          "output_type": "stream",
          "text": [
            "(800,)\n",
            "(200,)\n",
            "(800,)\n",
            "(200,)\n"
          ],
          "name": "stdout"
        }
      ]
    },
    {
      "cell_type": "code",
      "metadata": {
        "colab_type": "code",
        "id": "_BCdKBSysbQs",
        "colab": {}
      },
      "source": [
        "#for n=1 to n=9 calculating x^1 to x^9 coefficient\n",
        "\n",
        "\n",
        "#for Train set\n",
        "train_n=int(0.8*1000)\n",
        "test_n=int(0.2*1000)\n",
        "x0=np.ones(train_n)\n",
        "x1=x_train\n",
        "x2=[]\n",
        "x3=[]\n",
        "x4=[]\n",
        "x5=[]\n",
        "x6=[]\n",
        "x7=[]\n",
        "x8=[]\n",
        "x9=[]\n",
        "x12=np.array(x1)\n",
        "\n",
        "for i in range(train_n):\n",
        "  x2.append(x_train[i]*x_train[i])\n",
        "  x3.append(x2[i]*x_train[i])\n",
        "  x4.append(x3[i]*x_train[i])\n",
        "  x5.append(x4[i]*x_train[i])\n",
        "  x6.append(x5[i]*x_train[i])\n",
        "  x7.append(x6[i]*x_train[i])\n",
        "  x8.append(x7[i]*x_train[i])\n",
        "  x9.append(x8[i]*x_train[i])\n",
        "\n",
        "\n",
        "\n",
        "#for test set\n",
        "x0_t=np.ones(test_n)\n",
        "x1_t=x_test\n",
        "x2_t=[]\n",
        "x3_t=[]\n",
        "x4_t=[]\n",
        "x5_t=[]\n",
        "x6_t=[]\n",
        "x7_t=[]\n",
        "x8_t=[]\n",
        "x9_t=[]\n",
        "\n",
        "for i in range(test_n):\n",
        "  x2_t.append(x_test[i]*x_test[i])\n",
        "  x3_t.append(x2_t[i]*x_test[i])\n",
        "  x4_t.append(x3_t[i]*x_test[i])\n",
        "  x5_t.append(x4_t[i]*x_test[i])\n",
        "  x6_t.append(x5_t[i]*x_test[i])\n",
        "  x7_t.append(x6_t[i]*x_test[i])\n",
        "  x8_t.append(x7_t[i]*x_test[i])\n",
        "  x9_t.append(x8_t[i]*x_test[i])\n"
      ],
      "execution_count": 284,
      "outputs": []
    },
    {
      "cell_type": "markdown",
      "metadata": {
        "colab_type": "text",
        "id": "nINIC2-WsbRL"
      },
      "source": [
        "*For n=0*"
      ]
    },
    {
      "cell_type": "code",
      "metadata": {
        "colab_type": "code",
        "id": "nUQSQ9XXsbRR",
        "colab": {
          "base_uri": "https://localhost:8080/",
          "height": 0
        },
        "outputId": "3461149c-4f44-41ef-bbcc-d258ea58f774"
      },
      "source": [
        "#for n=0\n",
        "\n",
        "Xt= np.c_[x0]\n",
        "theta = np.array([0])\n",
        "X_test = np.c_[x0_t]\n",
        "\n",
        "new_theta , cost_value=GDR(Xt,y_train,theta,alpha,itr)\n",
        "\n",
        "train_error_1000=cost_value[-1]\n",
        "\n",
        "test_error_1000=cost(new_theta,X_test,y_test)\n",
        "\n",
        "\n",
        "print(\"NEW Theta Value : \",new_theta)\n",
        "print(\"Train error : \", train_error_1000)\n",
        "print(\"Test error : \", test_error_1000)\n"
      ],
      "execution_count": 285,
      "outputs": [
        {
          "output_type": "stream",
          "text": [
            "NEW Theta Value :  [-0.07173412]\n",
            "Train error :  164196.85140345385\n",
            "Test error :  9767.886687583152\n"
          ],
          "name": "stdout"
        }
      ]
    },
    {
      "cell_type": "markdown",
      "metadata": {
        "colab_type": "text",
        "id": "rC8oWlEWsbRm"
      },
      "source": [
        "*For n=1*"
      ]
    },
    {
      "cell_type": "code",
      "metadata": {
        "colab_type": "code",
        "id": "CHTswY60sbRq",
        "colab": {
          "base_uri": "https://localhost:8080/",
          "height": 0
        },
        "outputId": "500d682d-e7a9-45e9-d06e-fb6be86d5991"
      },
      "source": [
        "#for n=1\n",
        "\n",
        "Xt = np.c_[x0,x1]\n",
        "theta = np.array([0,0])\n",
        "X_test = np.c_[x0_t,x1_t]\n",
        "\n",
        "new_theta , cost_value=GDR(Xt,y_train,theta,alpha,itr)\n",
        "\n",
        "train_error_1001=cost_value[-1]\n",
        "\n",
        "test_error_1001=cost(new_theta,X_test,y_test)\n",
        "\n",
        "print(\"NEW Theta Value : \",new_theta)\n",
        "print(\"Train error : \", train_error_1001)\n",
        "print(\"Test error : \", test_error_1001)\n"
      ],
      "execution_count": 286,
      "outputs": [
        {
          "output_type": "stream",
          "text": [
            "NEW Theta Value :  [ 0.91937121 -1.95955438]\n",
            "Train error :  60793.71627726671\n",
            "Test error :  3934.6336283274213\n"
          ],
          "name": "stdout"
        }
      ]
    },
    {
      "cell_type": "markdown",
      "metadata": {
        "colab_type": "text",
        "id": "lHGAl4AUsbSD"
      },
      "source": [
        "*For n=2*"
      ]
    },
    {
      "cell_type": "code",
      "metadata": {
        "colab_type": "code",
        "id": "gQiYkoOdsbSI",
        "colab": {
          "base_uri": "https://localhost:8080/",
          "height": 0
        },
        "outputId": "d21a504a-2f8f-4a68-82e6-342bbcc320d6"
      },
      "source": [
        "#for n=2\n",
        "\n",
        "Xt = np.c_[x0,x1,x2]\n",
        "theta = np.array([0,0,0])\n",
        "X_test = np.c_[x0_t,x1_t,x2_t]\n",
        "\n",
        "new_theta , cost_value=GDR(Xt,y_train,theta,alpha,itr)\n",
        "\n",
        "train_error_1002=cost_value[-1]\n",
        "\n",
        "test_error_1002=cost(new_theta,X_test,y_test)\n",
        "\n",
        "print(\"NEW Theta Value : \",new_theta)\n",
        "print(\"Train error : \", train_error_1002)\n",
        "print(\"Test error : \", test_error_1002)\n"
      ],
      "execution_count": 287,
      "outputs": [
        {
          "output_type": "stream",
          "text": [
            "NEW Theta Value :  [ 0.9736637  -2.28350373  0.32225139]\n",
            "Train error :  60617.14076934237\n",
            "Test error :  3925.2843949537423\n"
          ],
          "name": "stdout"
        }
      ]
    },
    {
      "cell_type": "markdown",
      "metadata": {
        "colab_type": "text",
        "id": "o9RxL6BpsbSd"
      },
      "source": [
        "*For n=3*"
      ]
    },
    {
      "cell_type": "code",
      "metadata": {
        "colab_type": "code",
        "id": "IoCRTr1IsbSh",
        "colab": {
          "base_uri": "https://localhost:8080/",
          "height": 0
        },
        "outputId": "eb5487b3-9ce8-4254-df29-8e4830805ebb"
      },
      "source": [
        "#for n=3\n",
        "\n",
        "Xt = np.c_[x0,x1,x2,x3]\n",
        "theta = np.array([0,0,0,0])\n",
        "X_test = np.c_[x0_t,x1_t,x2_t,x3_t]\n",
        "\n",
        "new_theta , cost_value=GDR(Xt,y_train,theta,alpha,itr)\n",
        "\n",
        "train_error_1003=cost_value[-1]\n",
        "\n",
        "test_error_1003=cost(new_theta,X_test,y_test)\n",
        "\n",
        "print(\"NEW Theta Value : \",new_theta)\n",
        "print(\"Train error : \", train_error_1003)\n",
        "print(\"Test error : \", test_error_1003)\n"
      ],
      "execution_count": 288,
      "outputs": [
        {
          "output_type": "stream",
          "text": [
            "NEW Theta Value :  [  0.57263134   2.8485222  -13.06364796   9.18433152]\n",
            "Train error :  23398.878631919364\n",
            "Test error :  1514.2993307279185\n"
          ],
          "name": "stdout"
        }
      ]
    },
    {
      "cell_type": "markdown",
      "metadata": {
        "colab_type": "text",
        "id": "8b_cW5QDsbSw"
      },
      "source": [
        "*For n=4*"
      ]
    },
    {
      "cell_type": "code",
      "metadata": {
        "colab_type": "code",
        "id": "nmjeywRqsbSz",
        "colab": {
          "base_uri": "https://localhost:8080/",
          "height": 0
        },
        "outputId": "940912e6-263a-49b1-f234-9d255db07de7"
      },
      "source": [
        "#for n=4\n",
        "\n",
        "Xt = np.c_[x0,x1,x2,x3,x4]\n",
        "theta = np.array([0,0,0,0,0])\n",
        "X_test = np.c_[x0_t,x1_t,x2_t,x3_t,x4_t]\n",
        "\n",
        "new_theta , cost_value=GDR(Xt,y_train,theta,alpha,itr)\n",
        "\n",
        "train_error_1004=cost_value[-1]\n",
        "\n",
        "\n",
        "test_error_1004=cost(new_theta,X_test,y_test)\n",
        "\n",
        "print(\"NEW Theta Value : \",new_theta)\n",
        "print(\"Train error : \", train_error_1004)\n",
        "print(\"Test error : \", test_error_1004)\n"
      ],
      "execution_count": 289,
      "outputs": [
        {
          "output_type": "stream",
          "text": [
            "NEW Theta Value :  [  0.23391194   5.3210725  -12.67861298  -3.36081683  10.56481962]\n",
            "Train error :  5512.417410818156\n",
            "Test error :  368.9523235114114\n"
          ],
          "name": "stdout"
        }
      ]
    },
    {
      "cell_type": "markdown",
      "metadata": {
        "colab_type": "text",
        "id": "h1bWs4GqsbTG"
      },
      "source": [
        "*For n=5*"
      ]
    },
    {
      "cell_type": "code",
      "metadata": {
        "colab_type": "code",
        "id": "JAcrBGhmsbTK",
        "colab": {
          "base_uri": "https://localhost:8080/",
          "height": 0
        },
        "outputId": "81fbe4cd-7fa5-42ee-aafd-ab252cd59146"
      },
      "source": [
        "#for n=5\n",
        "\n",
        "Xt = np.c_[x0,x1,x2,x3,x4,x5]\n",
        "theta = np.array([0,0,0,0,0,0])\n",
        "X_test = np.c_[x0_t,x1_t,x2_t,x3_t,x4_t,x5_t]\n",
        "\n",
        "new_theta , cost_value=GDR(Xt,y_train,theta,alpha,itr)\n",
        "\n",
        "train_error_1005=cost_value[-1]\n",
        "\n",
        "\n",
        "test_error_1005=cost(new_theta,X_test,y_test)\n",
        "\n",
        "print(\"NEW Theta Value : \",new_theta)\n",
        "print(\"Train error : \", train_error_1005)\n",
        "print(\"Test error : \", test_error_1005)\n"
      ],
      "execution_count": 290,
      "outputs": [
        {
          "output_type": "stream",
          "text": [
            "NEW Theta Value :  [ 0.19736872  4.91735621 -9.52089313 -4.85079898  2.2321741   7.36329262]\n",
            "Train error :  6101.061618870151\n",
            "Test error :  403.1406759041507\n"
          ],
          "name": "stdout"
        }
      ]
    },
    {
      "cell_type": "markdown",
      "metadata": {
        "colab_type": "text",
        "id": "nGGCqzqRsbTa"
      },
      "source": [
        "*For n=6*"
      ]
    },
    {
      "cell_type": "code",
      "metadata": {
        "colab_type": "code",
        "id": "oDS6s9bqsbTf",
        "colab": {
          "base_uri": "https://localhost:8080/",
          "height": 0
        },
        "outputId": "2d94e118-078c-4b9e-876b-cf2b4199b8d1"
      },
      "source": [
        "#for n=6\n",
        "\n",
        "Xt = np.c_[x0,x1,x2,x3,x4,x5,x6]\n",
        "theta = np.array([0,0,0,0,0,0,0])\n",
        "X_test = np.c_[x0_t,x1_t,x2_t,x3_t,x4_t,x5_t,x6_t]\n",
        "\n",
        "new_theta , cost_value=GDR(Xt,y_train,theta,alpha,itr)\n",
        "\n",
        "train_error_1006=cost_value[-1]\n",
        "\n",
        "test_error_1006=cost(new_theta,X_test,y_test)\n",
        "\n",
        "print(\"NEW Theta Value : \",new_theta)\n",
        "print(\"Train error : \", train_error_1006)\n",
        "print(\"Test error : \", test_error_1006)\n"
      ],
      "execution_count": 291,
      "outputs": [
        {
          "output_type": "stream",
          "text": [
            "NEW Theta Value :  [ 0.25974763  4.1371136  -7.92272458 -4.03034494  0.82376395  3.36985524\n",
            "  3.76531591]\n",
            "Train error :  8290.736676095108\n",
            "Test error :  548.1705827947818\n"
          ],
          "name": "stdout"
        }
      ]
    },
    {
      "cell_type": "markdown",
      "metadata": {
        "colab_type": "text",
        "id": "YRN6vGVPsbTz"
      },
      "source": [
        "*For n=7*"
      ]
    },
    {
      "cell_type": "code",
      "metadata": {
        "colab_type": "code",
        "id": "u0StwhmosbT3",
        "colab": {
          "base_uri": "https://localhost:8080/",
          "height": 0
        },
        "outputId": "8d724799-69f9-4693-d895-767689bbd3be"
      },
      "source": [
        "#for n=7\n",
        "\n",
        "Xt = np.c_[x0,x1,x2,x3,x4,x5,x6,x7]\n",
        "theta = np.array([0,0,0,0,0,0,0,0])\n",
        "X_test = np.c_[x0_t,x1_t,x2_t,x3_t,x4_t,x5_t,x6_t,x7_t]\n",
        "\n",
        "new_theta , cost_value=GDR(Xt,y_train,theta,alpha,itr)\n",
        "\n",
        "train_error_1007=cost_value[-1]\n",
        "\n",
        "test_error_1007=cost(new_theta,X_test,y_test)\n",
        "\n",
        "print(\"NEW Theta Value : \",new_theta)\n",
        "print(\"Train error : \", train_error_1007)\n",
        "print(\"Test error : \", test_error_1007)\n"
      ],
      "execution_count": 292,
      "outputs": [
        {
          "output_type": "stream",
          "text": [
            "NEW Theta Value :  [ 0.3002572   3.81683298 -7.64775675 -3.57070093  0.97019798  2.93199827\n",
            "  2.64514801  0.93291533]\n",
            "Train error :  8875.564269132736\n",
            "Test error :  590.7418480994777\n"
          ],
          "name": "stdout"
        }
      ]
    },
    {
      "cell_type": "markdown",
      "metadata": {
        "colab_type": "text",
        "id": "uhiHQmHosbUS"
      },
      "source": [
        "*For n=8*"
      ]
    },
    {
      "cell_type": "code",
      "metadata": {
        "colab_type": "code",
        "id": "GiwlF-tesbUX",
        "colab": {
          "base_uri": "https://localhost:8080/",
          "height": 0
        },
        "outputId": "1cd3d7cc-cb8c-4223-a398-b9901d437342"
      },
      "source": [
        "#for n=8\n",
        "\n",
        "Xt= np.c_[x0,x1,x2,x3,x4,x5,x6,x7,x8]\n",
        "theta = np.array([0,0,0,0,0,0,0,0,0])\n",
        "X_test = np.c_[x0_t,x1_t,x2_t,x3_t,x4_t,x5_t,x6_t,x7_t,x8_t]\n",
        "\n",
        "new_theta , cost_value=GDR(Xt,y_train,theta,alpha,itr)\n",
        "\n",
        "train_error_1008=cost_value[-1]\n",
        "\n",
        "test_error_1008=cost(new_theta,X_test,y_test)\n",
        "\n",
        "print(\"NEW Theta Value : \",new_theta)\n",
        "print(\"Train error : \", train_error_1008)\n",
        "print(\"Test error : \", test_error_1008)\n",
        "\n",
        "\n"
      ],
      "execution_count": 293,
      "outputs": [
        {
          "output_type": "stream",
          "text": [
            "NEW Theta Value :  [ 0.30463741  3.87163883 -7.89088729 -3.65169669  1.10689695  3.23151456\n",
            "  3.04236174  1.37618839 -1.08256249]\n",
            "Train error :  7971.000846495855\n",
            "Test error :  534.6840953711103\n"
          ],
          "name": "stdout"
        }
      ]
    },
    {
      "cell_type": "markdown",
      "metadata": {
        "colab_type": "text",
        "id": "Z9vSAXyYsbUo"
      },
      "source": [
        "*For n=9*"
      ]
    },
    {
      "cell_type": "code",
      "metadata": {
        "colab_type": "code",
        "id": "ZacKapZ2sbUq",
        "colab": {
          "base_uri": "https://localhost:8080/",
          "height": 0
        },
        "outputId": "077a30db-c591-44c0-bde8-7ec3d38675d6"
      },
      "source": [
        "#for n=9\n",
        "\n",
        "Xt = np.c_[x0,x1,x2,x3,x4,x5,x6,x7,x8,x9]\n",
        "theta = np.array([0,0,0,0,0,0,0,0,0,0])\n",
        "X_test = np.c_[x0_t,x1_t,x2_t,x3_t,x4_t,x5_t,x6_t,x7_t,x8_t,x9_t]\n",
        "\n",
        "new_theta , cost_value=GDR(Xt,y_train,theta,alpha,itr)\n",
        "\n",
        "train_error_1009=cost_value[-1]\n",
        "\n",
        "test_error_1009=cost(new_theta,X_test,y_test)\n",
        "\n",
        "print(\"NEW Theta Value : \",new_theta)\n",
        "print(\"Train error : \", train_error_1009)\n",
        "print(\"Test error : \", test_error_1009)\n"
      ],
      "execution_count": 294,
      "outputs": [
        {
          "output_type": "stream",
          "text": [
            "NEW Theta Value :  [ 0.28630561  4.09487585 -8.19325019 -4.00683082  0.97575058  3.43503736\n",
            "  3.60426973  2.27974721  0.12927053 -2.39498603]\n",
            "Train error :  6361.406191195051\n",
            "Test error :  431.6078790590514\n"
          ],
          "name": "stdout"
        }
      ]
    },
    {
      "cell_type": "markdown",
      "metadata": {
        "colab_type": "text",
        "id": "Ki811YfQsbU7"
      },
      "source": [
        "* ***Train error vs Test error***"
      ]
    },
    {
      "cell_type": "code",
      "metadata": {
        "colab_type": "code",
        "id": "tkEllXBpsbU-",
        "colab": {
          "base_uri": "https://localhost:8080/",
          "height": 0
        },
        "outputId": "741f6b33-e722-4cff-f5d2-698932aeb1fb"
      },
      "source": [
        "#Test error vs Train error\n",
        "\n",
        "train_error_13=np.array([train_error_1000,train_error_1001,train_error_1002,train_error_1003,train_error_1004,train_error_1005,train_error_1006,train_error_1007,train_error_1008,train_error_1009])\n",
        "test_error_13=np.array([test_error_1000,test_error_1001,test_error_1002,test_error_1003,test_error_1004,test_error_1005,test_error_1006,test_error_1007,test_error_1008,test_error_1009])\n",
        "\n",
        "error_x=[0,1,2,3,4,5,6,7,8,9]\n",
        "\n",
        "plt.plot(error_x,train_error_13, 'r', label='Train Error')\n",
        "plt.plot(error_x,test_error_13, 'g', label='Test Error')\n",
        "plt.title('Train Error vs Test Error')\n",
        "plt.ylabel('Error')\n",
        "plt.xlabel('N')\n",
        "plt.legend()\n",
        "plt.grid()\n",
        "plt.xticks(np.arange(0, 10, step=1))\n",
        "plt.show()\n",
        "\n",
        "print(\"MIN Train error : \",min(train_error_13))\n",
        "print(\"MIN Test error : \",min(test_error_13))"
      ],
      "execution_count": 295,
      "outputs": [
        {
          "output_type": "display_data",
          "data": {
            "image/png": "[encoded data removed]",
            "text/plain": [
              "<Figure size 432x288 with 1 Axes>"
            ]
          },
          "metadata": {
            "tags": [],
            "needs_background": "light"
          }
        },
        {
          "output_type": "stream",
          "text": [
            "MIN Train error :  5512.417410818156\n",
            "MIN Test error :  368.9523235114114\n"
          ],
          "name": "stdout"
        }
      ]
    },
    {
      "cell_type": "markdown",
      "metadata": {
        "id": "eBUPdPuMGX5e",
        "colab_type": "text"
      },
      "source": [
        "*NOTE: For N=1000 ,n=5  is suitable as we got minimum test error*"
      ]
    },
    {
      "cell_type": "markdown",
      "metadata": {
        "colab_type": "text",
        "id": "rWdrFqFcsS9U"
      },
      "source": [
        "#***Q3. Experimenting with Larger Training Set(N=10000)***"
      ]
    },
    {
      "cell_type": "code",
      "metadata": {
        "colab_type": "code",
        "id": "Lvz5E-iTsS9f",
        "colab": {
          "base_uri": "https://localhost:8080/",
          "height": 0
        },
        "outputId": "634e8db2-2cb2-4d77-d6c1-ebd56ce7f5ee"
      },
      "source": [
        "#Generating a Synthetic Dataset\n",
        "\n",
        "inp=[]\n",
        "for i in range(10000):\n",
        "  inp.append(random.uniform(0,1))\n",
        "X=np.array(inp)\n",
        "print(X)\n",
        "print()\n",
        "Y=np.random.normal(scale=0.3)+ np.sin(2*math.pi*X) \n",
        "print(Y)\n",
        "\n",
        "#ploting \n",
        "plt.scatter(X,Y)\n",
        "plt.show()\n"
      ],
      "execution_count": 296,
      "outputs": [
        {
          "output_type": "stream",
          "text": [
            "[0.19915357 0.97141747 0.0993492  ... 0.61962736 0.54695194 0.8144547 ]\n",
            "\n",
            "[ 1.07122919 -0.05679599  0.70630173 ... -0.56100893 -0.16891771\n",
            " -0.7972804 ]\n"
          ],
          "name": "stdout"
        },
        {
          "output_type": "display_data",
          "data": {
            "image/png": "[encoded data removed]",
            "text/plain": [
              "<Figure size 432x288 with 1 Axes>"
            ]
          },
          "metadata": {
            "tags": [],
            "needs_background": "light"
          }
        }
      ]
    },
    {
      "cell_type": "code",
      "metadata": {
        "colab_type": "code",
        "id": "CUDsxzOvsS93",
        "colab": {
          "base_uri": "https://localhost:8080/",
          "height": 0
        },
        "outputId": "00ca7b60-3211-471f-9856-068e8abf9ecc"
      },
      "source": [
        "#Splitting DataSet\n",
        "\n",
        "\n",
        "x_train, x_test, y_train, y_test = tts(X,Y,test_size =0.2)\n",
        "print(x_train.shape)\n",
        "print(x_test.shape)\n",
        "print(y_train.shape)\n",
        "print(y_test.shape)"
      ],
      "execution_count": 297,
      "outputs": [
        {
          "output_type": "stream",
          "text": [
            "(8000,)\n",
            "(2000,)\n",
            "(8000,)\n",
            "(2000,)\n"
          ],
          "name": "stdout"
        }
      ]
    },
    {
      "cell_type": "code",
      "metadata": {
        "colab_type": "code",
        "id": "kh73hfBxsS-G",
        "colab": {}
      },
      "source": [
        "#for n=1 to n=9 calculating x^1 to x^9 coefficient\n",
        "\n",
        "\n",
        "#for Train set\n",
        "train_n=int(0.8*10000)\n",
        "test_n=int(0.2*10000)\n",
        "x0=np.ones(train_n)\n",
        "x1=x_train\n",
        "x2=[]\n",
        "x3=[]\n",
        "x4=[]\n",
        "x5=[]\n",
        "x6=[]\n",
        "x7=[]\n",
        "x8=[]\n",
        "x9=[]\n",
        "x12=np.array(x1)\n",
        "\n",
        "for i in range(train_n):\n",
        "  x2.append(x_train[i]*x_train[i])\n",
        "  x3.append(x2[i]*x_train[i])\n",
        "  x4.append(x3[i]*x_train[i])\n",
        "  x5.append(x4[i]*x_train[i])\n",
        "  x6.append(x5[i]*x_train[i])\n",
        "  x7.append(x6[i]*x_train[i])\n",
        "  x8.append(x7[i]*x_train[i])\n",
        "  x9.append(x8[i]*x_train[i])\n",
        "\n",
        "\n",
        "\n",
        "#for test set\n",
        "x0_t=np.ones(test_n)\n",
        "x1_t=x_test\n",
        "x2_t=[]\n",
        "x3_t=[]\n",
        "x4_t=[]\n",
        "x5_t=[]\n",
        "x6_t=[]\n",
        "x7_t=[]\n",
        "x8_t=[]\n",
        "x9_t=[]\n",
        "\n",
        "for i in range(test_n):\n",
        "  x2_t.append(x_test[i]*x_test[i])\n",
        "  x3_t.append(x2_t[i]*x_test[i])\n",
        "  x4_t.append(x3_t[i]*x_test[i])\n",
        "  x5_t.append(x4_t[i]*x_test[i])\n",
        "  x6_t.append(x5_t[i]*x_test[i])\n",
        "  x7_t.append(x6_t[i]*x_test[i])\n",
        "  x8_t.append(x7_t[i]*x_test[i])\n",
        "  x9_t.append(x8_t[i]*x_test[i])\n"
      ],
      "execution_count": 298,
      "outputs": []
    },
    {
      "cell_type": "markdown",
      "metadata": {
        "colab_type": "text",
        "id": "77QoODelsS-Z"
      },
      "source": [
        "*For n=0*"
      ]
    },
    {
      "cell_type": "code",
      "metadata": {
        "colab_type": "code",
        "id": "V-GN5XjtsS-c",
        "colab": {
          "base_uri": "https://localhost:8080/",
          "height": 0
        },
        "outputId": "905509e7-87c9-41ec-ae21-32b2b61f9e79"
      },
      "source": [
        "#for n=0\n",
        "\n",
        "Xt= np.c_[x0]\n",
        "theta = np.array([0])\n",
        "X_test = np.c_[x0_t]\n",
        "\n",
        "new_theta , cost_value=GDR(Xt,y_train,theta,alpha,itr)\n",
        "\n",
        "train_error_10000=cost_value[-1]\n",
        "\n",
        "test_error_10000=cost(new_theta,X_test,y_test)\n",
        "\n",
        "\n",
        "print(\"NEW Theta Value : \",new_theta)\n",
        "print(\"Train error : \", train_error_10000)\n",
        "print(\"Test error : \", test_error_10000)\n"
      ],
      "execution_count": 299,
      "outputs": [
        {
          "output_type": "stream",
          "text": [
            "NEW Theta Value :  [0.11349638]\n",
            "Train error :  16032236.998726191\n",
            "Test error :  975358.7555277426\n"
          ],
          "name": "stdout"
        }
      ]
    },
    {
      "cell_type": "markdown",
      "metadata": {
        "colab_type": "text",
        "id": "uPsoq9kEsS-s"
      },
      "source": [
        "*For n=1*"
      ]
    },
    {
      "cell_type": "code",
      "metadata": {
        "colab_type": "code",
        "id": "FAS9kvUwsS-v",
        "colab": {
          "base_uri": "https://localhost:8080/",
          "height": 0
        },
        "outputId": "5a40f712-56f6-4a1a-d822-6b22781f1f98"
      },
      "source": [
        "#for n=1\n",
        "\n",
        "Xt = np.c_[x0,x1]\n",
        "theta = np.array([0,0])\n",
        "X_test = np.c_[x0_t,x1_t]\n",
        "\n",
        "new_theta , cost_value=GDR(Xt,y_train,theta,alpha,itr)\n",
        "\n",
        "train_error_10001=cost_value[-1]\n",
        "\n",
        "test_error_10001=cost(new_theta,X_test,y_test)\n",
        "\n",
        "print(\"NEW Theta Value : \",new_theta)\n",
        "print(\"Train error : \", train_error_10001)\n",
        "print(\"Test error : \", test_error_10001)\n"
      ],
      "execution_count": 300,
      "outputs": [
        {
          "output_type": "stream",
          "text": [
            "NEW Theta Value :  [ 1.07077467 -1.90167484]\n",
            "Train error :  6237075.76762902\n",
            "Test error :  386694.5480232554\n"
          ],
          "name": "stdout"
        }
      ]
    },
    {
      "cell_type": "markdown",
      "metadata": {
        "colab_type": "text",
        "id": "at007s3wsS_B"
      },
      "source": [
        "*For n=2*"
      ]
    },
    {
      "cell_type": "code",
      "metadata": {
        "colab_type": "code",
        "id": "eJNFae4ysS_E",
        "colab": {
          "base_uri": "https://localhost:8080/",
          "height": 0
        },
        "outputId": "7cc80e81-c95d-42ca-b19e-e0bfbf2cea7b"
      },
      "source": [
        "#for n=2\n",
        "\n",
        "Xt = np.c_[x0,x1,x2]\n",
        "theta = np.array([0,0,0])\n",
        "X_test = np.c_[x0_t,x1_t,x2_t]\n",
        "\n",
        "new_theta , cost_value=GDR(Xt,y_train,theta,alpha,itr)\n",
        "\n",
        "train_error_10002=cost_value[-1]\n",
        "\n",
        "test_error_10002=cost(new_theta,X_test,y_test)\n",
        "\n",
        "print(\"NEW Theta Value : \",new_theta)\n",
        "print(\"Train error : \", train_error_10002)\n",
        "print(\"Test error : \", test_error_10002)\n"
      ],
      "execution_count": 301,
      "outputs": [
        {
          "output_type": "stream",
          "text": [
            "NEW Theta Value :  [ 1.0747061  -1.92538035  0.02367055]\n",
            "Train error :  6236976.362831593\n",
            "Test error :  386631.2411335047\n"
          ],
          "name": "stdout"
        }
      ]
    },
    {
      "cell_type": "markdown",
      "metadata": {
        "colab_type": "text",
        "id": "lwZRZeuMsS_U"
      },
      "source": [
        "*For n=3*"
      ]
    },
    {
      "cell_type": "code",
      "metadata": {
        "colab_type": "code",
        "id": "9DHvvVgWsS_X",
        "colab": {
          "base_uri": "https://localhost:8080/",
          "height": 0
        },
        "outputId": "48ab66b9-33ea-4d41-f636-291605a94950"
      },
      "source": [
        "#for n=3\n",
        "\n",
        "Xt = np.c_[x0,x1,x2,x3]\n",
        "theta = np.array([0,0,0,0])\n",
        "X_test = np.c_[x0_t,x1_t,x2_t,x3_t]\n",
        "\n",
        "new_theta , cost_value=GDR(Xt,y_train,theta,alpha,itr)\n",
        "\n",
        "train_error_10003=cost_value[-1]\n",
        "\n",
        "test_error_10003=cost(new_theta,X_test,y_test)\n",
        "\n",
        "print(\"NEW Theta Value : \",new_theta)\n",
        "print(\"Train error : \", train_error_10003)\n",
        "print(\"Test error : \", test_error_10003)\n"
      ],
      "execution_count": 302,
      "outputs": [
        {
          "output_type": "stream",
          "text": [
            "NEW Theta Value :  [  0.69908305   3.16623425 -13.51269671   9.36909203]\n",
            "Train error :  2352344.4287124495\n",
            "Test error :  146813.35657018799\n"
          ],
          "name": "stdout"
        }
      ]
    },
    {
      "cell_type": "markdown",
      "metadata": {
        "colab_type": "text",
        "id": "PQ4G1ZiOsS_m"
      },
      "source": [
        "*For n=4*"
      ]
    },
    {
      "cell_type": "code",
      "metadata": {
        "colab_type": "code",
        "id": "RCf-q1O0sS_p",
        "colab": {
          "base_uri": "https://localhost:8080/",
          "height": 0
        },
        "outputId": "2864098d-b382-494e-bc85-eba01ef2ae06"
      },
      "source": [
        "#for n=4\n",
        "\n",
        "Xt = np.c_[x0,x1,x2,x3,x4]\n",
        "theta = np.array([0,0,0,0,0])\n",
        "X_test = np.c_[x0_t,x1_t,x2_t,x3_t,x4_t]\n",
        "\n",
        "new_theta , cost_value=GDR(Xt,y_train,theta,alpha,itr)\n",
        "\n",
        "train_error_10004=cost_value[-1]\n",
        "\n",
        "\n",
        "test_error_10004=cost(new_theta,X_test,y_test)\n",
        "\n",
        "print(\"NEW Theta Value : \",new_theta)\n",
        "print(\"Train error : \", train_error_10004)\n",
        "print(\"Test error : \", test_error_10004)\n"
      ],
      "execution_count": 303,
      "outputs": [
        {
          "output_type": "stream",
          "text": [
            "NEW Theta Value :  [  0.37759737   5.59043487 -13.08007591  -3.40652245  10.80491775]\n",
            "Train error :  521777.9872714054\n",
            "Test error :  32933.34647631235\n"
          ],
          "name": "stdout"
        }
      ]
    },
    {
      "cell_type": "markdown",
      "metadata": {
        "colab_type": "text",
        "id": "WXDPA3TNsS_3"
      },
      "source": [
        "*For n=5*"
      ]
    },
    {
      "cell_type": "code",
      "metadata": {
        "colab_type": "code",
        "id": "dzJdnpOqsTAA",
        "colab": {
          "base_uri": "https://localhost:8080/",
          "height": 0
        },
        "outputId": "98d7b9ea-ddad-4127-bafa-c00bad0e314d"
      },
      "source": [
        "#for n=5\n",
        "\n",
        "Xt = np.c_[x0,x1,x2,x3,x4,x5]\n",
        "theta = np.array([0,0,0,0,0,0])\n",
        "X_test = np.c_[x0_t,x1_t,x2_t,x3_t,x4_t,x5_t]\n",
        "\n",
        "new_theta , cost_value=GDR(Xt,y_train,theta,alpha,itr)\n",
        "\n",
        "train_error_10005=cost_value[-1]\n",
        "\n",
        "\n",
        "test_error_10005=cost(new_theta,X_test,y_test)\n",
        "\n",
        "print(\"NEW Theta Value : \",new_theta)\n",
        "print(\"Train error : \", train_error_10005)\n",
        "print(\"Test error : \", test_error_10005)\n"
      ],
      "execution_count": 304,
      "outputs": [
        {
          "output_type": "stream",
          "text": [
            "NEW Theta Value :  [ 0.34164981  5.17039855 -9.83765826 -4.98830466  2.29727719  7.58013209]\n",
            "Train error :  579177.4526876499\n",
            "Test error :  36248.34992966245\n"
          ],
          "name": "stdout"
        }
      ]
    },
    {
      "cell_type": "markdown",
      "metadata": {
        "colab_type": "text",
        "id": "w7gIzTVXsTAQ"
      },
      "source": [
        "*For n=6*"
      ]
    },
    {
      "cell_type": "code",
      "metadata": {
        "colab_type": "code",
        "id": "CtWx_5a5sTAT",
        "colab": {
          "base_uri": "https://localhost:8080/",
          "height": 0
        },
        "outputId": "995e1c60-8754-4561-dd2e-bae8eb460b3e"
      },
      "source": [
        "#for n=6\n",
        "\n",
        "Xt = np.c_[x0,x1,x2,x3,x4,x5,x6]\n",
        "theta = np.array([0,0,0,0,0,0,0])\n",
        "X_test = np.c_[x0_t,x1_t,x2_t,x3_t,x4_t,x5_t,x6_t]\n",
        "\n",
        "new_theta , cost_value=GDR(Xt,y_train,theta,alpha,itr)\n",
        "\n",
        "train_error_10006=cost_value[-1]\n",
        "\n",
        "test_error_10006=cost(new_theta,X_test,y_test)\n",
        "\n",
        "print(\"NEW Theta Value : \",new_theta)\n",
        "print(\"Train error : \", train_error_10006)\n",
        "print(\"Test error : \", test_error_10006)\n"
      ],
      "execution_count": 305,
      "outputs": [
        {
          "output_type": "stream",
          "text": [
            "NEW Theta Value :  [ 0.39969102  4.38946562 -8.17276347 -4.18946924  0.78990606  3.45566429\n",
            "  3.96872806]\n",
            "Train error :  802776.6293687421\n",
            "Test error :  50100.21012151271\n"
          ],
          "name": "stdout"
        }
      ]
    },
    {
      "cell_type": "markdown",
      "metadata": {
        "colab_type": "text",
        "id": "40a1qXyhsTAp"
      },
      "source": [
        "*For n=7*"
      ]
    },
    {
      "cell_type": "code",
      "metadata": {
        "colab_type": "code",
        "id": "9xmxYbyUsTAq",
        "colab": {
          "base_uri": "https://localhost:8080/",
          "height": 0
        },
        "outputId": "353d4801-370b-4701-db88-8bfbf06178cb"
      },
      "source": [
        "#for n=7\n",
        "\n",
        "Xt = np.c_[x0,x1,x2,x3,x4,x5,x6,x7]\n",
        "theta = np.array([0,0,0,0,0,0,0,0])\n",
        "X_test = np.c_[x0_t,x1_t,x2_t,x3_t,x4_t,x5_t,x6_t,x7_t]\n",
        "\n",
        "new_theta , cost_value=GDR(Xt,y_train,theta,alpha,itr)\n",
        "\n",
        "train_error_10007=cost_value[-1]\n",
        "\n",
        "test_error_10007=cost(new_theta,X_test,y_test)\n",
        "\n",
        "print(\"NEW Theta Value : \",new_theta)\n",
        "print(\"Train error : \", train_error_10007)\n",
        "print(\"Test error : \", test_error_10007)\n"
      ],
      "execution_count": 306,
      "outputs": [
        {
          "output_type": "stream",
          "text": [
            "NEW Theta Value :  [ 0.4391464   4.05654292 -7.85457    -3.70458561  0.91201455  2.94146198\n",
            "  2.7289603   1.10393944]\n",
            "Train error :  871264.4030926942\n",
            "Test error :  54336.70130679263\n"
          ],
          "name": "stdout"
        }
      ]
    },
    {
      "cell_type": "markdown",
      "metadata": {
        "colab_type": "text",
        "id": "yWLdUg62sTA2"
      },
      "source": [
        "*For n=8*"
      ]
    },
    {
      "cell_type": "code",
      "metadata": {
        "colab_type": "code",
        "id": "1b_Hqcl_sTA4",
        "colab": {
          "base_uri": "https://localhost:8080/",
          "height": 0
        },
        "outputId": "16120050-1de4-4cb1-b196-03b57e343cc8"
      },
      "source": [
        "#for n=8\n",
        "\n",
        "Xt= np.c_[x0,x1,x2,x3,x4,x5,x6,x7,x8]\n",
        "theta = np.array([0,0,0,0,0,0,0,0,0])\n",
        "X_test = np.c_[x0_t,x1_t,x2_t,x3_t,x4_t,x5_t,x6_t,x7_t,x8_t]\n",
        "\n",
        "new_theta , cost_value=GDR(Xt,y_train,theta,alpha,itr)\n",
        "\n",
        "train_error_10008=cost_value[-1]\n",
        "\n",
        "test_error_10008=cost(new_theta,X_test,y_test)\n",
        "\n",
        "print(\"NEW Theta Value : \",new_theta)\n",
        "print(\"Train error : \", train_error_10008)\n",
        "print(\"Test error : \", test_error_10008)\n",
        "\n",
        "\n"
      ],
      "execution_count": 307,
      "outputs": [
        {
          "output_type": "stream",
          "text": [
            "NEW Theta Value :  [ 0.44550253  4.09313702 -8.08224611 -3.75042899  1.06858926  3.22498164\n",
            "  3.06601945  1.44186125 -0.9591023 ]\n",
            "Train error :  788842.0567221984\n",
            "Test error :  49166.24190627739\n"
          ],
          "name": "stdout"
        }
      ]
    },
    {
      "cell_type": "markdown",
      "metadata": {
        "colab_type": "text",
        "id": "fHRtFB9usTBF"
      },
      "source": [
        "*For n=9*"
      ]
    },
    {
      "cell_type": "code",
      "metadata": {
        "colab_type": "code",
        "id": "rstj0_fWsTBH",
        "colab": {
          "base_uri": "https://localhost:8080/",
          "height": 0
        },
        "outputId": "4718902a-a3b0-4aeb-c72d-314379197ab9"
      },
      "source": [
        "#for n=9\n",
        "\n",
        "Xt = np.c_[x0,x1,x2,x3,x4,x5,x6,x7,x8,x9]\n",
        "theta = np.array([0,0,0,0,0,0,0,0,0,0])\n",
        "X_test = np.c_[x0_t,x1_t,x2_t,x3_t,x4_t,x5_t,x6_t,x7_t,x8_t,x9_t]\n",
        "\n",
        "new_theta , cost_value=GDR(Xt,y_train,theta,alpha,itr)\n",
        "\n",
        "train_error_10009=cost_value[-1]\n",
        "\n",
        "test_error_10009=cost(new_theta,X_test,y_test)\n",
        "\n",
        "print(\"NEW Theta Value : \",new_theta)\n",
        "print(\"Train error : \", train_error_10009)\n",
        "print(\"Test error : \", test_error_10009)\n"
      ],
      "execution_count": 308,
      "outputs": [
        {
          "output_type": "stream",
          "text": [
            "NEW Theta Value :  [ 0.43018306  4.30115537 -8.3885962  -4.08075975  0.96870468  3.44513445\n",
            "  3.61648847  2.29886954  0.16829708 -2.32108644]\n",
            "Train error :  630947.7845375551\n",
            "Test error :  39266.22886010947\n"
          ],
          "name": "stdout"
        }
      ]
    },
    {
      "cell_type": "markdown",
      "metadata": {
        "colab_type": "text",
        "id": "Gbz4j0vasTBT"
      },
      "source": [
        "* ***Train error vs Test error***"
      ]
    },
    {
      "cell_type": "code",
      "metadata": {
        "colab_type": "code",
        "id": "g1Xr2tOasTBV",
        "colab": {
          "base_uri": "https://localhost:8080/",
          "height": 0
        },
        "outputId": "19eb9349-c638-4c20-af41-05a9d8d0ef9e"
      },
      "source": [
        "#Train error vs Test error\n",
        "\n",
        "train_error_14=np.array([train_error_10000,train_error_10001,train_error_10002,train_error_10003,train_error_10004,train_error_10005,train_error_10006,train_error_10007,train_error_10008,train_error_10009])\n",
        "test_error_14=np.array([test_error_10000,test_error_10001,test_error_10002,test_error_10003,test_error_10004,test_error_10005,test_error_10006,test_error_10007,test_error_10008,test_error_10009])\n",
        "\n",
        "error_x=[0,1,2,3,4,5,6,7,8,9]\n",
        "\n",
        "plt.plot(error_x,train_error_14, 'r', label='Train Error')\n",
        "plt.plot(error_x,test_error_14, 'g', label='Test Error')\n",
        "plt.title('Train Error vs Test Error')\n",
        "plt.ylabel('Error')\n",
        "plt.xlabel('N')\n",
        "plt.legend()\n",
        "plt.grid()\n",
        "plt.xticks(np.arange(0, 10, step=1))\n",
        "plt.show()\n",
        "\n",
        "print(\"MIN Train error : \",min(train_error_14))\n",
        "print(\"MIN Test error : \",min(test_error_14))"
      ],
      "execution_count": 309,
      "outputs": [
        {
          "output_type": "display_data",
          "data": {
            "image/png": "[encoded data removed]",
            "text/plain": [
              "<Figure size 432x288 with 1 Axes>"
            ]
          },
          "metadata": {
            "tags": [],
            "needs_background": "light"
          }
        },
        {
          "output_type": "stream",
          "text": [
            "MIN Train error :  521777.9872714054\n",
            "MIN Test error :  32933.34647631235\n"
          ],
          "name": "stdout"
        }
      ]
    },
    {
      "cell_type": "markdown",
      "metadata": {
        "id": "36FmpAxUHbN5",
        "colab_type": "text"
      },
      "source": [
        "*NOTE: For N=10000,n=4 is suitable as we got minimum test error*"
      ]
    },
    {
      "cell_type": "markdown",
      "metadata": {
        "id": "4-Df4urFwgGY",
        "colab_type": "text"
      },
      "source": [
        "#***Q3. Learning Curve of Train and Test error(N=10 ,100, 1000 and 10000)***"
      ]
    },
    {
      "cell_type": "markdown",
      "metadata": {
        "id": "zjjAGcEU1qCI",
        "colab_type": "text"
      },
      "source": [
        "* *NOTE: FOR LEARNING CURVE OF TRAIN AND TEST ERROR WITH DIFFERENT DATASIZE WE COMPARE WITH ALL N=0 TO N=9*"
      ]
    },
    {
      "cell_type": "code",
      "metadata": {
        "id": "dotgA5gT2fwa",
        "colab_type": "code",
        "colab": {}
      },
      "source": [
        "Data_Size = [10,100,1000,10000]\n",
        "\n",
        "#Train error for different n values with respect to the [10,100,1000,10000] datasize\n",
        "tr_error_0=np.array([train_error_0,train_error_100,train_error_1000,train_error_10000])\n",
        "tr_error_1=np.array([train_error_1,train_error_101,train_error_1001,train_error_10001])\n",
        "tr_error_2=np.array([train_error_2,train_error_102,train_error_1002,train_error_10002])\n",
        "tr_error_3=np.array([train_error_3,train_error_103,train_error_1003,train_error_10003])\n",
        "tr_error_4=np.array([train_error_4,train_error_104,train_error_1004,train_error_10004])\n",
        "tr_error_5=np.array([train_error_5,train_error_105,train_error_1005,train_error_10005])\n",
        "tr_error_6=np.array([train_error_6,train_error_106,train_error_1006,train_error_10006])\n",
        "tr_error_7=np.array([train_error_7,train_error_107,train_error_1007,train_error_10007])\n",
        "tr_error_8=np.array([train_error_8,train_error_108,train_error_1008,train_error_10008])\n",
        "tr_error_9=np.array([train_error_9,train_error_109,train_error_1009,train_error_10009])\n",
        "\n",
        "#Test error for different n values with respect to the [10,100,1000,10000] datasize\n",
        "ts_error_0=np.array([test_error_0,test_error_100,test_error_1000,test_error_10000])\n",
        "ts_error_1=np.array([test_error_1,test_error_101,test_error_1001,test_error_10001])\n",
        "ts_error_2=np.array([test_error_2,test_error_102,test_error_1002,test_error_10002])\n",
        "ts_error_3=np.array([test_error_3,test_error_103,test_error_1003,test_error_10003])\n",
        "ts_error_4=np.array([test_error_4,test_error_104,test_error_1004,test_error_10004])\n",
        "ts_error_5=np.array([test_error_5,test_error_105,test_error_1005,test_error_10005])\n",
        "ts_error_6=np.array([test_error_6,test_error_106,test_error_1006,test_error_10006])\n",
        "ts_error_7=np.array([test_error_7,test_error_107,test_error_1007,test_error_10007])\n",
        "ts_error_8=np.array([test_error_8,test_error_108,test_error_1008,test_error_10008])\n",
        "ts_error_9=np.array([test_error_9,test_error_109,test_error_1009,test_error_10009])\n",
        "\n",
        "\n"
      ],
      "execution_count": 321,
      "outputs": []
    },
    {
      "cell_type": "markdown",
      "metadata": {
        "id": "f_LJAuSUxGIh",
        "colab_type": "text"
      },
      "source": [
        "* **For n=0**"
      ]
    },
    {
      "cell_type": "code",
      "metadata": {
        "id": "maItYIe5xQHX",
        "colab_type": "code",
        "colab": {
          "base_uri": "https://localhost:8080/",
          "height": 0
        },
        "outputId": "25b1df68-fd8b-472a-d2d3-b55ebc748dcc"
      },
      "source": [
        "fig = plt.figure()\n",
        "ax = fig.add_subplot(111)\n",
        "plt.plot(Data_Size,tr_error_0, 'g', label='Train Error')\n",
        "plt.plot(Data_Size,ts_error_0, 'r', label='Test Error')\n",
        "plt.scatter(Data_Size,tr_error_0)\n",
        "plt.scatter(Data_Size,ts_error_0)\n",
        "plt.title('Error variation with size of dataset n=0')\n",
        "plt.ylabel('Error')\n",
        "plt.xlabel('Size of dataset')\n",
        "plt.legend()\n",
        "plt.grid()\n",
        "ax.set_xscale('log')\n",
        "plt.show()"
      ],
      "execution_count": 322,
      "outputs": [
        {
          "output_type": "display_data",
          "data": {
            "image/png": "[encoded data removed]",
            "text/plain": [
              "<Figure size 432x288 with 1 Axes>"
            ]
          },
          "metadata": {
            "tags": [],
            "needs_background": "light"
          }
        }
      ]
    },
    {
      "cell_type": "markdown",
      "metadata": {
        "colab_type": "text",
        "id": "hJ0hBKUX8CHz"
      },
      "source": [
        "* **For n=1**"
      ]
    },
    {
      "cell_type": "code",
      "metadata": {
        "id": "SObqVO7g6XTM",
        "colab_type": "code",
        "colab": {
          "base_uri": "https://localhost:8080/",
          "height": 0
        },
        "outputId": "0528961c-6325-4d88-81df-d61062977ac8"
      },
      "source": [
        "fig = plt.figure()\n",
        "ax = fig.add_subplot(111)\n",
        "plt.plot(Data_Size,tr_error_1, 'g', label='Train Error')\n",
        "plt.plot(Data_Size,ts_error_1, 'r', label='Test Error')\n",
        "plt.scatter(Data_Size,tr_error_1)\n",
        "plt.scatter(Data_Size,ts_error_1)\n",
        "plt.title('Error variation with size of dataset n=1')\n",
        "plt.ylabel('Error')\n",
        "plt.xlabel('Size of dataset')\n",
        "plt.legend()\n",
        "plt.grid()\n",
        "ax.set_xscale('log')\n",
        "plt.show()"
      ],
      "execution_count": 323,
      "outputs": [
        {
          "output_type": "display_data",
          "data": {
            "image/png": "[encoded data removed]",
            "text/plain": [
              "<Figure size 432x288 with 1 Axes>"
            ]
          },
          "metadata": {
            "tags": [],
            "needs_background": "light"
          }
        }
      ]
    },
    {
      "cell_type": "markdown",
      "metadata": {
        "colab_type": "text",
        "id": "MljwJiVx8Hjx"
      },
      "source": [
        "* **For n=2**"
      ]
    },
    {
      "cell_type": "code",
      "metadata": {
        "id": "HOSsMxuX6XFS",
        "colab_type": "code",
        "colab": {
          "base_uri": "https://localhost:8080/",
          "height": 0
        },
        "outputId": "1f6be151-f91b-4160-b54a-b9de75a19498"
      },
      "source": [
        "fig = plt.figure()\n",
        "ax = fig.add_subplot(111)\n",
        "plt.plot(Data_Size,tr_error_2, 'g', label='Train Error')\n",
        "plt.plot(Data_Size,ts_error_2, 'r', label='Test Error')\n",
        "plt.scatter(Data_Size,tr_error_2)\n",
        "plt.scatter(Data_Size,ts_error_2)\n",
        "plt.title('Error variation with size of dataset n=2')\n",
        "plt.ylabel('Error')\n",
        "plt.xlabel('Size of dataset')\n",
        "plt.legend()\n",
        "plt.grid()\n",
        "ax.set_xscale('log')\n",
        "plt.show()"
      ],
      "execution_count": 324,
      "outputs": [
        {
          "output_type": "display_data",
          "data": {
            "image/png": "[encoded data removed]",
            "text/plain": [
              "<Figure size 432x288 with 1 Axes>"
            ]
          },
          "metadata": {
            "tags": [],
            "needs_background": "light"
          }
        }
      ]
    },
    {
      "cell_type": "markdown",
      "metadata": {
        "colab_type": "text",
        "id": "wUzxlagm8Kot"
      },
      "source": [
        "* **For n=3**"
      ]
    },
    {
      "cell_type": "code",
      "metadata": {
        "id": "qzVaipxO6W3f",
        "colab_type": "code",
        "colab": {
          "base_uri": "https://localhost:8080/",
          "height": 0
        },
        "outputId": "86bb1010-a587-489a-a090-42bf634e1a6d"
      },
      "source": [
        "fig = plt.figure()\n",
        "ax = fig.add_subplot(111)\n",
        "plt.plot(Data_Size,tr_error_3, 'g', label='Train Error')\n",
        "plt.plot(Data_Size,ts_error_3, 'r', label='Test Error')\n",
        "plt.scatter(Data_Size,tr_error_3)\n",
        "plt.scatter(Data_Size,ts_error_3)\n",
        "plt.title('Error variation with size of dataset n=3')\n",
        "plt.ylabel('Error')\n",
        "plt.xlabel('Size of dataset')\n",
        "plt.legend()\n",
        "plt.grid()\n",
        "ax.set_xscale('log')\n",
        "plt.show()"
      ],
      "execution_count": 325,
      "outputs": [
        {
          "output_type": "display_data",
          "data": {
            "image/png": "[encoded data removed]",
            "text/plain": [
              "<Figure size 432x288 with 1 Axes>"
            ]
          },
          "metadata": {
            "tags": [],
            "needs_background": "light"
          }
        }
      ]
    },
    {
      "cell_type": "markdown",
      "metadata": {
        "colab_type": "text",
        "id": "Ye7sJRNo8QUB"
      },
      "source": [
        "* **For n=4**"
      ]
    },
    {
      "cell_type": "code",
      "metadata": {
        "id": "i97kn3z86WlM",
        "colab_type": "code",
        "colab": {
          "base_uri": "https://localhost:8080/",
          "height": 0
        },
        "outputId": "dc828816-4842-4b2c-c0d3-a98b3a364b83"
      },
      "source": [
        "fig = plt.figure()\n",
        "ax = fig.add_subplot(111)\n",
        "plt.plot(Data_Size,tr_error_4, 'g', label='Train Error')\n",
        "plt.plot(Data_Size,ts_error_4, 'r', label='Test Error')\n",
        "plt.scatter(Data_Size,tr_error_4)\n",
        "plt.scatter(Data_Size,ts_error_4)\n",
        "plt.title('Error variation with size of dataset n=4')\n",
        "plt.ylabel('Error')\n",
        "plt.xlabel('Size of dataset')\n",
        "plt.legend()\n",
        "plt.grid()\n",
        "ax.set_xscale('log')\n",
        "plt.show()"
      ],
      "execution_count": 326,
      "outputs": [
        {
          "output_type": "display_data",
          "data": {
            "image/png": "[encoded data removed]",
            "text/plain": [
              "<Figure size 432x288 with 1 Axes>"
            ]
          },
          "metadata": {
            "tags": [],
            "needs_background": "light"
          }
        }
      ]
    },
    {
      "cell_type": "markdown",
      "metadata": {
        "colab_type": "text",
        "id": "2jg3aTap8Tq7"
      },
      "source": [
        "* **For n=5**"
      ]
    },
    {
      "cell_type": "code",
      "metadata": {
        "id": "xonGW8mo6WYQ",
        "colab_type": "code",
        "colab": {
          "base_uri": "https://localhost:8080/",
          "height": 0
        },
        "outputId": "c0b44569-502e-4745-c144-e2a04a6132c6"
      },
      "source": [
        "fig = plt.figure()\n",
        "ax = fig.add_subplot(111)\n",
        "plt.plot(Data_Size,tr_error_5, 'g', label='Train Error')\n",
        "plt.plot(Data_Size,ts_error_5, 'r', label='Test Error')\n",
        "plt.scatter(Data_Size,tr_error_5)\n",
        "plt.scatter(Data_Size,ts_error_5)\n",
        "plt.title('Error variation with size of dataset n=5')\n",
        "plt.ylabel('Error')\n",
        "plt.xlabel('Size of dataset')\n",
        "plt.legend()\n",
        "plt.grid()\n",
        "ax.set_xscale('log')\n",
        "plt.show()"
      ],
      "execution_count": 327,
      "outputs": [
        {
          "output_type": "display_data",
          "data": {
            "image/png": "[encoded data removed]",
            "text/plain": [
              "<Figure size 432x288 with 1 Axes>"
            ]
          },
          "metadata": {
            "tags": [],
            "needs_background": "light"
          }
        }
      ]
    },
    {
      "cell_type": "markdown",
      "metadata": {
        "colab_type": "text",
        "id": "CvS_d0qY8WYi"
      },
      "source": [
        "* **For n=6**"
      ]
    },
    {
      "cell_type": "code",
      "metadata": {
        "id": "W4VVyHro6WJe",
        "colab_type": "code",
        "colab": {
          "base_uri": "https://localhost:8080/",
          "height": 0
        },
        "outputId": "f5a0cbc6-cb42-44e6-b430-ab313f75e62b"
      },
      "source": [
        "fig = plt.figure()\n",
        "ax = fig.add_subplot(111)\n",
        "plt.plot(Data_Size,tr_error_6, 'g', label='Train Error')\n",
        "plt.plot(Data_Size,ts_error_6, 'r', label='Test Error')\n",
        "plt.scatter(Data_Size,tr_error_6)\n",
        "plt.scatter(Data_Size,ts_error_6)\n",
        "plt.title('Error variation with size of dataset n=6')\n",
        "plt.ylabel('Error')\n",
        "plt.xlabel('Size of dataset')\n",
        "plt.legend()\n",
        "plt.grid()\n",
        "ax.set_xscale('log')\n",
        "plt.show()"
      ],
      "execution_count": 328,
      "outputs": [
        {
          "output_type": "display_data",
          "data": {
            "image/png": "[encoded data removed]",
            "text/plain": [
              "<Figure size 432x288 with 1 Axes>"
            ]
          },
          "metadata": {
            "tags": [],
            "needs_background": "light"
          }
        }
      ]
    },
    {
      "cell_type": "markdown",
      "metadata": {
        "colab_type": "text",
        "id": "NvPQiB7g8ZWN"
      },
      "source": [
        "* **For n=7**"
      ]
    },
    {
      "cell_type": "code",
      "metadata": {
        "id": "aCD2uvpr6V8P",
        "colab_type": "code",
        "colab": {
          "base_uri": "https://localhost:8080/",
          "height": 0
        },
        "outputId": "b7042867-5df1-4936-8c95-66edfeea9f8b"
      },
      "source": [
        "fig = plt.figure()\n",
        "ax = fig.add_subplot(111)\n",
        "plt.plot(Data_Size,tr_error_7, 'g', label='Train Error')\n",
        "plt.plot(Data_Size,ts_error_7, 'r', label='Test Error')\n",
        "plt.scatter(Data_Size,tr_error_7)\n",
        "plt.scatter(Data_Size,ts_error_7)\n",
        "plt.title('Error variation with size of dataset n=7')\n",
        "plt.ylabel('Error')\n",
        "plt.xlabel('Size of dataset')\n",
        "plt.legend()\n",
        "plt.grid()\n",
        "ax.set_xscale('log')\n",
        "plt.show()"
      ],
      "execution_count": 329,
      "outputs": [
        {
          "output_type": "display_data",
          "data": {
            "image/png": "[encoded data removed]",
            "text/plain": [
              "<Figure size 432x288 with 1 Axes>"
            ]
          },
          "metadata": {
            "tags": [],
            "needs_background": "light"
          }
        }
      ]
    },
    {
      "cell_type": "markdown",
      "metadata": {
        "colab_type": "text",
        "id": "rPBxTHJK8c41"
      },
      "source": [
        "* **For n=8**"
      ]
    },
    {
      "cell_type": "code",
      "metadata": {
        "id": "HMRIiI8s6Vuz",
        "colab_type": "code",
        "colab": {
          "base_uri": "https://localhost:8080/",
          "height": 0
        },
        "outputId": "af5fbd13-0fd7-4685-b586-8f1110332783"
      },
      "source": [
        "fig = plt.figure()\n",
        "ax = fig.add_subplot(111)\n",
        "plt.plot(Data_Size,tr_error_8, 'g', label='Train Error')\n",
        "plt.plot(Data_Size,ts_error_8, 'r', label='Test Error')\n",
        "plt.scatter(Data_Size,tr_error_8)\n",
        "plt.scatter(Data_Size,ts_error_8)\n",
        "plt.title('Error variation with size of dataset n=8')\n",
        "plt.ylabel('Error')\n",
        "plt.xlabel('Size of dataset')\n",
        "plt.legend()\n",
        "plt.grid()\n",
        "ax.set_xscale('log')\n",
        "plt.show()"
      ],
      "execution_count": 330,
      "outputs": [
        {
          "output_type": "display_data",
          "data": {
            "image/png": "[encoded data removed]",
            "text/plain": [
              "<Figure size 432x288 with 1 Axes>"
            ]
          },
          "metadata": {
            "tags": [],
            "needs_background": "light"
          }
        }
      ]
    },
    {
      "cell_type": "markdown",
      "metadata": {
        "colab_type": "text",
        "id": "GeBwFDp78fTG"
      },
      "source": [
        "* **For n=9**"
      ]
    },
    {
      "cell_type": "code",
      "metadata": {
        "id": "vrNH5Iy86VX1",
        "colab_type": "code",
        "colab": {
          "base_uri": "https://localhost:8080/",
          "height": 0
        },
        "outputId": "9ed4250a-9444-4a0e-e00d-f2558d1b5441"
      },
      "source": [
        "fig = plt.figure()\n",
        "ax = fig.add_subplot(111)\n",
        "plt.plot(Data_Size,tr_error_9, 'g', label='Train Error')\n",
        "plt.plot(Data_Size,ts_error_9, 'r', label='Test Error')\n",
        "plt.scatter(Data_Size,tr_error_9)\n",
        "plt.scatter(Data_Size,ts_error_9)\n",
        "plt.title('Error variation with size of dataset n=9')\n",
        "plt.ylabel('Error')\n",
        "plt.xlabel('Size of dataset')\n",
        "plt.legend()\n",
        "plt.grid()\n",
        "ax.set_xscale('log')\n",
        "plt.show()"
      ],
      "execution_count": 331,
      "outputs": [
        {
          "output_type": "display_data",
          "data": {
            "image/png": "[encoded data removed]",
            "text/plain": [
              "<Figure size 432x288 with 1 Axes>"
            ]
          },
          "metadata": {
            "tags": [],
            "needs_background": "light"
          }
        }
      ]
    },
    {
      "cell_type": "code",
      "metadata": {
        "id": "-emPk52dOPxi",
        "colab_type": "code",
        "colab": {}
      },
      "source": [
        ""
      ],
      "execution_count": 331,
      "outputs": []
    },
    {
      "cell_type": "code",
      "metadata": {
        "id": "usP1IU_IOVlV",
        "colab_type": "code",
        "colab": {}
      },
      "source": [
        ""
      ],
      "execution_count": 331,
      "outputs": []
    },
    {
      "cell_type": "markdown",
      "metadata": {
        "colab_type": "text",
        "id": "Qdw8FoyOhj3c"
      },
      "source": [
        "#***Q4. Logistic Regression (Marks: 10)***"
      ]
    },
    {
      "cell_type": "code",
      "metadata": {
        "id": "SVfmkmQr0aIM",
        "colab_type": "code",
        "colab": {
          "base_uri": "https://localhost:8080/",
          "height": 0
        },
        "outputId": "43e39894-5a86-4b36-acce-a8eed3ebcf92"
      },
      "source": [
        "data=datasets.load_breast_cancer()\n",
        "LR_X=pd.DataFrame(data.data,columns=data.feature_names)\n",
        "print(LR_X)"
      ],
      "execution_count": 332,
      "outputs": [
        {
          "output_type": "stream",
          "text": [
            "     mean radius  mean texture  ...  worst symmetry  worst fractal dimension\n",
            "0          17.99         10.38  ...          0.4601                  0.11890\n",
            "1          20.57         17.77  ...          0.2750                  0.08902\n",
            "2          19.69         21.25  ...          0.3613                  0.08758\n",
            "3          11.42         20.38  ...          0.6638                  0.17300\n",
            "4          20.29         14.34  ...          0.2364                  0.07678\n",
            "..           ...           ...  ...             ...                      ...\n",
            "564        21.56         22.39  ...          0.2060                  0.07115\n",
            "565        20.13         28.25  ...          0.2572                  0.06637\n",
            "566        16.60         28.08  ...          0.2218                  0.07820\n",
            "567        20.60         29.33  ...          0.4087                  0.12400\n",
            "568         7.76         24.54  ...          0.2871                  0.07039\n",
            "\n",
            "[569 rows x 30 columns]\n"
          ],
          "name": "stdout"
        }
      ]
    },
    {
      "cell_type": "code",
      "metadata": {
        "id": "FSYGgCzn0t-6",
        "colab_type": "code",
        "colab": {
          "base_uri": "https://localhost:8080/",
          "height": 0
        },
        "outputId": "b78fde62-7e61-48e0-cdcd-03ac02ce0258"
      },
      "source": [
        "LR_Y=pd.DataFrame(data.target)\n",
        "print(LR_Y)"
      ],
      "execution_count": 333,
      "outputs": [
        {
          "output_type": "stream",
          "text": [
            "     0\n",
            "0    0\n",
            "1    0\n",
            "2    0\n",
            "3    0\n",
            "4    0\n",
            "..  ..\n",
            "564  0\n",
            "565  0\n",
            "566  0\n",
            "567  0\n",
            "568  1\n",
            "\n",
            "[569 rows x 1 columns]\n"
          ],
          "name": "stdout"
        }
      ]
    },
    {
      "cell_type": "code",
      "metadata": {
        "id": "Ru6RdZ03GXsP",
        "colab_type": "code",
        "colab": {
          "base_uri": "https://localhost:8080/",
          "height": 0
        },
        "outputId": "38f7ec62-f949-446a-a196-d3d35e4678d6"
      },
      "source": [
        "rx = (LR_X - np.min(LR_X))/(np.max(LR_X) - np.min(LR_X)).values \n",
        "print(rx)"
      ],
      "execution_count": 334,
      "outputs": [
        {
          "output_type": "stream",
          "text": [
            "     mean radius  mean texture  ...  worst symmetry  worst fractal dimension\n",
            "0       0.521037      0.022658  ...        0.598462                 0.418864\n",
            "1       0.643144      0.272574  ...        0.233590                 0.222878\n",
            "2       0.601496      0.390260  ...        0.403706                 0.213433\n",
            "3       0.210090      0.360839  ...        1.000000                 0.773711\n",
            "4       0.629893      0.156578  ...        0.157500                 0.142595\n",
            "..           ...           ...  ...             ...                      ...\n",
            "564     0.690000      0.428813  ...        0.097575                 0.105667\n",
            "565     0.622320      0.626987  ...        0.198502                 0.074315\n",
            "566     0.455251      0.621238  ...        0.128721                 0.151909\n",
            "567     0.644564      0.663510  ...        0.497142                 0.452315\n",
            "568     0.036869      0.501522  ...        0.257441                 0.100682\n",
            "\n",
            "[569 rows x 30 columns]\n"
          ],
          "name": "stdout"
        }
      ]
    },
    {
      "cell_type": "code",
      "metadata": {
        "id": "G25bFTqk102f",
        "colab_type": "code",
        "colab": {
          "base_uri": "https://localhost:8080/",
          "height": 0
        },
        "outputId": "b5698a53-ba58-4338-c405-fe1235b4c89b"
      },
      "source": [
        "#splitting daatsets\n",
        "\n",
        "rx_train,rx_test,ry_train,ry_test=tts(rx , LR_Y ,test_size=0.9,random_state=42)\n",
        "print(rx_train.shape)\n",
        "print(rx_test.shape)\n",
        "print(ry_train.shape)\n",
        "print(ry_test.shape)\n",
        "xtrain=np.asarray(rx_train)\n",
        "ytrain=np.asarray(ry_train)\n",
        "xtest=np.asarray(rx_test)\n",
        "ytest=np.asarray(ry_test)\n",
        "\n",
        "\n",
        "rx1_train,rx1_test,ry1_train,ry1_test=tts(rx , LR_Y ,test_size=0.8,random_state=42)\n",
        "print(rx1_train.shape)\n",
        "print(rx1_test.shape)\n",
        "print(ry1_train.shape)\n",
        "print(ry1_test.shape)\n",
        "xtrain1=np.asarray(rx1_train)\n",
        "ytrain1=np.asarray(ry1_train)\n",
        "xtest1=np.asarray(rx1_test)\n",
        "ytest1=np.asarray(ry1_test)\n",
        "\n",
        "rx2_train,rx2_test,ry2_train,ry2_test=tts(rx , LR_Y ,test_size=0.7,random_state=42)\n",
        "print(rx2_train.shape)\n",
        "print(rx2_test.shape)\n",
        "print(ry2_train.shape)\n",
        "print(ry2_test.shape)\n",
        "xtrain2=np.asarray(rx2_train)\n",
        "ytrain2=np.asarray(ry2_train)\n",
        "xtest2=np.asarray(rx2_test)\n",
        "ytest2=np.asarray(ry2_test)\n",
        "\n",
        "rx3_train,rx3_test,ry3_train,ry3_test=tts(rx , LR_Y ,test_size=0.6,random_state=42)\n",
        "print(rx3_train.shape)\n",
        "print(rx3_test.shape)\n",
        "print(ry3_train.shape)\n",
        "print(ry3_test.shape)\n",
        "xtrain3=np.asarray(rx3_train)\n",
        "ytrain3=np.asarray(ry3_train)\n",
        "xtest3=np.asarray(rx3_test)\n",
        "ytest3=np.asarray(ry3_test)\n",
        "\n",
        "\n",
        "rx4_train,rx4_test,ry4_train,ry4_test=tts(rx , LR_Y ,test_size=0.5,random_state=42)\n",
        "print(rx4_train.shape)\n",
        "print(rx4_test.shape)\n",
        "print(ry4_train.shape)\n",
        "print(ry4_test.shape)\n",
        "xtrain4=np.asarray(rx4_train)\n",
        "ytrain4=np.asarray(ry4_train)\n",
        "xtest4=np.asarray(rx4_test)\n",
        "ytest4=np.asarray(ry4_test)\n",
        "\n",
        "\n",
        "rx5_train,rx5_test,ry5_train,ry5_test=tts(rx, LR_Y ,test_size=0.4,random_state=42)\n",
        "print(rx5_train.shape)\n",
        "print(rx5_test.shape)\n",
        "print(ry5_train.shape)\n",
        "print(ry5_test.shape)\n",
        "xtrain5=np.asarray(rx5_train)\n",
        "ytrain5=np.asarray(ry5_train)\n",
        "xtest5=np.asarray(rx5_test)\n",
        "ytest5=np.asarray(ry5_test)\n",
        "\n"
      ],
      "execution_count": 335,
      "outputs": [
        {
          "output_type": "stream",
          "text": [
            "(56, 30)\n",
            "(513, 30)\n",
            "(56, 1)\n",
            "(513, 1)\n",
            "(113, 30)\n",
            "(456, 30)\n",
            "(113, 1)\n",
            "(456, 1)\n",
            "(170, 30)\n",
            "(399, 30)\n",
            "(170, 1)\n",
            "(399, 1)\n",
            "(227, 30)\n",
            "(342, 30)\n",
            "(227, 1)\n",
            "(342, 1)\n",
            "(284, 30)\n",
            "(285, 30)\n",
            "(284, 1)\n",
            "(285, 1)\n",
            "(341, 30)\n",
            "(228, 30)\n",
            "(341, 1)\n",
            "(228, 1)\n"
          ],
          "name": "stdout"
        }
      ]
    },
    {
      "cell_type": "code",
      "metadata": {
        "id": "ry1GG09bQp5j",
        "colab_type": "code",
        "colab": {}
      },
      "source": [
        "#initializing alpha and iterations \n",
        "\n",
        "alpha=0.000001\n",
        "iterations=10000"
      ],
      "execution_count": 336,
      "outputs": []
    },
    {
      "cell_type": "code",
      "metadata": {
        "id": "jlPl5P6tGF21",
        "colab_type": "code",
        "colab": {}
      },
      "source": [
        "#initializing with weight and bias\n",
        "\n",
        "def initialize(dim): \n",
        "\tw = np.full((dim, 1), 0.01) \n",
        "\tb = 0.0\n",
        "\treturn w, b "
      ],
      "execution_count": 337,
      "outputs": []
    },
    {
      "cell_type": "code",
      "metadata": {
        "id": "tTt5BYEMHTMi",
        "colab_type": "code",
        "colab": {}
      },
      "source": [
        "#calculate signmoid of x\n",
        "\n",
        "def sigmoid(rz): \n",
        "    return 1/(1 + np.exp(-rz)) \n",
        "    "
      ],
      "execution_count": 338,
      "outputs": []
    },
    {
      "cell_type": "code",
      "metadata": {
        "id": "HCKZUM7yM283",
        "colab_type": "code",
        "colab": {}
      },
      "source": [
        "#Function for doing forward and back propogation\n",
        "\n",
        "def propogate(x_t, y_t, w, b):\n",
        "    \n",
        "    l = x_t.shape[1] \n",
        "\n",
        "   \n",
        "    Z = np.dot(w.T, x_t) + b;    \n",
        "    A = sigmoid(Z)\n",
        "    cost= -(1/l) * np.sum(y_t * np.log(A) + (1-y_t) * np.log(1-A))\n",
        "    \n",
        "    #Back Propogation\n",
        "   \n",
        "    dw = (1/l)* np.dot(x_t, (A-y_t).T)\n",
        "    db = (1/l)* np.sum(A-y_t)\n",
        "    \n",
        "    grads= {\"dw\" : dw, \"db\" : db}\n",
        "    \n",
        "    return grads, cost"
      ],
      "execution_count": 339,
      "outputs": []
    },
    {
      "cell_type": "code",
      "metadata": {
        "id": "oSGjjJF9Ngf1",
        "colab_type": "code",
        "colab": {}
      },
      "source": [
        "#optimizing\n",
        "\n",
        "def optimize(x_t, y_t, w, b, iterations, alpha):\n",
        "    \n",
        "  \n",
        "    \n",
        "    for i in range(iterations):\n",
        " \n",
        "        grads, cost = propogate(x_t, y_t, w, b)\n",
        "        \n",
        "        dw = grads[\"dw\"]\n",
        "        db = grads[\"db\"]\n",
        "        \n",
        "        w = w - alpha * dw\n",
        "        b = b - alpha * db\n",
        "        \n",
        "            \n",
        "    parameters = {\"w\":w, \"b\":b}\n",
        "    grads = {\"dw\":dw, \"db\":db}\n",
        "    \n",
        "    \n",
        "    return parameters, grads"
      ],
      "execution_count": 340,
      "outputs": []
    },
    {
      "cell_type": "code",
      "metadata": {
        "id": "SHsxSdBOOAK5",
        "colab_type": "code",
        "colab": {}
      },
      "source": [
        "#Function for doing the predictions on the data set\n",
        "\n",
        "def predict(x_t, w, b):\n",
        "    \n",
        "    l = x_t.shape[1] \n",
        "    \n",
        "    y_pred =  np.zeros((1,l))\n",
        "    \n",
        "    w = w.reshape(x_t.shape[0], 1)\n",
        "    \n",
        "    A=sigmoid(np.dot(w.T, x_t)+b)\n",
        "    \n",
        "    \n",
        "    for i in range(A.shape[1]):\n",
        "        \n",
        "        if(A[0,i]<0.5):\n",
        "            y_pred[0,i]=0\n",
        "        else:\n",
        "            y_pred[0,i]=1\n",
        "            \n",
        "    \n",
        "    return y_pred"
      ],
      "execution_count": 341,
      "outputs": []
    },
    {
      "cell_type": "code",
      "metadata": {
        "id": "j0CVZn3QOdz9",
        "colab_type": "code",
        "colab": {}
      },
      "source": [
        "#Function for calculating the Logistic Regression \n",
        "\n",
        "def LOG_REG(Xtrain, Ytrain, iterations, alpha):\n",
        "    \n",
        "    dim = Xtrain.shape[0] \n",
        "    \n",
        "    w,b = initialize(dim)\n",
        "    \n",
        "    parameters, grads = optimize(Xtrain, Ytrain, w, b, iterations, alpha) \n",
        "    \n",
        "    w = parameters[\"w\"]\n",
        "    b = parameters[\"b\"]\n",
        "        \n",
        "    \n",
        "    d={\"w\":w, \"b\":b}\n",
        "    \n",
        "    return d"
      ],
      "execution_count": 342,
      "outputs": []
    },
    {
      "cell_type": "markdown",
      "metadata": {
        "id": "zqfVM3p7d3-v",
        "colab_type": "text"
      },
      "source": [
        "* *For Traning Data 10%*"
      ]
    },
    {
      "cell_type": "code",
      "metadata": {
        "id": "FylA4erEPp_C",
        "colab_type": "code",
        "colab": {
          "base_uri": "https://localhost:8080/",
          "height": 0
        },
        "outputId": "0307b85a-2f13-4426-f428-888667e166a7"
      },
      "source": [
        "#Training and testing\n",
        "\n",
        "ans=LOG_REG(xtrain.T,ytrain.T,iterations,alpha)\n",
        "\n",
        "w=ans[\"w\"]\n",
        "b=ans[\"b\"]\n",
        "Y_pred_train = predict(xtrain.T, w, b)\n",
        "Y_pred_test = predict(xtest.T, w, b)\n",
        "train=100 - np.mean(np.abs(Y_pred_train - ytrain.T))*100\n",
        "test=100 - np.mean(np.abs(Y_pred_test - ytest.T))*100\n",
        "print(\"\\nTrain accuracy : {}% \".format(train))\n",
        "print(\"\\nTest accuracy : {} %\".format(test))\n"
      ],
      "execution_count": 343,
      "outputs": [
        {
          "output_type": "stream",
          "text": [
            "\n",
            "Train accuracy : 66.07142857142857% \n",
            "\n",
            "Test accuracy : 62.37816764132554 %\n"
          ],
          "name": "stdout"
        }
      ]
    },
    {
      "cell_type": "markdown",
      "metadata": {
        "id": "3oms3nNAeJuf",
        "colab_type": "text"
      },
      "source": [
        "* *For Traning Data 20%*"
      ]
    },
    {
      "cell_type": "code",
      "metadata": {
        "id": "V25FBrNqXZvC",
        "colab_type": "code",
        "colab": {
          "base_uri": "https://localhost:8080/",
          "height": 0
        },
        "outputId": "1f9131d9-077f-4e5c-aed3-d907b51b84c9"
      },
      "source": [
        "#Training and testing\n",
        "\n",
        "ans1=LOG_REG(xtrain1.T,ytrain1.T,iterations,alpha)\n",
        "\n",
        "w1=ans1[\"w\"]\n",
        "b1=ans1[\"b\"]\n",
        "Y_pred_train = predict(xtrain1.T, w1, b1)\n",
        "Y_pred_test = predict(xtest1.T, w1, b1)\n",
        "train1=100 - np.mean(np.abs(Y_pred_train - ytrain1.T))*100\n",
        "test1=100 - np.mean(np.abs(Y_pred_test - ytest1.T))*100\n",
        "print(\"\\nTrain accuracy: {}% \".format(train1))\n",
        "print(\"\\nTest accuracy: {} %\".format(test1))"
      ],
      "execution_count": 344,
      "outputs": [
        {
          "output_type": "stream",
          "text": [
            "\n",
            "Train accuracy: 59.292035398230084% \n",
            "\n",
            "Test accuracy: 63.59649122807017 %\n"
          ],
          "name": "stdout"
        }
      ]
    },
    {
      "cell_type": "markdown",
      "metadata": {
        "id": "fJeHQrk-eM9j",
        "colab_type": "text"
      },
      "source": [
        "* *For Traning Data 30%*"
      ]
    },
    {
      "cell_type": "code",
      "metadata": {
        "id": "y2e7fVKvXZeY",
        "colab_type": "code",
        "colab": {
          "base_uri": "https://localhost:8080/",
          "height": 0
        },
        "outputId": "6b925cb6-35b8-48a6-ec5f-f76a9c33c5c7"
      },
      "source": [
        "#Training and testing\n",
        "\n",
        "ans2=LOG_REG(xtrain2.T,ytrain2.T,iterations,alpha)\n",
        "\n",
        "w2=ans2[\"w\"]\n",
        "b2=ans2[\"b\"]\n",
        "Y_pred_train = predict(xtrain2.T, w2, b2)\n",
        "Y_pred_test = predict(xtest2.T, w2, b2)\n",
        "train2=100 - np.mean(np.abs(Y_pred_train - ytrain2.T))*100\n",
        "test2=100 - np.mean(np.abs(Y_pred_test - ytest2.T))*100\n",
        "print(\"\\nTrain accuracy: {}% \".format(train2))\n",
        "print(\"\\nTest accuracy: {} %\".format(test2))"
      ],
      "execution_count": 345,
      "outputs": [
        {
          "output_type": "stream",
          "text": [
            "\n",
            "Train accuracy: 57.64705882352941% \n",
            "\n",
            "Test accuracy: 64.91228070175438 %\n"
          ],
          "name": "stdout"
        }
      ]
    },
    {
      "cell_type": "markdown",
      "metadata": {
        "id": "aFr5U6dOeQ0M",
        "colab_type": "text"
      },
      "source": [
        "* *For Traning Data 40%*"
      ]
    },
    {
      "cell_type": "code",
      "metadata": {
        "id": "aZJxfIRbXZGZ",
        "colab_type": "code",
        "colab": {
          "base_uri": "https://localhost:8080/",
          "height": 0
        },
        "outputId": "bd32e42c-aab5-4d51-f79d-f8dc6370a1cb"
      },
      "source": [
        "#Training and testing\n",
        "\n",
        "ans3=LOG_REG(xtrain3.T,ytrain3.T,iterations,alpha)\n",
        "\n",
        "w3=ans3[\"w\"]\n",
        "b3=ans3[\"b\"]\n",
        "Y_pred_train = predict(xtrain3.T, w3, b3)\n",
        "Y_pred_test = predict(xtest3.T, w3, b3)\n",
        "train3=100 - np.mean(np.abs(Y_pred_train - ytrain3.T))*100\n",
        "test3=100 - np.mean(np.abs(Y_pred_test - ytest3.T))*100\n",
        "print(\"\\nTrain accuracy : {}% \".format(train3))\n",
        "print(\"\\nTest accuracy : {} %\".format(test3))"
      ],
      "execution_count": 346,
      "outputs": [
        {
          "output_type": "stream",
          "text": [
            "\n",
            "Train accuracy : 60.79295154185022% \n",
            "\n",
            "Test accuracy : 64.03508771929825 %\n"
          ],
          "name": "stdout"
        }
      ]
    },
    {
      "cell_type": "markdown",
      "metadata": {
        "id": "70YTNduEeUOX",
        "colab_type": "text"
      },
      "source": [
        "* *For Traning Data 50%*"
      ]
    },
    {
      "cell_type": "code",
      "metadata": {
        "id": "skJAqoW3XY3G",
        "colab_type": "code",
        "colab": {
          "base_uri": "https://localhost:8080/",
          "height": 0
        },
        "outputId": "63bf3bdd-4ed0-4278-d3b9-9ee3b05c2839"
      },
      "source": [
        "#Training and testing\n",
        "\n",
        "ans4=LOG_REG(xtrain4.T,ytrain4.T,iterations,alpha)\n",
        "\n",
        "w4=ans4[\"w\"]\n",
        "b4=ans4[\"b\"]\n",
        "Y_pred_train = predict(xtrain4.T, w4, b4)\n",
        "Y_pred_test = predict(xtest4.T, w4, b4)\n",
        "train4=100 - np.mean(np.abs(Y_pred_train - ytrain4.T))*100\n",
        "test4=100 - np.mean(np.abs(Y_pred_test - ytest4.T))*100\n",
        "print(\"\\nTrain accuracy for 0%: {}% \".format(train4))\n",
        "print(\"\\nTest accuracy: {} %\".format(test4))"
      ],
      "execution_count": 347,
      "outputs": [
        {
          "output_type": "stream",
          "text": [
            "\n",
            "Train accuracy for 0%: 59.859154929577464% \n",
            "\n",
            "Test accuracy: 65.61403508771929 %\n"
          ],
          "name": "stdout"
        }
      ]
    },
    {
      "cell_type": "markdown",
      "metadata": {
        "id": "EF0EaN9meXfO",
        "colab_type": "text"
      },
      "source": [
        "* *For Traning Data 60%*"
      ]
    },
    {
      "cell_type": "code",
      "metadata": {
        "id": "ZEQOasCYXYiu",
        "colab_type": "code",
        "colab": {
          "base_uri": "https://localhost:8080/",
          "height": 0
        },
        "outputId": "90a96685-333c-4dbd-f124-f0d8389d7895"
      },
      "source": [
        "#Training and testing\n",
        "\n",
        "ans5=LOG_REG(xtrain5.T,ytrain5.T,iterations,alpha)\n",
        "\n",
        "w5=ans5[\"w\"]\n",
        "b5=ans5[\"b\"]\n",
        "Y_pred_train = predict(xtrain5.T, w5, b5)\n",
        "Y_pred_test = predict(xtest5.T, w5, b5)\n",
        "train5=100 - np.mean(np.abs(Y_pred_train - ytrain5.T))*100\n",
        "test5=100 - np.mean(np.abs(Y_pred_test - ytest5.T))*100\n",
        "print(\"\\nTrain accuracy: {}% \".format(train5))\n",
        "print(\"\\nTest accuracy: {} %\".format(test5))"
      ],
      "execution_count": 348,
      "outputs": [
        {
          "output_type": "stream",
          "text": [
            "\n",
            "Train accuracy: 61.29032258064516% \n",
            "\n",
            "Test accuracy: 64.91228070175438 %\n"
          ],
          "name": "stdout"
        }
      ]
    },
    {
      "cell_type": "code",
      "metadata": {
        "id": "YjZpeIZiYjxM",
        "colab_type": "code",
        "colab": {}
      },
      "source": [
        "#Writing Result to the CSV File\n",
        "\n",
        "def write_to_csv(output):\n",
        "  df_output =  pd.DataFrame(output,columns=['1. Amount of randomly selected training data','2.Training Accuracy(in %)','3.Test Accuracy(in %)'],dtype=float)\n",
        "  df_output.to_csv('output.csv')\n",
        "\n",
        "write_to_csv([['10%',train,test],['20%',train1,test1],['30%',train2,test2],['40%',train3,test3],['50%',train4,test4],['60%',train5,test5]])"
      ],
      "execution_count": 349,
      "outputs": []
    }
  ]
}